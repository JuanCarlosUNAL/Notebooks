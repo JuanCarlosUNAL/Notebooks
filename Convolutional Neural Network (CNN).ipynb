{
 "cells": [
  {
   "cell_type": "markdown",
   "metadata": {},
   "source": [
    "# Convolutional Neural Network"
   ]
  },
  {
   "cell_type": "code",
   "execution_count": 1,
   "metadata": {},
   "outputs": [],
   "source": [
    "import numpy as np\n",
    "from matplotlib import pyplot as plt\n",
    "import pandas as pd\n",
    "import mnist\n",
    "%matplotlib inline"
   ]
  },
  {
   "cell_type": "markdown",
   "metadata": {},
   "source": [
    "### Load Images and create kernels"
   ]
  },
  {
   "cell_type": "code",
   "execution_count": 2,
   "metadata": {},
   "outputs": [
    {
     "data": {
      "text/plain": [
       "<matplotlib.image.AxesImage at 0x2068c4ba748>"
      ]
     },
     "execution_count": 2,
     "metadata": {},
     "output_type": "execute_result"
    },
    {
     "data": {
      "image/png": "[encoded data removed]",
      "text/plain": [
       "<Figure size 432x288 with 1 Axes>"
      ]
     },
     "metadata": {
      "needs_background": "light"
     },
     "output_type": "display_data"
    }
   ],
   "source": [
    "image = mnist.train_images()[40]\n",
    "plt.imshow(image / 255 - .5, cmap='gray')"
   ]
  },
  {
   "cell_type": "markdown",
   "metadata": {},
   "source": [
    "### Convolution\n",
    "Funtion to perform a convolution for each kernel in kernelArray"
   ]
  },
  {
   "cell_type": "code",
   "execution_count": 3,
   "metadata": {},
   "outputs": [],
   "source": [
    "def singleConvolution(image, kernel):\n",
    "    imageW, imageH = image.shape\n",
    "    kernelW, kernelH = kernel.shape\n",
    "    \n",
    "    convolvedImage = np.zeros((imageW-kernelW, imageH-kernelH))\n",
    "    \n",
    "    for i in range(imageW-kernelW):\n",
    "        for j in range(imageH-kernelH):\n",
    "            auxMatrix = image[i:i+kernelW,j:j+kernelH] * kernel\n",
    "            convolvedImage[i, j] = auxMatrix.sum()\n",
    "    return convolvedImage\n",
    "            \n",
    "\n",
    "def convolveImage(image, kernelArray):\n",
    "    normalizedImage = (image / 255) - .5\n",
    "    return np.array([ singleConvolution(normalizedImage, kernel) for kernel in kernelArray ])\n",
    "    "
   ]
  },
  {
   "cell_type": "markdown",
   "metadata": {},
   "source": [
    "### Random Kernels"
   ]
  },
  {
   "cell_type": "code",
   "execution_count": 4,
   "metadata": {},
   "outputs": [],
   "source": [
    "NUMBER_KERNELS = 4\n",
    "kernels = np.random.randn(NUMBER_KERNELS,3,3) / 9"
   ]
  },
  {
   "cell_type": "code",
   "execution_count": 5,
   "metadata": {},
   "outputs": [
    {
     "data": {
      "image/png": "[encoded data removed]",
      "text/plain": [
       "<Figure size 432x288 with 4 Axes>"
      ]
     },
     "metadata": {
      "needs_background": "light"
     },
     "output_type": "display_data"
    }
   ],
   "source": [
    "fig, axs = plt.subplots(1, min(NUMBER_KERNELS, 7))\n",
    "for i in range(min(NUMBER_KERNELS, 7)):\n",
    "    axs[i].imshow(kernels[i], cmap='gray')"
   ]
  },
  {
   "cell_type": "markdown",
   "metadata": {},
   "source": [
    "### Apply kernels into the image"
   ]
  },
  {
   "cell_type": "code",
   "execution_count": 6,
   "metadata": {},
   "outputs": [],
   "source": [
    "imagesConvolved = convolveImage(image, kernels)"
   ]
  },
  {
   "cell_type": "code",
   "execution_count": 7,
   "metadata": {
    "scrolled": false
   },
   "outputs": [
    {
     "data": {
      "image/png": "[encoded data removed]",
      "text/plain": [
       "<Figure size 432x288 with 4 Axes>"
      ]
     },
     "metadata": {
      "needs_background": "light"
     },
     "output_type": "display_data"
    }
   ],
   "source": [
    "fig, axs = plt.subplots(1, min(NUMBER_KERNELS, 7))\n",
    "for i in range(min(NUMBER_KERNELS, 7)):\n",
    "    axs[i].imshow(imagesConvolved[i], cmap='gray')"
   ]
  },
  {
   "cell_type": "markdown",
   "metadata": {},
   "source": [
    "### Pooling \n",
    "Apply an algorithm to group or reduce similar values to a simpler image"
   ]
  },
  {
   "cell_type": "code",
   "execution_count": 8,
   "metadata": {},
   "outputs": [],
   "source": [
    "def pool(image, size = 2, function = np.max):\n",
    "    w, h = image.shape\n",
    "    sizeHorizontal = w // size\n",
    "    sizeVertical = h // size\n",
    "\n",
    "    ansImage = np.zeros([sizeVertical, sizeHorizontal])\n",
    "\n",
    "    for i in range(sizeHorizontal):\n",
    "        for j in range(sizeVertical):\n",
    "            ansImage[i,j] = function(image[i*size:(i+1)*size, j*size:(j+1)*size])\n",
    "    return ansImage\n",
    "\n",
    "def poolImages(images, function=np.max):\n",
    "    return np.array([pool(image, function=function, size = 2) for image in images])"
   ]
  },
  {
   "cell_type": "markdown",
   "metadata": {},
   "source": [
    "### Apply pooling to the convolved images"
   ]
  },
  {
   "cell_type": "code",
   "execution_count": 9,
   "metadata": {},
   "outputs": [],
   "source": [
    "imagesPooled = poolImages(imagesConvolved, function=np.median)"
   ]
  },
  {
   "cell_type": "code",
   "execution_count": 10,
   "metadata": {
    "scrolled": true
   },
   "outputs": [
    {
     "data": {
      "image/png": "[encoded data removed]",
      "text/plain": [
       "<Figure size 432x288 with 4 Axes>"
      ]
     },
     "metadata": {
      "needs_background": "light"
     },
     "output_type": "display_data"
    }
   ],
   "source": [
    "fig, axs = plt.subplots(1, min(NUMBER_KERNELS, 7))\n",
    "for i in range(min(NUMBER_KERNELS, 7)):\n",
    "    axs[i].imshow(imagesPooled[i], cmap='gray')"
   ]
  },
  {
   "cell_type": "markdown",
   "metadata": {},
   "source": [
    "### Neural Layer\n",
    "Now each processed image is flatted into a single array, and all pixel is treated as an input in our neural network\n",
    "\n",
    "![Network configuration](images/CNN.svg)"
   ]
  },
  {
   "cell_type": "code",
   "execution_count": 11,
   "metadata": {},
   "outputs": [],
   "source": [
    "def generateWeights(imageShape, output):\n",
    "    inputlayer = np.prod(imageShape)\n",
    "    weights = np.random.randn(inputlayer, output)\n",
    "    return pd.DataFrame(weights)"
   ]
  },
  {
   "cell_type": "markdown",
   "metadata": {},
   "source": [
    "### Generate weights for conections"
   ]
  },
  {
   "cell_type": "code",
   "execution_count": 12,
   "metadata": {
    "scrolled": true
   },
   "outputs": [
    {
     "data": {
      "text/html": [
       "<div>\n",
       "<style scoped>\n",
       "    .dataframe tbody tr th:only-of-type {\n",
       "        vertical-align: middle;\n",
       "    }\n",
       "\n",
       "    .dataframe tbody tr th {\n",
       "        vertical-align: top;\n",
       "    }\n",
       "\n",
       "    .dataframe thead th {\n",
       "        text-align: right;\n",
       "    }\n",
       "</style>\n",
       "<table border=\"1\" class=\"dataframe\">\n",
       "  <thead>\n",
       "    <tr style=\"text-align: right;\">\n",
       "      <th></th>\n",
       "      <th>0</th>\n",
       "      <th>1</th>\n",
       "      <th>2</th>\n",
       "      <th>3</th>\n",
       "      <th>4</th>\n",
       "      <th>5</th>\n",
       "      <th>6</th>\n",
       "      <th>7</th>\n",
       "      <th>8</th>\n",
       "      <th>9</th>\n",
       "    </tr>\n",
       "  </thead>\n",
       "  <tbody>\n",
       "    <tr>\n",
       "      <th>571</th>\n",
       "      <td>-0.365883</td>\n",
       "      <td>0.447099</td>\n",
       "      <td>-1.471752</td>\n",
       "      <td>0.583146</td>\n",
       "      <td>0.235899</td>\n",
       "      <td>-0.693070</td>\n",
       "      <td>-1.148435</td>\n",
       "      <td>-0.426485</td>\n",
       "      <td>0.423963</td>\n",
       "      <td>-0.358442</td>\n",
       "    </tr>\n",
       "    <tr>\n",
       "      <th>572</th>\n",
       "      <td>0.260679</td>\n",
       "      <td>0.296377</td>\n",
       "      <td>1.087194</td>\n",
       "      <td>-0.608515</td>\n",
       "      <td>-0.320272</td>\n",
       "      <td>-0.738035</td>\n",
       "      <td>0.412426</td>\n",
       "      <td>0.382567</td>\n",
       "      <td>0.418632</td>\n",
       "      <td>-1.497662</td>\n",
       "    </tr>\n",
       "    <tr>\n",
       "      <th>573</th>\n",
       "      <td>-0.036085</td>\n",
       "      <td>-0.527415</td>\n",
       "      <td>0.261306</td>\n",
       "      <td>0.637949</td>\n",
       "      <td>0.382641</td>\n",
       "      <td>-1.452442</td>\n",
       "      <td>-1.513402</td>\n",
       "      <td>0.383611</td>\n",
       "      <td>-1.070578</td>\n",
       "      <td>0.606564</td>\n",
       "    </tr>\n",
       "    <tr>\n",
       "      <th>574</th>\n",
       "      <td>0.713355</td>\n",
       "      <td>1.082814</td>\n",
       "      <td>1.327227</td>\n",
       "      <td>2.028021</td>\n",
       "      <td>-0.882122</td>\n",
       "      <td>0.307846</td>\n",
       "      <td>0.212370</td>\n",
       "      <td>0.143644</td>\n",
       "      <td>1.458235</td>\n",
       "      <td>-1.679590</td>\n",
       "    </tr>\n",
       "    <tr>\n",
       "      <th>575</th>\n",
       "      <td>-0.448185</td>\n",
       "      <td>-0.416336</td>\n",
       "      <td>1.756275</td>\n",
       "      <td>0.819101</td>\n",
       "      <td>0.965116</td>\n",
       "      <td>0.287789</td>\n",
       "      <td>-1.796784</td>\n",
       "      <td>0.151293</td>\n",
       "      <td>-0.797455</td>\n",
       "      <td>0.694138</td>\n",
       "    </tr>\n",
       "  </tbody>\n",
       "</table>\n",
       "</div>"
      ],
      "text/plain": [
       "            0         1         2         3         4         5         6  \\\n",
       "571 -0.365883  0.447099 -1.471752  0.583146  0.235899 -0.693070 -1.148435   \n",
       "572  0.260679  0.296377  1.087194 -0.608515 -0.320272 -0.738035  0.412426   \n",
       "573 -0.036085 -0.527415  0.261306  0.637949  0.382641 -1.452442 -1.513402   \n",
       "574  0.713355  1.082814  1.327227  2.028021 -0.882122  0.307846  0.212370   \n",
       "575 -0.448185 -0.416336  1.756275  0.819101  0.965116  0.287789 -1.796784   \n",
       "\n",
       "            7         8         9  \n",
       "571 -0.426485  0.423963 -0.358442  \n",
       "572  0.382567  0.418632 -1.497662  \n",
       "573  0.383611 -1.070578  0.606564  \n",
       "574  0.143644  1.458235 -1.679590  \n",
       "575  0.151293 -0.797455  0.694138  "
      ]
     },
     "execution_count": 12,
     "metadata": {},
     "output_type": "execute_result"
    }
   ],
   "source": [
    "weights = generateWeights(imagesPooled.shape, 10)\n",
    "weights.tail()"
   ]
  },
  {
   "cell_type": "markdown",
   "metadata": {},
   "source": [
    "### Apply weiths and cross-entropy to the image"
   ]
  },
  {
   "cell_type": "code",
   "execution_count": 13,
   "metadata": {},
   "outputs": [],
   "source": [
    "def forwardSoftmax(imageDf, weightsDf):\n",
    "    imagesWeigthed = imageDf.dot(weightsDf)\n",
    "    exp = imagesWeigthed.apply(np.exp)\n",
    "    return exp.apply(lambda row: row/row.sum(), axis=1)"
   ]
  },
  {
   "cell_type": "markdown",
   "metadata": {},
   "source": [
    "### Flat the image in a single array as the input layer of the CNN"
   ]
  },
  {
   "cell_type": "code",
   "execution_count": 14,
   "metadata": {
    "scrolled": true
   },
   "outputs": [
    {
     "data": {
      "text/html": [
       "<div>\n",
       "<style scoped>\n",
       "    .dataframe tbody tr th:only-of-type {\n",
       "        vertical-align: middle;\n",
       "    }\n",
       "\n",
       "    .dataframe tbody tr th {\n",
       "        vertical-align: top;\n",
       "    }\n",
       "\n",
       "    .dataframe thead th {\n",
       "        text-align: right;\n",
       "    }\n",
       "</style>\n",
       "<table border=\"1\" class=\"dataframe\">\n",
       "  <thead>\n",
       "    <tr style=\"text-align: right;\">\n",
       "      <th></th>\n",
       "      <th>0</th>\n",
       "      <th>1</th>\n",
       "      <th>2</th>\n",
       "      <th>3</th>\n",
       "      <th>4</th>\n",
       "      <th>5</th>\n",
       "      <th>6</th>\n",
       "      <th>7</th>\n",
       "      <th>8</th>\n",
       "      <th>9</th>\n",
       "      <th>...</th>\n",
       "      <th>566</th>\n",
       "      <th>567</th>\n",
       "      <th>568</th>\n",
       "      <th>569</th>\n",
       "      <th>570</th>\n",
       "      <th>571</th>\n",
       "      <th>572</th>\n",
       "      <th>573</th>\n",
       "      <th>574</th>\n",
       "      <th>575</th>\n",
       "    </tr>\n",
       "  </thead>\n",
       "  <tbody>\n",
       "    <tr>\n",
       "      <th>0</th>\n",
       "      <td>-0.3337</td>\n",
       "      <td>-0.3337</td>\n",
       "      <td>-0.3337</td>\n",
       "      <td>-0.3337</td>\n",
       "      <td>-0.3337</td>\n",
       "      <td>-0.3337</td>\n",
       "      <td>-0.3337</td>\n",
       "      <td>-0.3337</td>\n",
       "      <td>-0.3337</td>\n",
       "      <td>-0.3337</td>\n",
       "      <td>...</td>\n",
       "      <td>-0.302526</td>\n",
       "      <td>-0.302526</td>\n",
       "      <td>-0.302526</td>\n",
       "      <td>-0.090786</td>\n",
       "      <td>-0.146472</td>\n",
       "      <td>-0.259637</td>\n",
       "      <td>-0.302526</td>\n",
       "      <td>-0.302526</td>\n",
       "      <td>-0.302526</td>\n",
       "      <td>-0.302526</td>\n",
       "    </tr>\n",
       "  </tbody>\n",
       "</table>\n",
       "<p>1 rows × 576 columns</p>\n",
       "</div>"
      ],
      "text/plain": [
       "      0       1       2       3       4       5       6       7       8    \\\n",
       "0 -0.3337 -0.3337 -0.3337 -0.3337 -0.3337 -0.3337 -0.3337 -0.3337 -0.3337   \n",
       "\n",
       "      9    ...       566       567       568       569       570       571  \\\n",
       "0 -0.3337  ... -0.302526 -0.302526 -0.302526 -0.090786 -0.146472 -0.259637   \n",
       "\n",
       "        572       573       574       575  \n",
       "0 -0.302526 -0.302526 -0.302526 -0.302526  \n",
       "\n",
       "[1 rows x 576 columns]"
      ]
     },
     "execution_count": 14,
     "metadata": {},
     "output_type": "execute_result"
    }
   ],
   "source": [
    "imageDf = pd.DataFrame(imagesPooled.flatten()).transpose()\n",
    "imageDf"
   ]
  },
  {
   "cell_type": "markdown",
   "metadata": {},
   "source": [
    "### Apply forward algorithm"
   ]
  },
  {
   "cell_type": "code",
   "execution_count": 15,
   "metadata": {
    "scrolled": true
   },
   "outputs": [
    {
     "data": {
      "text/html": [
       "<div>\n",
       "<style scoped>\n",
       "    .dataframe tbody tr th:only-of-type {\n",
       "        vertical-align: middle;\n",
       "    }\n",
       "\n",
       "    .dataframe tbody tr th {\n",
       "        vertical-align: top;\n",
       "    }\n",
       "\n",
       "    .dataframe thead th {\n",
       "        text-align: right;\n",
       "    }\n",
       "</style>\n",
       "<table border=\"1\" class=\"dataframe\">\n",
       "  <thead>\n",
       "    <tr style=\"text-align: right;\">\n",
       "      <th></th>\n",
       "      <th>0</th>\n",
       "      <th>1</th>\n",
       "      <th>2</th>\n",
       "      <th>3</th>\n",
       "      <th>4</th>\n",
       "      <th>5</th>\n",
       "      <th>6</th>\n",
       "      <th>7</th>\n",
       "      <th>8</th>\n",
       "      <th>9</th>\n",
       "    </tr>\n",
       "  </thead>\n",
       "  <tbody>\n",
       "    <tr>\n",
       "      <th>0</th>\n",
       "      <td>0.000025</td>\n",
       "      <td>5.313375e-11</td>\n",
       "      <td>0.756235</td>\n",
       "      <td>0.211849</td>\n",
       "      <td>0.003326</td>\n",
       "      <td>0.02589</td>\n",
       "      <td>0.002589</td>\n",
       "      <td>0.000007</td>\n",
       "      <td>0.000079</td>\n",
       "      <td>7.119818e-08</td>\n",
       "    </tr>\n",
       "  </tbody>\n",
       "</table>\n",
       "</div>"
      ],
      "text/plain": [
       "          0             1         2         3         4        5         6  \\\n",
       "0  0.000025  5.313375e-11  0.756235  0.211849  0.003326  0.02589  0.002589   \n",
       "\n",
       "          7         8             9  \n",
       "0  0.000007  0.000079  7.119818e-08  "
      ]
     },
     "execution_count": 15,
     "metadata": {},
     "output_type": "execute_result"
    }
   ],
   "source": [
    "forwardSoftmax(imageDf, weights)"
   ]
  },
  {
   "cell_type": "markdown",
   "metadata": {},
   "source": [
    "# Test CNN "
   ]
  },
  {
   "cell_type": "code",
   "execution_count": 16,
   "metadata": {},
   "outputs": [],
   "source": [
    "test_images = mnist.test_images()[:1000]\n",
    "test_labels = mnist.test_labels()[:1000]"
   ]
  },
  {
   "cell_type": "code",
   "execution_count": 17,
   "metadata": {},
   "outputs": [],
   "source": [
    "def prepareImage(image):\n",
    "    imageConvolved = convolveImage(image,kernels)\n",
    "    imagePooled = poolImages(imageConvolved, function=np.max)\n",
    "    return imagePooled.flatten()"
   ]
  },
  {
   "cell_type": "markdown",
   "metadata": {},
   "source": [
    "### Get flat images DataFrame"
   ]
  },
  {
   "cell_type": "code",
   "execution_count": 18,
   "metadata": {
    "scrolled": true
   },
   "outputs": [
    {
     "data": {
      "text/html": [
       "<div>\n",
       "<style scoped>\n",
       "    .dataframe tbody tr th:only-of-type {\n",
       "        vertical-align: middle;\n",
       "    }\n",
       "\n",
       "    .dataframe tbody tr th {\n",
       "        vertical-align: top;\n",
       "    }\n",
       "\n",
       "    .dataframe thead th {\n",
       "        text-align: right;\n",
       "    }\n",
       "</style>\n",
       "<table border=\"1\" class=\"dataframe\">\n",
       "  <thead>\n",
       "    <tr style=\"text-align: right;\">\n",
       "      <th></th>\n",
       "      <th>0</th>\n",
       "      <th>1</th>\n",
       "      <th>2</th>\n",
       "      <th>3</th>\n",
       "      <th>4</th>\n",
       "      <th>5</th>\n",
       "      <th>6</th>\n",
       "      <th>7</th>\n",
       "      <th>8</th>\n",
       "      <th>9</th>\n",
       "      <th>...</th>\n",
       "      <th>566</th>\n",
       "      <th>567</th>\n",
       "      <th>568</th>\n",
       "      <th>569</th>\n",
       "      <th>570</th>\n",
       "      <th>571</th>\n",
       "      <th>572</th>\n",
       "      <th>573</th>\n",
       "      <th>574</th>\n",
       "      <th>575</th>\n",
       "    </tr>\n",
       "  </thead>\n",
       "  <tbody>\n",
       "    <tr>\n",
       "      <th>995</th>\n",
       "      <td>-0.3337</td>\n",
       "      <td>-0.3337</td>\n",
       "      <td>-0.3337</td>\n",
       "      <td>-0.3337</td>\n",
       "      <td>-0.312449</td>\n",
       "      <td>-0.262166</td>\n",
       "      <td>-0.242216</td>\n",
       "      <td>-0.293809</td>\n",
       "      <td>-0.3337</td>\n",
       "      <td>-0.3337</td>\n",
       "      <td>...</td>\n",
       "      <td>-0.244166</td>\n",
       "      <td>-0.144005</td>\n",
       "      <td>-0.211702</td>\n",
       "      <td>-0.242645</td>\n",
       "      <td>-0.277219</td>\n",
       "      <td>-0.302526</td>\n",
       "      <td>-0.302526</td>\n",
       "      <td>-0.302526</td>\n",
       "      <td>-0.302526</td>\n",
       "      <td>-0.302526</td>\n",
       "    </tr>\n",
       "    <tr>\n",
       "      <th>996</th>\n",
       "      <td>-0.3337</td>\n",
       "      <td>-0.3337</td>\n",
       "      <td>-0.3337</td>\n",
       "      <td>-0.3337</td>\n",
       "      <td>-0.281078</td>\n",
       "      <td>-0.263877</td>\n",
       "      <td>-0.279116</td>\n",
       "      <td>-0.297726</td>\n",
       "      <td>-0.3337</td>\n",
       "      <td>-0.3337</td>\n",
       "      <td>...</td>\n",
       "      <td>-0.277077</td>\n",
       "      <td>-0.291913</td>\n",
       "      <td>-0.275328</td>\n",
       "      <td>-0.294639</td>\n",
       "      <td>-0.302526</td>\n",
       "      <td>-0.302526</td>\n",
       "      <td>-0.302526</td>\n",
       "      <td>-0.302526</td>\n",
       "      <td>-0.202739</td>\n",
       "      <td>-0.271358</td>\n",
       "    </tr>\n",
       "    <tr>\n",
       "      <th>997</th>\n",
       "      <td>-0.3337</td>\n",
       "      <td>-0.3337</td>\n",
       "      <td>-0.3337</td>\n",
       "      <td>-0.3337</td>\n",
       "      <td>-0.333700</td>\n",
       "      <td>-0.333700</td>\n",
       "      <td>-0.333700</td>\n",
       "      <td>-0.333700</td>\n",
       "      <td>-0.3337</td>\n",
       "      <td>-0.3337</td>\n",
       "      <td>...</td>\n",
       "      <td>-0.196728</td>\n",
       "      <td>-0.028201</td>\n",
       "      <td>0.051381</td>\n",
       "      <td>0.053033</td>\n",
       "      <td>0.051786</td>\n",
       "      <td>-0.057086</td>\n",
       "      <td>-0.206829</td>\n",
       "      <td>-0.295549</td>\n",
       "      <td>-0.302526</td>\n",
       "      <td>-0.302526</td>\n",
       "    </tr>\n",
       "    <tr>\n",
       "      <th>998</th>\n",
       "      <td>-0.3337</td>\n",
       "      <td>-0.3337</td>\n",
       "      <td>-0.3337</td>\n",
       "      <td>-0.3337</td>\n",
       "      <td>-0.333700</td>\n",
       "      <td>-0.333700</td>\n",
       "      <td>-0.333700</td>\n",
       "      <td>-0.333700</td>\n",
       "      <td>-0.3337</td>\n",
       "      <td>-0.3337</td>\n",
       "      <td>...</td>\n",
       "      <td>-0.302526</td>\n",
       "      <td>-0.295044</td>\n",
       "      <td>-0.151648</td>\n",
       "      <td>-0.114055</td>\n",
       "      <td>-0.114500</td>\n",
       "      <td>-0.164321</td>\n",
       "      <td>-0.232450</td>\n",
       "      <td>-0.282807</td>\n",
       "      <td>-0.302526</td>\n",
       "      <td>-0.302526</td>\n",
       "    </tr>\n",
       "    <tr>\n",
       "      <th>999</th>\n",
       "      <td>-0.3337</td>\n",
       "      <td>-0.3337</td>\n",
       "      <td>-0.3337</td>\n",
       "      <td>-0.3337</td>\n",
       "      <td>-0.333700</td>\n",
       "      <td>-0.333700</td>\n",
       "      <td>-0.333700</td>\n",
       "      <td>-0.333700</td>\n",
       "      <td>-0.3337</td>\n",
       "      <td>-0.3337</td>\n",
       "      <td>...</td>\n",
       "      <td>-0.302526</td>\n",
       "      <td>-0.302526</td>\n",
       "      <td>-0.302526</td>\n",
       "      <td>-0.302526</td>\n",
       "      <td>0.185990</td>\n",
       "      <td>0.116964</td>\n",
       "      <td>-0.204386</td>\n",
       "      <td>-0.302526</td>\n",
       "      <td>-0.302526</td>\n",
       "      <td>-0.302526</td>\n",
       "    </tr>\n",
       "  </tbody>\n",
       "</table>\n",
       "<p>5 rows × 576 columns</p>\n",
       "</div>"
      ],
      "text/plain": [
       "        0       1       2       3         4         5         6         7    \\\n",
       "995 -0.3337 -0.3337 -0.3337 -0.3337 -0.312449 -0.262166 -0.242216 -0.293809   \n",
       "996 -0.3337 -0.3337 -0.3337 -0.3337 -0.281078 -0.263877 -0.279116 -0.297726   \n",
       "997 -0.3337 -0.3337 -0.3337 -0.3337 -0.333700 -0.333700 -0.333700 -0.333700   \n",
       "998 -0.3337 -0.3337 -0.3337 -0.3337 -0.333700 -0.333700 -0.333700 -0.333700   \n",
       "999 -0.3337 -0.3337 -0.3337 -0.3337 -0.333700 -0.333700 -0.333700 -0.333700   \n",
       "\n",
       "        8       9    ...       566       567       568       569       570  \\\n",
       "995 -0.3337 -0.3337  ... -0.244166 -0.144005 -0.211702 -0.242645 -0.277219   \n",
       "996 -0.3337 -0.3337  ... -0.277077 -0.291913 -0.275328 -0.294639 -0.302526   \n",
       "997 -0.3337 -0.3337  ... -0.196728 -0.028201  0.051381  0.053033  0.051786   \n",
       "998 -0.3337 -0.3337  ... -0.302526 -0.295044 -0.151648 -0.114055 -0.114500   \n",
       "999 -0.3337 -0.3337  ... -0.302526 -0.302526 -0.302526 -0.302526  0.185990   \n",
       "\n",
       "          571       572       573       574       575  \n",
       "995 -0.302526 -0.302526 -0.302526 -0.302526 -0.302526  \n",
       "996 -0.302526 -0.302526 -0.302526 -0.202739 -0.271358  \n",
       "997 -0.057086 -0.206829 -0.295549 -0.302526 -0.302526  \n",
       "998 -0.164321 -0.232450 -0.282807 -0.302526 -0.302526  \n",
       "999  0.116964 -0.204386 -0.302526 -0.302526 -0.302526  \n",
       "\n",
       "[5 rows x 576 columns]"
      ]
     },
     "execution_count": 18,
     "metadata": {},
     "output_type": "execute_result"
    }
   ],
   "source": [
    "preparedImages = map(prepareImage, test_images)\n",
    "imagesDf = pd.DataFrame(preparedImages)\n",
    "imagesDf.tail()"
   ]
  },
  {
   "cell_type": "markdown",
   "metadata": {},
   "source": [
    "### So we can see that it has a low capacity to predict the numbers"
   ]
  },
  {
   "cell_type": "code",
   "execution_count": 19,
   "metadata": {},
   "outputs": [
    {
     "data": {
      "text/html": [
       "<div>\n",
       "<style scoped>\n",
       "    .dataframe tbody tr th:only-of-type {\n",
       "        vertical-align: middle;\n",
       "    }\n",
       "\n",
       "    .dataframe tbody tr th {\n",
       "        vertical-align: top;\n",
       "    }\n",
       "\n",
       "    .dataframe thead th {\n",
       "        text-align: right;\n",
       "    }\n",
       "</style>\n",
       "<table border=\"1\" class=\"dataframe\">\n",
       "  <thead>\n",
       "    <tr style=\"text-align: right;\">\n",
       "      <th></th>\n",
       "      <th>0</th>\n",
       "      <th>1</th>\n",
       "      <th>2</th>\n",
       "      <th>3</th>\n",
       "      <th>4</th>\n",
       "      <th>5</th>\n",
       "      <th>6</th>\n",
       "      <th>7</th>\n",
       "      <th>8</th>\n",
       "      <th>9</th>\n",
       "      <th>ans</th>\n",
       "      <th>label</th>\n",
       "    </tr>\n",
       "  </thead>\n",
       "  <tbody>\n",
       "    <tr>\n",
       "      <th>0</th>\n",
       "      <td>7.718089e-08</td>\n",
       "      <td>3.394441e-07</td>\n",
       "      <td>6.040525e-02</td>\n",
       "      <td>8.691775e-01</td>\n",
       "      <td>5.348959e-02</td>\n",
       "      <td>0.014850</td>\n",
       "      <td>9.590300e-06</td>\n",
       "      <td>0.000055</td>\n",
       "      <td>2.026744e-05</td>\n",
       "      <td>1.992450e-03</td>\n",
       "      <td>3</td>\n",
       "      <td>7</td>\n",
       "    </tr>\n",
       "    <tr>\n",
       "      <th>1</th>\n",
       "      <td>5.832936e-02</td>\n",
       "      <td>1.205779e-04</td>\n",
       "      <td>2.232700e-01</td>\n",
       "      <td>1.561517e-03</td>\n",
       "      <td>7.978689e-03</td>\n",
       "      <td>0.676648</td>\n",
       "      <td>1.100980e-02</td>\n",
       "      <td>0.021023</td>\n",
       "      <td>1.066941e-05</td>\n",
       "      <td>4.769930e-05</td>\n",
       "      <td>5</td>\n",
       "      <td>2</td>\n",
       "    </tr>\n",
       "    <tr>\n",
       "      <th>2</th>\n",
       "      <td>1.169422e-06</td>\n",
       "      <td>2.042410e-10</td>\n",
       "      <td>9.195902e-01</td>\n",
       "      <td>3.511166e-02</td>\n",
       "      <td>4.862756e-04</td>\n",
       "      <td>0.043952</td>\n",
       "      <td>5.307564e-04</td>\n",
       "      <td>0.000007</td>\n",
       "      <td>3.204025e-04</td>\n",
       "      <td>1.244197e-07</td>\n",
       "      <td>2</td>\n",
       "      <td>1</td>\n",
       "    </tr>\n",
       "    <tr>\n",
       "      <th>3</th>\n",
       "      <td>1.002083e-10</td>\n",
       "      <td>3.950798e-11</td>\n",
       "      <td>1.002273e-07</td>\n",
       "      <td>2.767226e-10</td>\n",
       "      <td>2.522773e-09</td>\n",
       "      <td>0.999055</td>\n",
       "      <td>3.595736e-08</td>\n",
       "      <td>0.000945</td>\n",
       "      <td>8.564352e-09</td>\n",
       "      <td>9.797241e-08</td>\n",
       "      <td>5</td>\n",
       "      <td>0</td>\n",
       "    </tr>\n",
       "    <tr>\n",
       "      <th>4</th>\n",
       "      <td>1.124562e-06</td>\n",
       "      <td>3.117093e-05</td>\n",
       "      <td>3.214792e-04</td>\n",
       "      <td>1.415846e-03</td>\n",
       "      <td>1.290378e-04</td>\n",
       "      <td>0.996970</td>\n",
       "      <td>3.873978e-06</td>\n",
       "      <td>0.000639</td>\n",
       "      <td>9.769264e-05</td>\n",
       "      <td>3.902495e-04</td>\n",
       "      <td>5</td>\n",
       "      <td>4</td>\n",
       "    </tr>\n",
       "  </tbody>\n",
       "</table>\n",
       "</div>"
      ],
      "text/plain": [
       "              0             1             2             3             4  \\\n",
       "0  7.718089e-08  3.394441e-07  6.040525e-02  8.691775e-01  5.348959e-02   \n",
       "1  5.832936e-02  1.205779e-04  2.232700e-01  1.561517e-03  7.978689e-03   \n",
       "2  1.169422e-06  2.042410e-10  9.195902e-01  3.511166e-02  4.862756e-04   \n",
       "3  1.002083e-10  3.950798e-11  1.002273e-07  2.767226e-10  2.522773e-09   \n",
       "4  1.124562e-06  3.117093e-05  3.214792e-04  1.415846e-03  1.290378e-04   \n",
       "\n",
       "          5             6         7             8             9  ans  label  \n",
       "0  0.014850  9.590300e-06  0.000055  2.026744e-05  1.992450e-03    3      7  \n",
       "1  0.676648  1.100980e-02  0.021023  1.066941e-05  4.769930e-05    5      2  \n",
       "2  0.043952  5.307564e-04  0.000007  3.204025e-04  1.244197e-07    2      1  \n",
       "3  0.999055  3.595736e-08  0.000945  8.564352e-09  9.797241e-08    5      0  \n",
       "4  0.996970  3.873978e-06  0.000639  9.769264e-05  3.902495e-04    5      4  "
      ]
     },
     "execution_count": 19,
     "metadata": {},
     "output_type": "execute_result"
    }
   ],
   "source": [
    "answer = forwardSoftmax(imagesDf, weights) # Get probabilities\n",
    "answer['ans'] = answer.idxmax(axis=1) # Get higher probability\n",
    "answer['label'] = test_labels\n",
    "answer.head()"
   ]
  }
 ],
 "metadata": {
  "kernelspec": {
   "display_name": "Python 3",
   "language": "python",
   "name": "python3"
  },
  "language_info": {
   "codemirror_mode": {
    "name": "ipython",
    "version": 3
   },
   "file_extension": ".py",
   "mimetype": "text/x-python",
   "name": "python",
   "nbconvert_exporter": "python",
   "pygments_lexer": "ipython3",
   "version": "3.7.3"
  }
 },
 "nbformat": 4,
 "nbformat_minor": 2
}
