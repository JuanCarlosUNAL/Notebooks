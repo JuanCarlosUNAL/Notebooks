{
 "nbformat": 4,
 "nbformat_minor": 2,
 "metadata": {
  "language_info": {
   "name": "python",
   "codemirror_mode": {
    "name": "ipython",
    "version": 3
   },
   "version": "3.7.6-final"
  },
  "orig_nbformat": 2,
  "file_extension": ".py",
  "mimetype": "text/x-python",
  "name": "python",
  "npconvert_exporter": "python",
  "pygments_lexer": "ipython3",
  "version": 3,
  "kernelspec": {
   "name": "python38164bitnlpconda91879d213a784cd7ad50df7b2e78c33c",
   "display_name": "Python 3.8.1 64-bit ('nlp': conda)"
  }
 },
 "cells": [
  {
   "cell_type": "code",
   "execution_count": 1,
   "metadata": {},
   "outputs": [],
   "source": [
    "import re\n",
    "import nltk\n",
    "import pandas as pd\n",
    "import numpy as np"
   ]
  },
  {
   "cell_type": "markdown",
   "metadata": {},
   "source": [
    "## Divide into training and testing corpus"
   ]
  },
  {
   "cell_type": "code",
   "execution_count": 2,
   "metadata": {},
   "outputs": [],
   "source": [
    "training_files = [\n",
    "    '../files/allan_poe/berenice.txt',\n",
    "    '../files/allan_poe/decenso_al_maelstron.txt',\n",
    "    '../files/allan_poe/el_barril_de_amontillado.txt',\n",
    "    '../files/allan_poe/el_diablo_en_el_campanario.txt',\n",
    "    '../files/allan_poe/el_engaño_del_globo.txt',\n",
    "    '../files/allan_poe/el_entierro_prematuro.txt',\n",
    "    '../files/allan_poe/el_hombre_de_la_multitud.txt',\n",
    "    '../files/allan_poe/el_retrato_oval.txt',\n",
    "    '../files/allan_poe/gato_negro.txt',\n",
    "    '../files/allan_poe/la_caída_de_la_casa_usher.txt',\n",
    "    '../files/allan_poe/la_esfinje.txt',\n",
    "    '../files/allan_poe/la_máscara_de_la_muerte_roja.txt',\n",
    "    '../files/allan_poe/lady_ligeia.txt',\n",
    "\n",
    "    '../Files/cien_soledad.txt',\n",
    "    '../Files/el_principito.txt',\n",
    "    '../Files/la_isla_del_tesoro.txt',\n",
    "]\n",
    "testing_files = [\n",
    "    '../files/allan_poe/metzengerstein.txt',\n",
    "    '../files/allan_poe/morerlla.txt',\n",
    "    '../files/allan_poe/william_wilson.txt',\n",
    "]"
   ]
  },
  {
   "cell_type": "code",
   "execution_count": 3,
   "metadata": {},
   "outputs": [
    {
     "output_type": "execute_result",
     "data": {
      "text/plain": "../files/allan_poe/berenice.txt                        La desdicha es diversa. La desgracia cunde mul...\n../files/allan_poe/decenso_al_maelstron.txt            Habíamos alcanzado la cumbre del despeñadero m...\n../files/allan_poe/el_barril_de_amontillado.txt        Lo mejor que pude había soportado las mil inju...\n../files/allan_poe/el_diablo_en_el_campanario.txt      Todos saben de una manera vaga que el lugar má...\n../files/allan_poe/el_engaño_del_globo.txt             ¡Asombrosas noticias por expreso, vía Norfolk!...\n../files/allan_poe/el_entierro_prematuro.txt           Hay ciertos temas de interés absorbente, pero ...\n../files/allan_poe/el_hombre_de_la_multitud.txt        Con razón se ha dicho de cierto libro alemán q...\n../files/allan_poe/el_retrato_oval.txt                 El castillo en el cual mi criado se le había o...\n../files/allan_poe/gato_negro.txt                      No espero ni pido que alguien crea en el extra...\n../files/allan_poe/la_caída_de_la_casa_usher.txt       Durante todo un día de otoño, triste, oscuro, ...\n../files/allan_poe/la_esfinje.txt                      Durante el pavoroso reinado del cólera en Nuev...\n../files/allan_poe/la_máscara_de_la_muerte_roja.txt    La \"Muerte Roja \" había devastado el país dura...\n../files/allan_poe/lady_ligeia.txt                     Juro por mi alma que no puedo recordar cómo, c...\n../Files/cien_soledad.txt                              Muchos años después, frente al pelotón de fusi...\n../Files/el_principito.txt                             cuando yo tenía seis años vi en un libro sobre...\n../Files/la_isla_del_tesoro.txt                        parte i el viejo filibustero \\ncapítulo i el v...\ndtype: object"
     },
     "metadata": {},
     "execution_count": 3
    }
   ],
   "source": [
    "# Create training corpus\n",
    "texts = []\n",
    "for file_name in training_files:\n",
    "    file = open(file_name, 'r')\n",
    "    texts += [file.read()]\n",
    "    file.close()\n",
    "texts = pd.Series(texts, index=training_files)\n",
    "training_text = ''.join(texts)\n",
    "\n",
    "texts"
   ]
  },
  {
   "cell_type": "code",
   "execution_count": 4,
   "metadata": {},
   "outputs": [
    {
     "output_type": "execute_result",
     "data": {
      "text/plain": "../files/allan_poe/metzengerstein.txt    El horror y la fatalidad han estado al acecho ...\n../files/allan_poe/morerlla.txt          Consideraba yo a mi amiga Morella con un senti...\n../files/allan_poe/william_wilson.txt    Permitan que, por el momento, me presente como...\ndtype: object"
     },
     "metadata": {},
     "execution_count": 4
    }
   ],
   "source": [
    "# Create testing corpus\n",
    "texts = []\n",
    "for file_name in testing_files:\n",
    "    file = open(file_name, 'r')\n",
    "    texts += [file.read()]\n",
    "    file.close()\n",
    "texts = pd.Series(texts, index=testing_files)\n",
    "testing_text = ''.join(texts)\n",
    "texts"
   ]
  },
  {
   "cell_type": "markdown",
   "metadata": {},
   "source": [
    "## Tokenization"
   ]
  },
  {
   "cell_type": "code",
   "execution_count": 5,
   "metadata": {},
   "outputs": [
    {
     "output_type": "execute_result",
     "data": {
      "text/plain": "0               la\n1         desdicha\n2               es\n3          diversa\n4              <s>\n            ...   \n309510        ocho\n309511      piezas\n309512          de\n309513           á\n309514        ocho\nLength: 309515, dtype: object"
     },
     "metadata": {},
     "execution_count": 5
    }
   ],
   "source": [
    "text = training_text.lower()\n",
    "text = re.sub(r'[-)(\\s«»\"]+', ' ', text) # Ignored characters\n",
    "text = re.sub(r'\\.+\\s*', '<s>', text) # Replace end of sentences\n",
    "text = re.sub(r'\\d+', '<n>', text) # Unify numbers\n",
    "\n",
    "tokens = re.finditer(r'[\\wáéíóúñ]+|<[sn]>|[,¿?!¡;:]', text)\n",
    "tokens = pd.Series([m.group(0) for m in tokens])\n",
    "\n",
    "tokens"
   ]
  },
  {
   "cell_type": "markdown",
   "metadata": {},
   "source": [
    "# \n",
    "## Unigrams"
   ]
  },
  {
   "cell_type": "code",
   "execution_count": 6,
   "metadata": {},
   "outputs": [
    {
     "output_type": "execute_result",
     "data": {
      "text/plain": "             count      prob    cumsum\nde           16470  0.053212  0.053212\n,            12800  0.041355  0.094567\nla           10804  0.034906  0.129474\nque           9581  0.030955  0.160428\ny             9006  0.029097  0.189526\n...            ...       ...       ...\ninfundado        1  0.000003  0.999987\ninfundieron      1  0.000003  0.999990\ninfundir         1  0.000003  0.999994\ninfundirle       1  0.000003  0.999997\nhornillas        1  0.000003  1.000000\n\n[25640 rows x 3 columns]",
      "text/html": "<div>\n<style scoped>\n    .dataframe tbody tr th:only-of-type {\n        vertical-align: middle;\n    }\n\n    .dataframe tbody tr th {\n        vertical-align: top;\n    }\n\n    .dataframe thead th {\n        text-align: right;\n    }\n</style>\n<table border=\"1\" class=\"dataframe\">\n  <thead>\n    <tr style=\"text-align: right;\">\n      <th></th>\n      <th>count</th>\n      <th>prob</th>\n      <th>cumsum</th>\n    </tr>\n  </thead>\n  <tbody>\n    <tr>\n      <th>de</th>\n      <td>16470</td>\n      <td>0.053212</td>\n      <td>0.053212</td>\n    </tr>\n    <tr>\n      <th>,</th>\n      <td>12800</td>\n      <td>0.041355</td>\n      <td>0.094567</td>\n    </tr>\n    <tr>\n      <th>la</th>\n      <td>10804</td>\n      <td>0.034906</td>\n      <td>0.129474</td>\n    </tr>\n    <tr>\n      <th>que</th>\n      <td>9581</td>\n      <td>0.030955</td>\n      <td>0.160428</td>\n    </tr>\n    <tr>\n      <th>y</th>\n      <td>9006</td>\n      <td>0.029097</td>\n      <td>0.189526</td>\n    </tr>\n    <tr>\n      <th>...</th>\n      <td>...</td>\n      <td>...</td>\n      <td>...</td>\n    </tr>\n    <tr>\n      <th>infundado</th>\n      <td>1</td>\n      <td>0.000003</td>\n      <td>0.999987</td>\n    </tr>\n    <tr>\n      <th>infundieron</th>\n      <td>1</td>\n      <td>0.000003</td>\n      <td>0.999990</td>\n    </tr>\n    <tr>\n      <th>infundir</th>\n      <td>1</td>\n      <td>0.000003</td>\n      <td>0.999994</td>\n    </tr>\n    <tr>\n      <th>infundirle</th>\n      <td>1</td>\n      <td>0.000003</td>\n      <td>0.999997</td>\n    </tr>\n    <tr>\n      <th>hornillas</th>\n      <td>1</td>\n      <td>0.000003</td>\n      <td>1.000000</td>\n    </tr>\n  </tbody>\n</table>\n<p>25640 rows × 3 columns</p>\n</div>"
     },
     "metadata": {},
     "execution_count": 6
    }
   ],
   "source": [
    "unigrams, counts = np.unique(tokens, return_counts=True)\n",
    "unigrams = pd.DataFrame(counts, index=unigrams, columns=['count'])\n",
    "unigrams = unigrams.sort_values(by='count', ascending=False)\n",
    "\n",
    "unigrams['prob'] = unigrams['count'] / unigrams['count'].sum()\n",
    "unigrams['cumsum'] = unigrams['prob'].cumsum()\n",
    "\n",
    "unigrams"
   ]
  },
  {
   "cell_type": "markdown",
   "metadata": {},
   "source": [
    "## Bigrams"
   ]
  },
  {
   "cell_type": "code",
   "execution_count": 7,
   "metadata": {},
   "outputs": [
    {
     "output_type": "execute_result",
     "data": {
      "text/plain": "                    count  prfix-sum      prob    cumsum\nw1         w2                                           \nde         la        2369      16470  0.143837  0.143837\n,          y         2067      12800  0.161484  0.161484\nen         el        1258       7421  0.169519  0.169519\n           la        1118       7421  0.150654  0.320172\nde         los        856      16470  0.051973  0.195811\n...                   ...        ...       ...       ...\nklim       ,            1          1  1.000000  1.000000\nkircher    y            1          1  1.000000  1.000000\nkilómetros más          1          6  0.166667  1.000000\ncasi       desmayo      1        196  0.005102  1.000000\nútiles     y            1          5  0.200000  1.000000\n\n[137958 rows x 4 columns]",
      "text/html": "<div>\n<style scoped>\n    .dataframe tbody tr th:only-of-type {\n        vertical-align: middle;\n    }\n\n    .dataframe tbody tr th {\n        vertical-align: top;\n    }\n\n    .dataframe thead th {\n        text-align: right;\n    }\n</style>\n<table border=\"1\" class=\"dataframe\">\n  <thead>\n    <tr style=\"text-align: right;\">\n      <th></th>\n      <th></th>\n      <th>count</th>\n      <th>prfix-sum</th>\n      <th>prob</th>\n      <th>cumsum</th>\n    </tr>\n    <tr>\n      <th>w1</th>\n      <th>w2</th>\n      <th></th>\n      <th></th>\n      <th></th>\n      <th></th>\n    </tr>\n  </thead>\n  <tbody>\n    <tr>\n      <th>de</th>\n      <th>la</th>\n      <td>2369</td>\n      <td>16470</td>\n      <td>0.143837</td>\n      <td>0.143837</td>\n    </tr>\n    <tr>\n      <th>,</th>\n      <th>y</th>\n      <td>2067</td>\n      <td>12800</td>\n      <td>0.161484</td>\n      <td>0.161484</td>\n    </tr>\n    <tr>\n      <th rowspan=\"2\" valign=\"top\">en</th>\n      <th>el</th>\n      <td>1258</td>\n      <td>7421</td>\n      <td>0.169519</td>\n      <td>0.169519</td>\n    </tr>\n    <tr>\n      <th>la</th>\n      <td>1118</td>\n      <td>7421</td>\n      <td>0.150654</td>\n      <td>0.320172</td>\n    </tr>\n    <tr>\n      <th>de</th>\n      <th>los</th>\n      <td>856</td>\n      <td>16470</td>\n      <td>0.051973</td>\n      <td>0.195811</td>\n    </tr>\n    <tr>\n      <th>...</th>\n      <th>...</th>\n      <td>...</td>\n      <td>...</td>\n      <td>...</td>\n      <td>...</td>\n    </tr>\n    <tr>\n      <th>klim</th>\n      <th>,</th>\n      <td>1</td>\n      <td>1</td>\n      <td>1.000000</td>\n      <td>1.000000</td>\n    </tr>\n    <tr>\n      <th>kircher</th>\n      <th>y</th>\n      <td>1</td>\n      <td>1</td>\n      <td>1.000000</td>\n      <td>1.000000</td>\n    </tr>\n    <tr>\n      <th>kilómetros</th>\n      <th>más</th>\n      <td>1</td>\n      <td>6</td>\n      <td>0.166667</td>\n      <td>1.000000</td>\n    </tr>\n    <tr>\n      <th>casi</th>\n      <th>desmayo</th>\n      <td>1</td>\n      <td>196</td>\n      <td>0.005102</td>\n      <td>1.000000</td>\n    </tr>\n    <tr>\n      <th>útiles</th>\n      <th>y</th>\n      <td>1</td>\n      <td>5</td>\n      <td>0.200000</td>\n      <td>1.000000</td>\n    </tr>\n  </tbody>\n</table>\n<p>137958 rows × 4 columns</p>\n</div>"
     },
     "metadata": {},
     "execution_count": 7
    }
   ],
   "source": [
    "bigrams = np.fromiter(nltk.ngrams(tokens, 2), dtype=('<U18, <U18'))\n",
    "bigrams, counts = np.unique(bigrams, return_counts=True, axis=0)\n",
    "\n",
    "bigrams = pd.MultiIndex.from_tuples(list(bigrams), names=['w1', 'w2'])\n",
    "\n",
    "bigrams = pd.DataFrame(counts, index=bigrams, columns=['count'])\n",
    "bigrams = bigrams.sort_values(by='count', ascending=False)\n",
    "bigrams['prfix-sum'] = bigrams['count'].groupby(level='w1').transform(np.sum)\n",
    "\n",
    "bigrams['prob'] = bigrams['count'] / bigrams['prfix-sum']\n",
    "bigrams['cumsum'] = bigrams.prob.groupby(level=['w1']).cumsum()\n",
    "\n",
    "bigrams"
   ]
  },
  {
   "cell_type": "markdown",
   "metadata": {},
   "source": [
    "## Trigrams"
   ]
  },
  {
   "cell_type": "code",
   "execution_count": 8,
   "metadata": {},
   "outputs": [
    {
     "output_type": "execute_result",
     "data": {
      "text/plain": "                             count  prfix-sum      prob    cumsum\nw1                w2                                             \ncoronel aureliano buendía      191        198  0.964646  0.964646\njosé arcadio      buendía      162        374  0.433155  0.433155\nsin embargo       ,            137        210  0.652381  0.652381\n, y               que          133       2067  0.064344  0.064344\nel coronel        aureliano    130        196  0.663265  0.663265\n...                            ...        ...       ...       ...\nencerró con       josé           1          5  0.200000  0.400000\n                  llave          1          5  0.200000  0.600000\n                  su             1          5  0.200000  0.800000\n                  tranca         1          5  0.200000  1.000000\nútiles y          por            1          1  1.000000  1.000000\n\n[248688 rows x 4 columns]",
      "text/html": "<div>\n<style scoped>\n    .dataframe tbody tr th:only-of-type {\n        vertical-align: middle;\n    }\n\n    .dataframe tbody tr th {\n        vertical-align: top;\n    }\n\n    .dataframe thead th {\n        text-align: right;\n    }\n</style>\n<table border=\"1\" class=\"dataframe\">\n  <thead>\n    <tr style=\"text-align: right;\">\n      <th></th>\n      <th></th>\n      <th>count</th>\n      <th>prfix-sum</th>\n      <th>prob</th>\n      <th>cumsum</th>\n    </tr>\n    <tr>\n      <th>w1</th>\n      <th>w2</th>\n      <th></th>\n      <th></th>\n      <th></th>\n      <th></th>\n    </tr>\n  </thead>\n  <tbody>\n    <tr>\n      <th>coronel aureliano</th>\n      <th>buendía</th>\n      <td>191</td>\n      <td>198</td>\n      <td>0.964646</td>\n      <td>0.964646</td>\n    </tr>\n    <tr>\n      <th>josé arcadio</th>\n      <th>buendía</th>\n      <td>162</td>\n      <td>374</td>\n      <td>0.433155</td>\n      <td>0.433155</td>\n    </tr>\n    <tr>\n      <th>sin embargo</th>\n      <th>,</th>\n      <td>137</td>\n      <td>210</td>\n      <td>0.652381</td>\n      <td>0.652381</td>\n    </tr>\n    <tr>\n      <th>, y</th>\n      <th>que</th>\n      <td>133</td>\n      <td>2067</td>\n      <td>0.064344</td>\n      <td>0.064344</td>\n    </tr>\n    <tr>\n      <th>el coronel</th>\n      <th>aureliano</th>\n      <td>130</td>\n      <td>196</td>\n      <td>0.663265</td>\n      <td>0.663265</td>\n    </tr>\n    <tr>\n      <th>...</th>\n      <th>...</th>\n      <td>...</td>\n      <td>...</td>\n      <td>...</td>\n      <td>...</td>\n    </tr>\n    <tr>\n      <th rowspan=\"4\" valign=\"top\">encerró con</th>\n      <th>josé</th>\n      <td>1</td>\n      <td>5</td>\n      <td>0.200000</td>\n      <td>0.400000</td>\n    </tr>\n    <tr>\n      <th>llave</th>\n      <td>1</td>\n      <td>5</td>\n      <td>0.200000</td>\n      <td>0.600000</td>\n    </tr>\n    <tr>\n      <th>su</th>\n      <td>1</td>\n      <td>5</td>\n      <td>0.200000</td>\n      <td>0.800000</td>\n    </tr>\n    <tr>\n      <th>tranca</th>\n      <td>1</td>\n      <td>5</td>\n      <td>0.200000</td>\n      <td>1.000000</td>\n    </tr>\n    <tr>\n      <th>útiles y</th>\n      <th>por</th>\n      <td>1</td>\n      <td>1</td>\n      <td>1.000000</td>\n      <td>1.000000</td>\n    </tr>\n  </tbody>\n</table>\n<p>248688 rows × 4 columns</p>\n</div>"
     },
     "metadata": {},
     "execution_count": 8
    }
   ],
   "source": [
    "trigrams = np.fromiter(nltk.ngrams(tokens, 3), dtype=('<U18, <U18, <U18'))\n",
    "trigrams, counts = np.unique(trigrams, return_counts=True, axis=0)\n",
    "\n",
    "trigrams = pd.DataFrame(trigrams)\n",
    "trigrams['w1'] = trigrams[['f0', 'f1']].apply(\" \".join, axis=1)\n",
    "trigrams['w2'] = trigrams[['f2']]\n",
    "trigrams = pd.MultiIndex.from_frame(trigrams[['w1', 'w2']])\n",
    "\n",
    "trigrams = pd.DataFrame(counts, index= trigrams, columns=['count'])\n",
    "trigrams = trigrams.sort_values(by='count', ascending=False)\n",
    "trigrams['prfix-sum'] = trigrams['count'].groupby(level='w1').transform(np.sum)\n",
    "\n",
    "trigrams['prob'] = trigrams['count'] / trigrams['prfix-sum']\n",
    "trigrams['cumsum'] = trigrams.prob.groupby(level=['w1']).cumsum()\n",
    "\n",
    "trigrams"
   ]
  },
  {
   "cell_type": "markdown",
   "metadata": {},
   "source": [
    "## 4-grams"
   ]
  },
  {
   "cell_type": "code",
   "execution_count": 9,
   "metadata": {},
   "outputs": [
    {
     "output_type": "execute_result",
     "data": {
      "text/plain": "                              count  prfix-sum      prob    cumsum\nw1                   w2                                           \nel coronel aureliano buendía    126        130  0.969231  0.969231\n, sin embargo        ,           71         72  0.986111  0.986111\n<s> sin embargo      ,           60         60  1.000000  1.000000\nremedios , la        bella       53         54  0.981481  0.981481\nsanta sofía de       la          53         53  1.000000  1.000000\n...                             ...        ...       ...       ...\nel pelo hacia        adentro      1          1  1.000000  1.000000\nel pelo hirsuto      y            1          1  1.000000  1.000000\nel pelo mojado       y            1          1  1.000000  1.000000\nel pelo pintado      de           1          1  1.000000  1.000000\nútiles y por         deseo        1          1  1.000000  1.000000\n\n[291290 rows x 4 columns]",
      "text/html": "<div>\n<style scoped>\n    .dataframe tbody tr th:only-of-type {\n        vertical-align: middle;\n    }\n\n    .dataframe tbody tr th {\n        vertical-align: top;\n    }\n\n    .dataframe thead th {\n        text-align: right;\n    }\n</style>\n<table border=\"1\" class=\"dataframe\">\n  <thead>\n    <tr style=\"text-align: right;\">\n      <th></th>\n      <th></th>\n      <th>count</th>\n      <th>prfix-sum</th>\n      <th>prob</th>\n      <th>cumsum</th>\n    </tr>\n    <tr>\n      <th>w1</th>\n      <th>w2</th>\n      <th></th>\n      <th></th>\n      <th></th>\n      <th></th>\n    </tr>\n  </thead>\n  <tbody>\n    <tr>\n      <th>el coronel aureliano</th>\n      <th>buendía</th>\n      <td>126</td>\n      <td>130</td>\n      <td>0.969231</td>\n      <td>0.969231</td>\n    </tr>\n    <tr>\n      <th>, sin embargo</th>\n      <th>,</th>\n      <td>71</td>\n      <td>72</td>\n      <td>0.986111</td>\n      <td>0.986111</td>\n    </tr>\n    <tr>\n      <th>&lt;s&gt; sin embargo</th>\n      <th>,</th>\n      <td>60</td>\n      <td>60</td>\n      <td>1.000000</td>\n      <td>1.000000</td>\n    </tr>\n    <tr>\n      <th>remedios , la</th>\n      <th>bella</th>\n      <td>53</td>\n      <td>54</td>\n      <td>0.981481</td>\n      <td>0.981481</td>\n    </tr>\n    <tr>\n      <th>santa sofía de</th>\n      <th>la</th>\n      <td>53</td>\n      <td>53</td>\n      <td>1.000000</td>\n      <td>1.000000</td>\n    </tr>\n    <tr>\n      <th>...</th>\n      <th>...</th>\n      <td>...</td>\n      <td>...</td>\n      <td>...</td>\n      <td>...</td>\n    </tr>\n    <tr>\n      <th>el pelo hacia</th>\n      <th>adentro</th>\n      <td>1</td>\n      <td>1</td>\n      <td>1.000000</td>\n      <td>1.000000</td>\n    </tr>\n    <tr>\n      <th>el pelo hirsuto</th>\n      <th>y</th>\n      <td>1</td>\n      <td>1</td>\n      <td>1.000000</td>\n      <td>1.000000</td>\n    </tr>\n    <tr>\n      <th>el pelo mojado</th>\n      <th>y</th>\n      <td>1</td>\n      <td>1</td>\n      <td>1.000000</td>\n      <td>1.000000</td>\n    </tr>\n    <tr>\n      <th>el pelo pintado</th>\n      <th>de</th>\n      <td>1</td>\n      <td>1</td>\n      <td>1.000000</td>\n      <td>1.000000</td>\n    </tr>\n    <tr>\n      <th>útiles y por</th>\n      <th>deseo</th>\n      <td>1</td>\n      <td>1</td>\n      <td>1.000000</td>\n      <td>1.000000</td>\n    </tr>\n  </tbody>\n</table>\n<p>291290 rows × 4 columns</p>\n</div>"
     },
     "metadata": {},
     "execution_count": 9
    }
   ],
   "source": [
    "fourgrams = np.fromiter(nltk.ngrams(tokens, 4), dtype=('<U18, <U18, <U18, <U18'))\n",
    "fourgrams, counts = np.unique(fourgrams, return_counts=True, axis=0)\n",
    "\n",
    "fourgrams = pd.DataFrame(fourgrams)\n",
    "fourgrams['w1'] = fourgrams[['f0', 'f1', 'f2']].apply(\" \".join, axis=1)\n",
    "fourgrams['w2'] = fourgrams[['f3']]\n",
    "fourgrams = pd.MultiIndex.from_frame(fourgrams[['w1', 'w2']])\n",
    "\n",
    "fourgrams = pd.DataFrame(counts, index= fourgrams, columns=['count'])\n",
    "fourgrams = fourgrams.sort_values(by='count', ascending=False)\n",
    "fourgrams['prfix-sum'] = fourgrams['count'].groupby(level='w1').transform(np.sum)\n",
    "\n",
    "fourgrams['prob'] = fourgrams['count'] / fourgrams['prfix-sum']\n",
    "fourgrams['cumsum'] = fourgrams.prob.groupby(level=['w1']).cumsum()\n",
    "\n",
    "fourgrams"
   ]
  },
  {
   "cell_type": "markdown",
   "metadata": {},
   "source": [
    "# Generate text\n",
    "## Unigrams"
   ]
  },
  {
   "cell_type": "code",
   "execution_count": 10,
   "metadata": {},
   "outputs": [
    {
     "output_type": "execute_result",
     "data": {
      "text/plain": "'ratas la boa ella cuando los y y sentidos , oyó yacía palabras una pasillo la sobre , respondí fría tan situará sucedido confuso corazones es abominable haciendo después el a sus a había la días si le estirada estaba plausible bordando á buena lo de mundo miedo leído aún los los la de desagradar olas <s> su tanto he imágenes a eminencia tuvo conservador macetas puedes la de no xv virginia que de al que sus parece la declaración y dijo modo eufemismos dormida para rebeca un del <s> está manos el dió el tenderme asesores de espejos ahogándose veces corazón menor había y haya lado lo había john casa á una ya eso diversos mortal volvió , edificio que ; las verdad con cintura en con paredes no de en sido trapos por duda sin cachacos <s> mandó serpiente inocente y á irreprimibles calma atado , vds puerta invisible gracias era mí hijos fanatismo trabajo para <s> general estaba al torrecilla <s>'"
     },
     "metadata": {},
     "execution_count": 10
    }
   ],
   "source": [
    "n_sentences = 5\n",
    "words = []\n",
    "while n_sentences > 0:\n",
    "    p = np.random.rand()\n",
    "    row_struct = unigrams[unigrams['cumsum'] > p].iloc[0]\n",
    "    words += [row_struct.name]\n",
    "    if row_struct.name == '<s>': \n",
    "        n_sentences-=1\n",
    "\n",
    "' '.join(words)"
   ]
  },
  {
   "cell_type": "markdown",
   "metadata": {},
   "source": [
    "## Bigrams"
   ]
  },
  {
   "cell_type": "code",
   "execution_count": 11,
   "metadata": {
    "tags": [
     "outputPrepend",
     "outputPrepend",
     "outputPrepend",
     "outputPrepend",
     "outputPrepend",
     "outputPrepend",
     "outputPrepend",
     "outputPrepend",
     "outputPrepend",
     "outputPrepend",
     "outputPrepend",
     "outputPrepend",
     "outputPrepend",
     "outputPrepend",
     "outputPrepend",
     "outputPrepend",
     "outputPrepend",
     "outputPrepend",
     "outputPrepend",
     "outputPrepend",
     "outputPrepend",
     "outputPrepend",
     "outputPrepend",
     "outputPrepend",
     "outputPrepend",
     "outputPrepend",
     "outputPrepend",
     "outputPrepend",
     "outputPrepend",
     "outputPrepend",
     "outputPrepend",
     "outputPrepend",
     "outputPrepend",
     "outputPrepend",
     "outputPrepend",
     "outputPrepend",
     "outputPrepend",
     "outputPrepend",
     "outputPrepend",
     "outputPrepend",
     "outputPrepend",
     "outputPrepend",
     "outputPrepend",
     "outputPrepend",
     "outputPrepend",
     "outputPrepend",
     "outputPrepend",
     "outputPrepend",
     "outputPrepend",
     "outputPrepend",
     "outputPrepend",
     "outputPrepend",
     "outputPrepend",
     "outputPrepend",
     "outputPrepend",
     "outputPrepend"
    ]
   },
   "outputs": [
    {
     "output_type": "execute_result",
     "data": {
      "text/plain": "'<s> la marea , descargué un baile , dejándola enredarse en el menor grado de canciones de aquí amigo <s> iluminaba con tranquilo ? aureliano buendía <s> el fulgor tan vigorosos como su pañuelo alrededor del mal humor á fusilar <s>'"
     },
     "metadata": {},
     "execution_count": 11
    }
   ],
   "source": [
    "n_sentences = 3\n",
    "words = ['<s>']\n",
    "while n_sentences > 0:\n",
    "    p = np.random.rand()\n",
    "    prev_word = words[-1]\n",
    "    row_struct = bigrams[bigrams['cumsum'] > p].loc[prev_word].iloc[0]\n",
    "    words += [row_struct.name]\n",
    "    if row_struct.name == '<s>': \n",
    "        n_sentences-=1\n",
    "\n",
    "' '.join(words)"
   ]
  },
  {
   "cell_type": "markdown",
   "metadata": {},
   "source": [
    "## Trigrams"
   ]
  },
  {
   "cell_type": "code",
   "execution_count": 12,
   "metadata": {},
   "outputs": [
    {
     "output_type": "execute_result",
     "data": {
      "text/plain": "'<s> la casa de los re cuerdos <s> mientras duró el almuerzo y apagó su farol mientras el coronel aureliano buendía , le miré fijamente a la parte del camino que nos había puesto el hermoso traje de seda natural y con el cuello del frasco con la semana , y aun a pleno día <s> y el baúl de los sacos de lona de velero y reforzado con un traje desde los primeros en proporcionar al público : el hombre alto de manera de pronunciarlas con que no hay nada replicó el doctor y el más profundo interés por las noches de la isla nos acercábamos al borde de la isla y una mirada , antes de que nos envolvía , todo asumió una actitud tan infantil frente a su reciente aplicación <s> una noche , por supuesto , las palomas , no puede dar continuó el capitán smollet apuntando hacia él se mantuvo en contacto con el dogal de seda , el de más edad en calidad de su desmandada voracidad , de gentil tarea : la creciente generosidad de los protagonistas <s> pero a pesar de su vida desordenada , todo el alcance , terminó por imponerse : no era sino una rabia más que devengadas sin que durante siglos había modelado los destinos de la primera ojeada , realizar un rápido camino en dirección a ver las de la noche en un burro cargado de monedas , quitando un poco de ánimo que constituyen precisamente , el globo , tanto las unas pasaban por la época en que ya había puesto un saco de arroz y maíz con gorgojo , y era de admirar la prudencia con que acompañaban su examen llamó á la obra de los remos , o se supone que murió <s>'"
     },
     "metadata": {},
     "execution_count": 12
    }
   ],
   "source": [
    "n_sentences = 5\n",
    "\n",
    "# Generarte from bigrams\n",
    "words = words[:2]\n",
    "while n_sentences > 0:\n",
    "    p = np.random.rand()\n",
    "    prev_word = ' '.join(words[-2:])\n",
    "    row_struct = trigrams[trigrams['cumsum'] > p].loc[prev_word].iloc[0]\n",
    "    words += [row_struct.name]\n",
    "    if row_struct.name == '<s>': \n",
    "        n_sentences-=1\n",
    "\n",
    "' '.join(words)"
   ]
  },
  {
   "cell_type": "markdown",
   "metadata": {},
   "source": [
    "## Four-Grams"
   ]
  },
  {
   "cell_type": "code",
   "execution_count": 13,
   "metadata": {},
   "outputs": [
    {
     "output_type": "execute_result",
     "data": {
      "text/plain": "'<s> la casa se estaba llenando de duendes <s> era como si el tiempo diera vueltas en redondo y hubiéramos vuelto al principio <s> llovía con intensidad , el aire se impregnó de una fragancia mortal <s>'"
     },
     "metadata": {},
     "execution_count": 13
    }
   ],
   "source": [
    "n_sentences = 3\n",
    "\n",
    "# Generarte from trigrams\n",
    "words = words[:3]\n",
    "while n_sentences > 0:\n",
    "    p = np.random.rand()\n",
    "    prev_word = ' '.join(words[-3:])\n",
    "    row_struct = fourgrams[fourgrams['cumsum'] > p].loc[prev_word].iloc[0]\n",
    "    words += [row_struct.name]\n",
    "    if row_struct.name == '<s>': \n",
    "        n_sentences-=1\n",
    "' '.join(words)"
   ]
  },
  {
   "cell_type": "markdown",
   "metadata": {},
   "source": [
    "# Zero words\n",
    "Replaze the less frecuent word by the OOV token <UNK>\n",
    "## Unigrams"
   ]
  },
  {
   "cell_type": "code",
   "execution_count": 14,
   "metadata": {},
   "outputs": [
    {
     "output_type": "execute_result",
     "data": {
      "text/plain": "             count      prob    cumsum\nde           16470  0.053212  0.053212\n,            12800  0.041355  0.094567\nla           10804  0.034906  0.129474\nque           9581  0.030955  0.160428\ny             9006  0.029097  0.189526\n...            ...       ...       ...\ninfundado        1  0.000003  0.999987\ninfundieron      1  0.000003  0.999990\ninfundir         1  0.000003  0.999994\ninfundirle       1  0.000003  0.999997\n<UNK>            1  0.000003  1.000000\n\n[25640 rows x 3 columns]",
      "text/html": "<div>\n<style scoped>\n    .dataframe tbody tr th:only-of-type {\n        vertical-align: middle;\n    }\n\n    .dataframe tbody tr th {\n        vertical-align: top;\n    }\n\n    .dataframe thead th {\n        text-align: right;\n    }\n</style>\n<table border=\"1\" class=\"dataframe\">\n  <thead>\n    <tr style=\"text-align: right;\">\n      <th></th>\n      <th>count</th>\n      <th>prob</th>\n      <th>cumsum</th>\n    </tr>\n  </thead>\n  <tbody>\n    <tr>\n      <th>de</th>\n      <td>16470</td>\n      <td>0.053212</td>\n      <td>0.053212</td>\n    </tr>\n    <tr>\n      <th>,</th>\n      <td>12800</td>\n      <td>0.041355</td>\n      <td>0.094567</td>\n    </tr>\n    <tr>\n      <th>la</th>\n      <td>10804</td>\n      <td>0.034906</td>\n      <td>0.129474</td>\n    </tr>\n    <tr>\n      <th>que</th>\n      <td>9581</td>\n      <td>0.030955</td>\n      <td>0.160428</td>\n    </tr>\n    <tr>\n      <th>y</th>\n      <td>9006</td>\n      <td>0.029097</td>\n      <td>0.189526</td>\n    </tr>\n    <tr>\n      <th>...</th>\n      <td>...</td>\n      <td>...</td>\n      <td>...</td>\n    </tr>\n    <tr>\n      <th>infundado</th>\n      <td>1</td>\n      <td>0.000003</td>\n      <td>0.999987</td>\n    </tr>\n    <tr>\n      <th>infundieron</th>\n      <td>1</td>\n      <td>0.000003</td>\n      <td>0.999990</td>\n    </tr>\n    <tr>\n      <th>infundir</th>\n      <td>1</td>\n      <td>0.000003</td>\n      <td>0.999994</td>\n    </tr>\n    <tr>\n      <th>infundirle</th>\n      <td>1</td>\n      <td>0.000003</td>\n      <td>0.999997</td>\n    </tr>\n    <tr>\n      <th>&lt;UNK&gt;</th>\n      <td>1</td>\n      <td>0.000003</td>\n      <td>1.000000</td>\n    </tr>\n  </tbody>\n</table>\n<p>25640 rows × 3 columns</p>\n</div>"
     },
     "metadata": {},
     "execution_count": 14
    }
   ],
   "source": [
    "lessFrec = unigrams.iloc[-1]\n",
    "unigrams = unigrams.rename(index={lessFrec.name: '<UNK>'})\n",
    "unigrams"
   ]
  },
  {
   "cell_type": "markdown",
   "metadata": {},
   "source": [
    "## Bigrams"
   ]
  },
  {
   "cell_type": "code",
   "execution_count": 15,
   "metadata": {},
   "outputs": [
    {
     "output_type": "execute_result",
     "data": {
      "text/plain": "                    count  prfix-sum      prob    cumsum\nde         la        2369      16470  0.143837  0.143837\n,          y         2067      12800  0.161484  0.161484\nen         el        1258       7421  0.169519  0.169519\n           la        1118       7421  0.150654  0.320172\nde         los        856      16470  0.051973  0.195811\n...                   ...        ...       ...       ...\nklim       ,            1          1  1.000000  1.000000\nkircher    y            1          1  1.000000  1.000000\nkilómetros más          1          6  0.166667  1.000000\ncasi       desmayo      1        196  0.005102  1.000000\n<UNK>      <s>          1          5  0.200000  1.000000\n\n[137958 rows x 4 columns]",
      "text/html": "<div>\n<style scoped>\n    .dataframe tbody tr th:only-of-type {\n        vertical-align: middle;\n    }\n\n    .dataframe tbody tr th {\n        vertical-align: top;\n    }\n\n    .dataframe thead th {\n        text-align: right;\n    }\n</style>\n<table border=\"1\" class=\"dataframe\">\n  <thead>\n    <tr style=\"text-align: right;\">\n      <th></th>\n      <th></th>\n      <th>count</th>\n      <th>prfix-sum</th>\n      <th>prob</th>\n      <th>cumsum</th>\n    </tr>\n  </thead>\n  <tbody>\n    <tr>\n      <th>de</th>\n      <th>la</th>\n      <td>2369</td>\n      <td>16470</td>\n      <td>0.143837</td>\n      <td>0.143837</td>\n    </tr>\n    <tr>\n      <th>,</th>\n      <th>y</th>\n      <td>2067</td>\n      <td>12800</td>\n      <td>0.161484</td>\n      <td>0.161484</td>\n    </tr>\n    <tr>\n      <th rowspan=\"2\" valign=\"top\">en</th>\n      <th>el</th>\n      <td>1258</td>\n      <td>7421</td>\n      <td>0.169519</td>\n      <td>0.169519</td>\n    </tr>\n    <tr>\n      <th>la</th>\n      <td>1118</td>\n      <td>7421</td>\n      <td>0.150654</td>\n      <td>0.320172</td>\n    </tr>\n    <tr>\n      <th>de</th>\n      <th>los</th>\n      <td>856</td>\n      <td>16470</td>\n      <td>0.051973</td>\n      <td>0.195811</td>\n    </tr>\n    <tr>\n      <th>...</th>\n      <th>...</th>\n      <td>...</td>\n      <td>...</td>\n      <td>...</td>\n      <td>...</td>\n    </tr>\n    <tr>\n      <th>klim</th>\n      <th>,</th>\n      <td>1</td>\n      <td>1</td>\n      <td>1.000000</td>\n      <td>1.000000</td>\n    </tr>\n    <tr>\n      <th>kircher</th>\n      <th>y</th>\n      <td>1</td>\n      <td>1</td>\n      <td>1.000000</td>\n      <td>1.000000</td>\n    </tr>\n    <tr>\n      <th>kilómetros</th>\n      <th>más</th>\n      <td>1</td>\n      <td>6</td>\n      <td>0.166667</td>\n      <td>1.000000</td>\n    </tr>\n    <tr>\n      <th>casi</th>\n      <th>desmayo</th>\n      <td>1</td>\n      <td>196</td>\n      <td>0.005102</td>\n      <td>1.000000</td>\n    </tr>\n    <tr>\n      <th>&lt;UNK&gt;</th>\n      <th>&lt;s&gt;</th>\n      <td>1</td>\n      <td>5</td>\n      <td>0.200000</td>\n      <td>1.000000</td>\n    </tr>\n  </tbody>\n</table>\n<p>137958 rows × 4 columns</p>\n</div>"
     },
     "metadata": {},
     "execution_count": 15
    }
   ],
   "source": [
    "index_np = bigrams.index.to_numpy()\n",
    "index_np[-1] = ('<UNK>', '<s>')\n",
    "bigrams.index = pd.MultiIndex.from_tuples(index_np)\n",
    "bigrams"
   ]
  },
  {
   "cell_type": "markdown",
   "metadata": {},
   "source": [
    "## Trigrams"
   ]
  },
  {
   "cell_type": "code",
   "execution_count": 16,
   "metadata": {},
   "outputs": [
    {
     "output_type": "execute_result",
     "data": {
      "text/plain": "                             count  prfix-sum      prob    cumsum\ncoronel aureliano buendía      191        198  0.964646  0.964646\njosé arcadio      buendía      162        374  0.433155  0.433155\nsin embargo       ,            137        210  0.652381  0.652381\n, y               que          133       2067  0.064344  0.064344\nel coronel        aureliano    130        196  0.663265  0.663265\n...                            ...        ...       ...       ...\nencerró con       josé           1          5  0.200000  0.400000\n                  llave          1          5  0.200000  0.600000\n                  su             1          5  0.200000  0.800000\n                  tranca         1          5  0.200000  1.000000\n<UNK>             <s>            1          1  1.000000  1.000000\n\n[248688 rows x 4 columns]",
      "text/html": "<div>\n<style scoped>\n    .dataframe tbody tr th:only-of-type {\n        vertical-align: middle;\n    }\n\n    .dataframe tbody tr th {\n        vertical-align: top;\n    }\n\n    .dataframe thead th {\n        text-align: right;\n    }\n</style>\n<table border=\"1\" class=\"dataframe\">\n  <thead>\n    <tr style=\"text-align: right;\">\n      <th></th>\n      <th></th>\n      <th>count</th>\n      <th>prfix-sum</th>\n      <th>prob</th>\n      <th>cumsum</th>\n    </tr>\n  </thead>\n  <tbody>\n    <tr>\n      <th>coronel aureliano</th>\n      <th>buendía</th>\n      <td>191</td>\n      <td>198</td>\n      <td>0.964646</td>\n      <td>0.964646</td>\n    </tr>\n    <tr>\n      <th>josé arcadio</th>\n      <th>buendía</th>\n      <td>162</td>\n      <td>374</td>\n      <td>0.433155</td>\n      <td>0.433155</td>\n    </tr>\n    <tr>\n      <th>sin embargo</th>\n      <th>,</th>\n      <td>137</td>\n      <td>210</td>\n      <td>0.652381</td>\n      <td>0.652381</td>\n    </tr>\n    <tr>\n      <th>, y</th>\n      <th>que</th>\n      <td>133</td>\n      <td>2067</td>\n      <td>0.064344</td>\n      <td>0.064344</td>\n    </tr>\n    <tr>\n      <th>el coronel</th>\n      <th>aureliano</th>\n      <td>130</td>\n      <td>196</td>\n      <td>0.663265</td>\n      <td>0.663265</td>\n    </tr>\n    <tr>\n      <th>...</th>\n      <th>...</th>\n      <td>...</td>\n      <td>...</td>\n      <td>...</td>\n      <td>...</td>\n    </tr>\n    <tr>\n      <th rowspan=\"4\" valign=\"top\">encerró con</th>\n      <th>josé</th>\n      <td>1</td>\n      <td>5</td>\n      <td>0.200000</td>\n      <td>0.400000</td>\n    </tr>\n    <tr>\n      <th>llave</th>\n      <td>1</td>\n      <td>5</td>\n      <td>0.200000</td>\n      <td>0.600000</td>\n    </tr>\n    <tr>\n      <th>su</th>\n      <td>1</td>\n      <td>5</td>\n      <td>0.200000</td>\n      <td>0.800000</td>\n    </tr>\n    <tr>\n      <th>tranca</th>\n      <td>1</td>\n      <td>5</td>\n      <td>0.200000</td>\n      <td>1.000000</td>\n    </tr>\n    <tr>\n      <th>&lt;UNK&gt;</th>\n      <th>&lt;s&gt;</th>\n      <td>1</td>\n      <td>1</td>\n      <td>1.000000</td>\n      <td>1.000000</td>\n    </tr>\n  </tbody>\n</table>\n<p>248688 rows × 4 columns</p>\n</div>"
     },
     "metadata": {},
     "execution_count": 16
    }
   ],
   "source": [
    "index_np = trigrams.index.to_numpy()\n",
    "index_np[-1] = ('<UNK>', '<s>')\n",
    "trigrams.index = pd.MultiIndex.from_tuples(index_np)\n",
    "trigrams"
   ]
  },
  {
   "cell_type": "markdown",
   "metadata": {},
   "source": [
    "## 4-grams"
   ]
  },
  {
   "cell_type": "code",
   "execution_count": 17,
   "metadata": {},
   "outputs": [
    {
     "output_type": "execute_result",
     "data": {
      "text/plain": "                              count  prfix-sum      prob    cumsum\nel coronel aureliano buendía    126        130  0.969231  0.969231\n, sin embargo        ,           71         72  0.986111  0.986111\n<s> sin embargo      ,           60         60  1.000000  1.000000\nremedios , la        bella       53         54  0.981481  0.981481\nsanta sofía de       la          53         53  1.000000  1.000000\n...                             ...        ...       ...       ...\nel pelo hacia        adentro      1          1  1.000000  1.000000\nel pelo hirsuto      y            1          1  1.000000  1.000000\nel pelo mojado       y            1          1  1.000000  1.000000\nel pelo pintado      de           1          1  1.000000  1.000000\n<UNK>                <s>          1          1  1.000000  1.000000\n\n[291290 rows x 4 columns]",
      "text/html": "<div>\n<style scoped>\n    .dataframe tbody tr th:only-of-type {\n        vertical-align: middle;\n    }\n\n    .dataframe tbody tr th {\n        vertical-align: top;\n    }\n\n    .dataframe thead th {\n        text-align: right;\n    }\n</style>\n<table border=\"1\" class=\"dataframe\">\n  <thead>\n    <tr style=\"text-align: right;\">\n      <th></th>\n      <th></th>\n      <th>count</th>\n      <th>prfix-sum</th>\n      <th>prob</th>\n      <th>cumsum</th>\n    </tr>\n  </thead>\n  <tbody>\n    <tr>\n      <th>el coronel aureliano</th>\n      <th>buendía</th>\n      <td>126</td>\n      <td>130</td>\n      <td>0.969231</td>\n      <td>0.969231</td>\n    </tr>\n    <tr>\n      <th>, sin embargo</th>\n      <th>,</th>\n      <td>71</td>\n      <td>72</td>\n      <td>0.986111</td>\n      <td>0.986111</td>\n    </tr>\n    <tr>\n      <th>&lt;s&gt; sin embargo</th>\n      <th>,</th>\n      <td>60</td>\n      <td>60</td>\n      <td>1.000000</td>\n      <td>1.000000</td>\n    </tr>\n    <tr>\n      <th>remedios , la</th>\n      <th>bella</th>\n      <td>53</td>\n      <td>54</td>\n      <td>0.981481</td>\n      <td>0.981481</td>\n    </tr>\n    <tr>\n      <th>santa sofía de</th>\n      <th>la</th>\n      <td>53</td>\n      <td>53</td>\n      <td>1.000000</td>\n      <td>1.000000</td>\n    </tr>\n    <tr>\n      <th>...</th>\n      <th>...</th>\n      <td>...</td>\n      <td>...</td>\n      <td>...</td>\n      <td>...</td>\n    </tr>\n    <tr>\n      <th>el pelo hacia</th>\n      <th>adentro</th>\n      <td>1</td>\n      <td>1</td>\n      <td>1.000000</td>\n      <td>1.000000</td>\n    </tr>\n    <tr>\n      <th>el pelo hirsuto</th>\n      <th>y</th>\n      <td>1</td>\n      <td>1</td>\n      <td>1.000000</td>\n      <td>1.000000</td>\n    </tr>\n    <tr>\n      <th>el pelo mojado</th>\n      <th>y</th>\n      <td>1</td>\n      <td>1</td>\n      <td>1.000000</td>\n      <td>1.000000</td>\n    </tr>\n    <tr>\n      <th>el pelo pintado</th>\n      <th>de</th>\n      <td>1</td>\n      <td>1</td>\n      <td>1.000000</td>\n      <td>1.000000</td>\n    </tr>\n    <tr>\n      <th>&lt;UNK&gt;</th>\n      <th>&lt;s&gt;</th>\n      <td>1</td>\n      <td>1</td>\n      <td>1.000000</td>\n      <td>1.000000</td>\n    </tr>\n  </tbody>\n</table>\n<p>291290 rows × 4 columns</p>\n</div>"
     },
     "metadata": {},
     "execution_count": 17
    }
   ],
   "source": [
    "index_np = fourgrams.index.to_numpy()\n",
    "index_np[-1] = ('<UNK>', '<s>')\n",
    "fourgrams.index = pd.MultiIndex.from_tuples(index_np)\n",
    "fourgrams"
   ]
  }
 ]
}