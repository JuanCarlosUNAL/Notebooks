{
 "nbformat": 4,
 "nbformat_minor": 2,
 "metadata": {
  "language_info": {
   "name": "python",
   "codemirror_mode": {
    "name": "ipython",
    "version": 3
   },
   "version": "3.7.6-final"
  },
  "orig_nbformat": 2,
  "file_extension": ".py",
  "mimetype": "text/x-python",
  "name": "python",
  "npconvert_exporter": "python",
  "pygments_lexer": "ipython3",
  "version": 3,
  "kernelspec": {
   "name": "python38164bitnlpconda91879d213a784cd7ad50df7b2e78c33c",
   "display_name": "Python 3.8.1 64-bit ('nlp': conda)"
  }
 },
 "cells": [
  {
   "cell_type": "code",
   "execution_count": 1,
   "metadata": {},
   "outputs": [],
   "source": [
    "import re\n",
    "import nltk\n",
    "import pandas as pd\n",
    "import numpy as np"
   ]
  },
  {
   "cell_type": "markdown",
   "metadata": {},
   "source": [
    "# Taller 2\n",
    "## Token extraction"
   ]
  },
  {
   "cell_type": "code",
   "execution_count": 57,
   "metadata": {},
   "outputs": [
    {
     "output_type": "stream",
     "name": "stdout",
     "text": "../Files/allan_poe/decenso_al_maelstron.txt\n../Files/allan_poe/lady_ligeia.txt\n../Files/allan_poe/berenice.txt\n../Files/allan_poe/la_esfinje.txt\n../Files/allan_poe/morerlla.txt\n"
    },
    {
     "output_type": "execute_result",
     "data": {
      "text/plain": "0    Habíamos alcanzado la cumbre del despeñadero m...\n1    Juro por mi alma que no puedo recordar cómo, c...\n2    La desdicha es diversa. La desgracia cunde mul...\n3    Durante el pavoroso reinado del cólera en Nuev...\n4    Consideraba yo a mi amiga Morella con un senti...\ndtype: object"
     },
     "metadata": {},
     "execution_count": 57
    }
   ],
   "source": [
    "files = [\n",
    "    '../Files/allan_poe/decenso_al_maelstron.txt',\n",
    "    '../Files/allan_poe/lady_ligeia.txt',\n",
    "    '../Files/allan_poe/berenice.txt',\n",
    "    '../Files/allan_poe/la_esfinje.txt',\n",
    "    '../Files/allan_poe/morerlla.txt',\n",
    "    '../Files/allan_poe/el_retrato_oval.txt',\n",
    "    '../Files/allan_poe/william_wilson.txt',\n",
    "    '../Files/allan_poe/el_engaño_del_globo.txt',\n",
    "    '../Files/allan_poe/la_máscara_de_la_muerte_roja.txt',\n",
    "\n",
    "    # '../Files/cien_soledad.txt',\n",
    "    # '../Files/el_principito.txt',\n",
    "    # '../Files/la_isla_del_tesoro.txt',\n",
    "]\n",
    "texts = []\n",
    "for file_name in files:\n",
    "    full_file_name = ('{}'\n",
    "        .format(file_name))\n",
    "\n",
    "    print(full_file_name)\n",
    "\n",
    "    file = open(full_file_name, 'r')\n",
    "    texts += [file.read()]\n",
    "    file.close()\n",
    "\n",
    "texts = pd.Series(texts)\n",
    "text = ''.join(texts)\n",
    "texts"
   ]
  },
  {
   "cell_type": "code",
   "execution_count": 58,
   "metadata": {},
   "outputs": [
    {
     "output_type": "execute_result",
     "data": {
      "text/plain": "0         habíamos\n1        alcanzado\n2               la\n3           cumbre\n4              del\n           ...    \n21950        donde\n21951      enterré\n21952           la\n21953      segunda\n21954          <s>\nLength: 21955, dtype: object"
     },
     "metadata": {},
     "execution_count": 58
    }
   ],
   "source": [
    "text = text.lower()\n",
    "text = re.sub(r'[-)(\\s«»\"]+', ' ', text) # Ignored characters\n",
    "text = re.sub(r'\\.\\s*', '<s>', text) # Replace end of sentences\n",
    "\n",
    "tokens = re.finditer(r'[\\wáéíóúñ]+|<\\/?s>|[,¿?!¡.;:]', text)\n",
    "tokens = pd.Series([m.group(0) for m in tokens])\n",
    "\n",
    "tokens"
   ]
  },
  {
   "cell_type": "markdown",
   "metadata": {},
   "source": [
    "# \n",
    "## Unigrams"
   ]
  },
  {
   "cell_type": "code",
   "execution_count": 59,
   "metadata": {},
   "outputs": [
    {
     "output_type": "execute_result",
     "data": {
      "text/plain": "         count      prob    cumsum\n!           63  0.002870  0.002870\n,         1594  0.072603  0.075473\n10           1  0.000046  0.075518\n1645         1  0.000046  0.075564\n18           1  0.000046  0.075609\n...        ...       ...       ...\núltimo       7  0.000319  0.999453\núltimos      3  0.000137  0.999590\núnica        2  0.000091  0.999681\núnico        5  0.000228  0.999909\núnicos       2  0.000091  1.000000\n\n[4521 rows x 3 columns]",
      "text/html": "<div>\n<style scoped>\n    .dataframe tbody tr th:only-of-type {\n        vertical-align: middle;\n    }\n\n    .dataframe tbody tr th {\n        vertical-align: top;\n    }\n\n    .dataframe thead th {\n        text-align: right;\n    }\n</style>\n<table border=\"1\" class=\"dataframe\">\n  <thead>\n    <tr style=\"text-align: right;\">\n      <th></th>\n      <th>count</th>\n      <th>prob</th>\n      <th>cumsum</th>\n    </tr>\n  </thead>\n  <tbody>\n    <tr>\n      <th>!</th>\n      <td>63</td>\n      <td>0.002870</td>\n      <td>0.002870</td>\n    </tr>\n    <tr>\n      <th>,</th>\n      <td>1594</td>\n      <td>0.072603</td>\n      <td>0.075473</td>\n    </tr>\n    <tr>\n      <th>10</th>\n      <td>1</td>\n      <td>0.000046</td>\n      <td>0.075518</td>\n    </tr>\n    <tr>\n      <th>1645</th>\n      <td>1</td>\n      <td>0.000046</td>\n      <td>0.075564</td>\n    </tr>\n    <tr>\n      <th>18</th>\n      <td>1</td>\n      <td>0.000046</td>\n      <td>0.075609</td>\n    </tr>\n    <tr>\n      <th>...</th>\n      <td>...</td>\n      <td>...</td>\n      <td>...</td>\n    </tr>\n    <tr>\n      <th>último</th>\n      <td>7</td>\n      <td>0.000319</td>\n      <td>0.999453</td>\n    </tr>\n    <tr>\n      <th>últimos</th>\n      <td>3</td>\n      <td>0.000137</td>\n      <td>0.999590</td>\n    </tr>\n    <tr>\n      <th>única</th>\n      <td>2</td>\n      <td>0.000091</td>\n      <td>0.999681</td>\n    </tr>\n    <tr>\n      <th>único</th>\n      <td>5</td>\n      <td>0.000228</td>\n      <td>0.999909</td>\n    </tr>\n    <tr>\n      <th>únicos</th>\n      <td>2</td>\n      <td>0.000091</td>\n      <td>1.000000</td>\n    </tr>\n  </tbody>\n</table>\n<p>4521 rows × 3 columns</p>\n</div>"
     },
     "metadata": {},
     "execution_count": 59
    }
   ],
   "source": [
    "unigrams, counts = np.unique(tokens, return_counts=True)\n",
    "unigrams = pd.DataFrame(counts, index=unigrams, columns=['count'])\n",
    "\n",
    "unigrams['prob'] = unigrams['count'] / unigrams['count'].sum()\n",
    "unigrams['cumsum'] = unigrams['prob'].cumsum()\n",
    "\n",
    "unigrams"
   ]
  },
  {
   "cell_type": "markdown",
   "metadata": {},
   "source": [
    "## Bigrams"
   ]
  },
  {
   "cell_type": "code",
   "execution_count": 54,
   "metadata": {},
   "outputs": [
    {
     "output_type": "execute_result",
     "data": {
      "text/plain": "                   count  prfix-sum      prob    cumsum\nw1     w2                                              \n!      ,               6        120  0.050000  0.050000\n       ?               1        120  0.008333  0.058333\n       a               1        120  0.008333  0.066667\n       aclaró          1        120  0.008333  0.075000\n       al              1        120  0.008333  0.083333\n...                  ...        ...       ...       ...\nútil   sobre           1         11  0.090909  1.000000\nútiles <s>             1          5  0.200000  0.200000\n       como            1          5  0.200000  0.400000\n       domésticos      2          5  0.400000  0.800000\n       y               1          5  0.200000  1.000000\n\n[123676 rows x 4 columns]",
      "text/html": "<div>\n<style scoped>\n    .dataframe tbody tr th:only-of-type {\n        vertical-align: middle;\n    }\n\n    .dataframe tbody tr th {\n        vertical-align: top;\n    }\n\n    .dataframe thead th {\n        text-align: right;\n    }\n</style>\n<table border=\"1\" class=\"dataframe\">\n  <thead>\n    <tr style=\"text-align: right;\">\n      <th></th>\n      <th></th>\n      <th>count</th>\n      <th>prfix-sum</th>\n      <th>prob</th>\n      <th>cumsum</th>\n    </tr>\n    <tr>\n      <th>w1</th>\n      <th>w2</th>\n      <th></th>\n      <th></th>\n      <th></th>\n      <th></th>\n    </tr>\n  </thead>\n  <tbody>\n    <tr>\n      <th rowspan=\"5\" valign=\"top\">!</th>\n      <th>,</th>\n      <td>6</td>\n      <td>120</td>\n      <td>0.050000</td>\n      <td>0.050000</td>\n    </tr>\n    <tr>\n      <th>?</th>\n      <td>1</td>\n      <td>120</td>\n      <td>0.008333</td>\n      <td>0.058333</td>\n    </tr>\n    <tr>\n      <th>a</th>\n      <td>1</td>\n      <td>120</td>\n      <td>0.008333</td>\n      <td>0.066667</td>\n    </tr>\n    <tr>\n      <th>aclaró</th>\n      <td>1</td>\n      <td>120</td>\n      <td>0.008333</td>\n      <td>0.075000</td>\n    </tr>\n    <tr>\n      <th>al</th>\n      <td>1</td>\n      <td>120</td>\n      <td>0.008333</td>\n      <td>0.083333</td>\n    </tr>\n    <tr>\n      <th>...</th>\n      <th>...</th>\n      <td>...</td>\n      <td>...</td>\n      <td>...</td>\n      <td>...</td>\n    </tr>\n    <tr>\n      <th>útil</th>\n      <th>sobre</th>\n      <td>1</td>\n      <td>11</td>\n      <td>0.090909</td>\n      <td>1.000000</td>\n    </tr>\n    <tr>\n      <th rowspan=\"4\" valign=\"top\">útiles</th>\n      <th>&lt;s&gt;</th>\n      <td>1</td>\n      <td>5</td>\n      <td>0.200000</td>\n      <td>0.200000</td>\n    </tr>\n    <tr>\n      <th>como</th>\n      <td>1</td>\n      <td>5</td>\n      <td>0.200000</td>\n      <td>0.400000</td>\n    </tr>\n    <tr>\n      <th>domésticos</th>\n      <td>2</td>\n      <td>5</td>\n      <td>0.400000</td>\n      <td>0.800000</td>\n    </tr>\n    <tr>\n      <th>y</th>\n      <td>1</td>\n      <td>5</td>\n      <td>0.200000</td>\n      <td>1.000000</td>\n    </tr>\n  </tbody>\n</table>\n<p>123676 rows × 4 columns</p>\n</div>"
     },
     "metadata": {},
     "execution_count": 54
    }
   ],
   "source": [
    "bigrams = np.fromiter(nltk.ngrams(tokens, 2), dtype=('<U18, <U18'))\n",
    "bigrams, counts = np.unique(bigrams, return_counts=True, axis=0)\n",
    "\n",
    "bigrams = pd.MultiIndex.from_tuples(list(bigrams), names=['w1', 'w2'])\n",
    "\n",
    "bigrams = pd.DataFrame(counts, index= bigrams, columns=['count'])\n",
    "bigrams['prfix-sum'] = bigrams['count'].groupby(level='w1').transform(np.sum)\n",
    "\n",
    "bigrams['prob'] = bigrams['count'] / bigrams['prfix-sum']\n",
    "bigrams['cumsum'] = bigrams.prob.groupby(level=['w1']).cumsum()\n",
    "\n",
    "bigrams"
   ]
  },
  {
   "cell_type": "markdown",
   "metadata": {},
   "source": [
    "## Trigrams"
   ]
  },
  {
   "cell_type": "code",
   "execution_count": 55,
   "metadata": {},
   "outputs": [
    {
     "output_type": "execute_result",
     "data": {
      "text/plain": "                           count  prfix-sum      prob    cumsum\nw1                w2                                           \n! ,               exclamó      1          6  0.166667  0.166667\n                  fueron       1          6  0.166667  0.333333\n                  gritó        1          6  0.166667  0.500000\n                  le           1          6  0.166667  0.666667\n                  no           1          6  0.166667  0.833333\n...                          ...        ...       ...       ...\nútiles <s>        fue          1          1  1.000000  1.000000\nútiles como       hubiera      1          1  1.000000  1.000000\nútiles domésticos habían       1          2  0.500000  0.500000\n                  y            1          2  0.500000  1.000000\nútiles y          por          1          1  1.000000  1.000000\n\n[220696 rows x 4 columns]",
      "text/html": "<div>\n<style scoped>\n    .dataframe tbody tr th:only-of-type {\n        vertical-align: middle;\n    }\n\n    .dataframe tbody tr th {\n        vertical-align: top;\n    }\n\n    .dataframe thead th {\n        text-align: right;\n    }\n</style>\n<table border=\"1\" class=\"dataframe\">\n  <thead>\n    <tr style=\"text-align: right;\">\n      <th></th>\n      <th></th>\n      <th>count</th>\n      <th>prfix-sum</th>\n      <th>prob</th>\n      <th>cumsum</th>\n    </tr>\n    <tr>\n      <th>w1</th>\n      <th>w2</th>\n      <th></th>\n      <th></th>\n      <th></th>\n      <th></th>\n    </tr>\n  </thead>\n  <tbody>\n    <tr>\n      <th rowspan=\"5\" valign=\"top\">! ,</th>\n      <th>exclamó</th>\n      <td>1</td>\n      <td>6</td>\n      <td>0.166667</td>\n      <td>0.166667</td>\n    </tr>\n    <tr>\n      <th>fueron</th>\n      <td>1</td>\n      <td>6</td>\n      <td>0.166667</td>\n      <td>0.333333</td>\n    </tr>\n    <tr>\n      <th>gritó</th>\n      <td>1</td>\n      <td>6</td>\n      <td>0.166667</td>\n      <td>0.500000</td>\n    </tr>\n    <tr>\n      <th>le</th>\n      <td>1</td>\n      <td>6</td>\n      <td>0.166667</td>\n      <td>0.666667</td>\n    </tr>\n    <tr>\n      <th>no</th>\n      <td>1</td>\n      <td>6</td>\n      <td>0.166667</td>\n      <td>0.833333</td>\n    </tr>\n    <tr>\n      <th>...</th>\n      <th>...</th>\n      <td>...</td>\n      <td>...</td>\n      <td>...</td>\n      <td>...</td>\n    </tr>\n    <tr>\n      <th>útiles &lt;s&gt;</th>\n      <th>fue</th>\n      <td>1</td>\n      <td>1</td>\n      <td>1.000000</td>\n      <td>1.000000</td>\n    </tr>\n    <tr>\n      <th>útiles como</th>\n      <th>hubiera</th>\n      <td>1</td>\n      <td>1</td>\n      <td>1.000000</td>\n      <td>1.000000</td>\n    </tr>\n    <tr>\n      <th rowspan=\"2\" valign=\"top\">útiles domésticos</th>\n      <th>habían</th>\n      <td>1</td>\n      <td>2</td>\n      <td>0.500000</td>\n      <td>0.500000</td>\n    </tr>\n    <tr>\n      <th>y</th>\n      <td>1</td>\n      <td>2</td>\n      <td>0.500000</td>\n      <td>1.000000</td>\n    </tr>\n    <tr>\n      <th>útiles y</th>\n      <th>por</th>\n      <td>1</td>\n      <td>1</td>\n      <td>1.000000</td>\n      <td>1.000000</td>\n    </tr>\n  </tbody>\n</table>\n<p>220696 rows × 4 columns</p>\n</div>"
     },
     "metadata": {},
     "execution_count": 55
    }
   ],
   "source": [
    "trigrams = np.fromiter(nltk.ngrams(tokens, 3), dtype=('<U18, <U18, <U18'))\n",
    "trigrams, counts = np.unique(trigrams, return_counts=True, axis=0)\n",
    "\n",
    "trigrams = pd.DataFrame(trigrams)\n",
    "trigrams['w1'] = trigrams[['f0', 'f1']].apply(\" \".join, axis=1)\n",
    "trigrams['w2'] = trigrams[['f2']]\n",
    "trigrams = pd.MultiIndex.from_frame(trigrams[['w1', 'w2']])\n",
    "\n",
    "trigrams = pd.DataFrame(counts, index= trigrams, columns=['count'])\n",
    "trigrams['prfix-sum'] = trigrams['count'].groupby(level='w1').transform(np.sum)\n",
    "\n",
    "trigrams['prob'] = trigrams['count'] / trigrams['prfix-sum']\n",
    "trigrams['cumsum'] = trigrams.prob.groupby(level=['w1']).cumsum()\n",
    "\n",
    "trigrams"
   ]
  },
  {
   "cell_type": "markdown",
   "metadata": {},
   "source": [
    "## 4-grams"
   ]
  },
  {
   "cell_type": "code",
   "execution_count": 56,
   "metadata": {},
   "outputs": [
    {
     "output_type": "execute_result",
     "data": {
      "text/plain": "                                   count  prfix-sum  prob  cumsum\nw1                       w2                                      \n! , exclamó              <s>           1          1   1.0     1.0\n! , fueron               los           1          1   1.0     1.0\n! , gritó                una           1          1   1.0     1.0\n! , le                   gritó         1          1   1.0     1.0\n! , no                   había         1          1   1.0     1.0\n...                                  ...        ...   ...     ...\nútiles <s> fue           entonces      1          1   1.0     1.0\nútiles como hubiera      podido        1          1   1.0     1.0\nútiles domésticos habían sido          1          1   1.0     1.0\nútiles domésticos y      el            1          1   1.0     1.0\nútiles y por             deseo         1          1   1.0     1.0\n\n[258106 rows x 4 columns]",
      "text/html": "<div>\n<style scoped>\n    .dataframe tbody tr th:only-of-type {\n        vertical-align: middle;\n    }\n\n    .dataframe tbody tr th {\n        vertical-align: top;\n    }\n\n    .dataframe thead th {\n        text-align: right;\n    }\n</style>\n<table border=\"1\" class=\"dataframe\">\n  <thead>\n    <tr style=\"text-align: right;\">\n      <th></th>\n      <th></th>\n      <th>count</th>\n      <th>prfix-sum</th>\n      <th>prob</th>\n      <th>cumsum</th>\n    </tr>\n    <tr>\n      <th>w1</th>\n      <th>w2</th>\n      <th></th>\n      <th></th>\n      <th></th>\n      <th></th>\n    </tr>\n  </thead>\n  <tbody>\n    <tr>\n      <th>! , exclamó</th>\n      <th>&lt;s&gt;</th>\n      <td>1</td>\n      <td>1</td>\n      <td>1.0</td>\n      <td>1.0</td>\n    </tr>\n    <tr>\n      <th>! , fueron</th>\n      <th>los</th>\n      <td>1</td>\n      <td>1</td>\n      <td>1.0</td>\n      <td>1.0</td>\n    </tr>\n    <tr>\n      <th>! , gritó</th>\n      <th>una</th>\n      <td>1</td>\n      <td>1</td>\n      <td>1.0</td>\n      <td>1.0</td>\n    </tr>\n    <tr>\n      <th>! , le</th>\n      <th>gritó</th>\n      <td>1</td>\n      <td>1</td>\n      <td>1.0</td>\n      <td>1.0</td>\n    </tr>\n    <tr>\n      <th>! , no</th>\n      <th>había</th>\n      <td>1</td>\n      <td>1</td>\n      <td>1.0</td>\n      <td>1.0</td>\n    </tr>\n    <tr>\n      <th>...</th>\n      <th>...</th>\n      <td>...</td>\n      <td>...</td>\n      <td>...</td>\n      <td>...</td>\n    </tr>\n    <tr>\n      <th>útiles &lt;s&gt; fue</th>\n      <th>entonces</th>\n      <td>1</td>\n      <td>1</td>\n      <td>1.0</td>\n      <td>1.0</td>\n    </tr>\n    <tr>\n      <th>útiles como hubiera</th>\n      <th>podido</th>\n      <td>1</td>\n      <td>1</td>\n      <td>1.0</td>\n      <td>1.0</td>\n    </tr>\n    <tr>\n      <th>útiles domésticos habían</th>\n      <th>sido</th>\n      <td>1</td>\n      <td>1</td>\n      <td>1.0</td>\n      <td>1.0</td>\n    </tr>\n    <tr>\n      <th>útiles domésticos y</th>\n      <th>el</th>\n      <td>1</td>\n      <td>1</td>\n      <td>1.0</td>\n      <td>1.0</td>\n    </tr>\n    <tr>\n      <th>útiles y por</th>\n      <th>deseo</th>\n      <td>1</td>\n      <td>1</td>\n      <td>1.0</td>\n      <td>1.0</td>\n    </tr>\n  </tbody>\n</table>\n<p>258106 rows × 4 columns</p>\n</div>"
     },
     "metadata": {},
     "execution_count": 56
    }
   ],
   "source": [
    "fourgrams = np.fromiter(nltk.ngrams(tokens, 4), dtype=('<U18, <U18, <U18, <U18'))\n",
    "fourgrams, counts = np.unique(fourgrams, return_counts=True, axis=0)\n",
    "\n",
    "fourgrams = pd.DataFrame(fourgrams)\n",
    "fourgrams['w1'] = fourgrams[['f0', 'f1', 'f2']].apply(\" \".join, axis=1)\n",
    "fourgrams['w2'] = fourgrams[['f3']]\n",
    "fourgrams = pd.MultiIndex.from_frame(fourgrams[['w1', 'w2']])\n",
    "\n",
    "fourgrams = pd.DataFrame(counts, index= fourgrams, columns=['count'])\n",
    "fourgrams['prfix-sum'] = fourgrams['count'].groupby(level='w1').transform(np.sum)\n",
    "\n",
    "fourgrams['prob'] = fourgrams['count'] / fourgrams['prfix-sum']\n",
    "fourgrams['cumsum'] = fourgrams.prob.groupby(level=['w1']).cumsum()\n",
    "\n",
    "fourgrams"
   ]
  },
  {
   "cell_type": "code",
   "execution_count": 18,
   "metadata": {},
   "outputs": [
    {
     "output_type": "execute_result",
     "data": {
      "text/plain": "count     4147.000000\nprob         0.027223\ncumsum       0.988630\nName: y, dtype: float64"
     },
     "metadata": {},
     "execution_count": 18
    }
   ],
   "source": [
    "unigrams[unigrams['cumsum'] > 0.97].iloc[0]"
   ]
  }
 ]
}