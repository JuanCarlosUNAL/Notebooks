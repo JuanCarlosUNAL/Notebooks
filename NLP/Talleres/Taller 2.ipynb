{
 "nbformat": 4,
 "nbformat_minor": 2,
 "metadata": {
  "language_info": {
   "name": "python",
   "codemirror_mode": {
    "name": "ipython",
    "version": 3
   },
   "version": "3.7.6-final"
  },
  "orig_nbformat": 2,
  "file_extension": ".py",
  "mimetype": "text/x-python",
  "name": "python",
  "npconvert_exporter": "python",
  "pygments_lexer": "ipython3",
  "version": 3,
  "kernelspec": {
   "name": "python38164bitnlpconda91879d213a784cd7ad50df7b2e78c33c",
   "display_name": "Python 3.8.1 64-bit ('nlp': conda)"
  }
 },
 "cells": [
  {
   "cell_type": "code",
   "execution_count": 1,
   "metadata": {},
   "outputs": [],
   "source": [
    "import re\n",
    "import nltk\n",
    "import pandas as pd\n",
    "import numpy as np"
   ]
  },
  {
   "cell_type": "markdown",
   "metadata": {},
   "source": [
    "# Taller 2\n",
    "## Token extraction"
   ]
  },
  {
   "cell_type": "code",
   "execution_count": 34,
   "metadata": {},
   "outputs": [
    {
     "output_type": "execute_result",
     "data": {
      "text/plain": "../files/allan_poe/berenice.txt                        La desdicha es diversa. La desgracia cunde mul...\n../files/allan_poe/decenso_al_maelstron.txt            Habíamos alcanzado la cumbre del despeñadero m...\n../files/allan_poe/el_barril_de_amontillado.txt        Lo mejor que pude había soportado las mil inju...\n../files/allan_poe/el_diablo_en_el_campanario.txt      Todos saben de una manera vaga que el lugar má...\n../files/allan_poe/el_engaño_del_globo.txt             ¡Asombrosas noticias por expreso, vía Norfolk!...\n../files/allan_poe/el_entierro_prematuro.txt           Hay ciertos temas de interés absorbente, pero ...\n../files/allan_poe/el_hombre_de_la_multitud.txt        Con razón se ha dicho de cierto libro alemán q...\n../files/allan_poe/el_retrato_oval.txt                 El castillo en el cual mi criado se le había o...\n../files/allan_poe/gato_negro.txt                      No espero ni pido que alguien crea en el extra...\n../files/allan_poe/la_caída_de_la_casa_usher.txt       Durante todo un día de otoño, triste, oscuro, ...\n../files/allan_poe/la_esfinje.txt                      Durante el pavoroso reinado del cólera en Nuev...\n../files/allan_poe/la_máscara_de_la_muerte_roja.txt    La \"Muerte Roja \" había devastado el país dura...\n../files/allan_poe/lady_ligeia.txt                     Juro por mi alma que no puedo recordar cómo, c...\n../files/allan_poe/metzengerstein.txt                  El horror y la fatalidad han estado al acecho ...\n../files/allan_poe/morerlla.txt                        Consideraba yo a mi amiga Morella con un senti...\n../files/allan_poe/william_wilson.txt                  Permitan que, por el momento, me presente como...\ndtype: object"
     },
     "metadata": {},
     "execution_count": 34
    }
   ],
   "source": [
    "files = [\n",
    "    '../files/allan_poe/berenice.txt',\n",
    "    '../files/allan_poe/decenso_al_maelstron.txt',\n",
    "    '../files/allan_poe/el_barril_de_amontillado.txt',\n",
    "    '../files/allan_poe/el_diablo_en_el_campanario.txt',\n",
    "    '../files/allan_poe/el_engaño_del_globo.txt',\n",
    "    '../files/allan_poe/el_entierro_prematuro.txt',\n",
    "    '../files/allan_poe/el_hombre_de_la_multitud.txt',\n",
    "    '../files/allan_poe/el_retrato_oval.txt',\n",
    "    '../files/allan_poe/gato_negro.txt',\n",
    "    '../files/allan_poe/la_caída_de_la_casa_usher.txt',\n",
    "    '../files/allan_poe/la_esfinje.txt',\n",
    "    '../files/allan_poe/la_máscara_de_la_muerte_roja.txt',\n",
    "    '../files/allan_poe/lady_ligeia.txt',\n",
    "    '../files/allan_poe/metzengerstein.txt',\n",
    "    '../files/allan_poe/morerlla.txt',\n",
    "    '../files/allan_poe/william_wilson.txt',\n",
    "\n",
    "    # '../Files/cien_soledad.txt',\n",
    "    # '../Files/el_principito.txt',\n",
    "    # '../Files/la_isla_del_tesoro.txt',\n",
    "]\n",
    "texts = []\n",
    "for file_name in files:\n",
    "    file = open(file_name, 'r')\n",
    "    texts += [file.read()]\n",
    "    file.close()\n",
    "\n",
    "texts = pd.Series(texts, index=files)\n",
    "text = ''.join(texts)\n",
    "texts"
   ]
  },
  {
   "cell_type": "code",
   "execution_count": null,
   "metadata": {},
   "outputs": [],
   "source": []
  },
  {
   "cell_type": "code",
   "execution_count": 36,
   "metadata": {},
   "outputs": [
    {
     "output_type": "execute_result",
     "data": {
      "text/plain": "0               la\n1         desdicha\n2               es\n3          diversa\n4              <s>\n           ...    \n71088          has\n71089    asesinado\n71090           tú\n71091        mismo\n71092            !\nLength: 71093, dtype: object"
     },
     "metadata": {},
     "execution_count": 36
    }
   ],
   "source": [
    "text = text.lower()\n",
    "text = re.sub(r'[-)(\\s«»\"]+', ' ', text) # Ignored characters\n",
    "text = re.sub(r'\\.\\s*', '<s>', text) # Replace end of sentences\n",
    "\n",
    "tokens = re.finditer(r'[\\wáéíóúñ]+|<s>|[,¿?!¡;:]', text)\n",
    "tokens = pd.Series([m.group(0) for m in tokens])\n",
    "\n",
    "tokens"
   ]
  },
  {
   "cell_type": "markdown",
   "metadata": {},
   "source": [
    "# \n",
    "## Unigrams"
   ]
  },
  {
   "cell_type": "code",
   "execution_count": 40,
   "metadata": {},
   "outputs": [
    {
     "output_type": "execute_result",
     "data": {
      "text/plain": "            count      prob    cumsum\n!             224  0.003151  0.003151\n,            4834  0.067995  0.071146\n000             4  0.000056  0.071203\n010             1  0.000014  0.071217\n10              1  0.000014  0.071231\n...           ...       ...       ...\núnica          13  0.000183  0.999719\núnicamente      1  0.000014  0.999733\núnicas          1  0.000014  0.999747\núnico          16  0.000225  0.999972\núnicos          2  0.000028  1.000000\n\n[10628 rows x 3 columns]",
      "text/html": "<div>\n<style scoped>\n    .dataframe tbody tr th:only-of-type {\n        vertical-align: middle;\n    }\n\n    .dataframe tbody tr th {\n        vertical-align: top;\n    }\n\n    .dataframe thead th {\n        text-align: right;\n    }\n</style>\n<table border=\"1\" class=\"dataframe\">\n  <thead>\n    <tr style=\"text-align: right;\">\n      <th></th>\n      <th>count</th>\n      <th>prob</th>\n      <th>cumsum</th>\n    </tr>\n  </thead>\n  <tbody>\n    <tr>\n      <th>!</th>\n      <td>224</td>\n      <td>0.003151</td>\n      <td>0.003151</td>\n    </tr>\n    <tr>\n      <th>,</th>\n      <td>4834</td>\n      <td>0.067995</td>\n      <td>0.071146</td>\n    </tr>\n    <tr>\n      <th>000</th>\n      <td>4</td>\n      <td>0.000056</td>\n      <td>0.071203</td>\n    </tr>\n    <tr>\n      <th>010</th>\n      <td>1</td>\n      <td>0.000014</td>\n      <td>0.071217</td>\n    </tr>\n    <tr>\n      <th>10</th>\n      <td>1</td>\n      <td>0.000014</td>\n      <td>0.071231</td>\n    </tr>\n    <tr>\n      <th>...</th>\n      <td>...</td>\n      <td>...</td>\n      <td>...</td>\n    </tr>\n    <tr>\n      <th>única</th>\n      <td>13</td>\n      <td>0.000183</td>\n      <td>0.999719</td>\n    </tr>\n    <tr>\n      <th>únicamente</th>\n      <td>1</td>\n      <td>0.000014</td>\n      <td>0.999733</td>\n    </tr>\n    <tr>\n      <th>únicas</th>\n      <td>1</td>\n      <td>0.000014</td>\n      <td>0.999747</td>\n    </tr>\n    <tr>\n      <th>único</th>\n      <td>16</td>\n      <td>0.000225</td>\n      <td>0.999972</td>\n    </tr>\n    <tr>\n      <th>únicos</th>\n      <td>2</td>\n      <td>0.000028</td>\n      <td>1.000000</td>\n    </tr>\n  </tbody>\n</table>\n<p>10628 rows × 3 columns</p>\n</div>"
     },
     "metadata": {},
     "execution_count": 40
    }
   ],
   "source": [
    "unigrams, counts = np.unique(tokens, return_counts=True)\n",
    "unigrams = pd.DataFrame(counts, index=unigrams, columns=['count'])\n",
    "\n",
    "unigrams['prob'] = unigrams['count'] / unigrams['count'].sum()\n",
    "unigrams['cumsum'] = unigrams['prob'].cumsum()\n",
    "\n",
    "unigrams"
   ]
  },
  {
   "cell_type": "markdown",
   "metadata": {},
   "source": [
    "## Bigrams"
   ]
  },
  {
   "cell_type": "code",
   "execution_count": 43,
   "metadata": {},
   "outputs": [
    {
     "output_type": "execute_result",
     "data": {
      "text/plain": "                  count  prfix-sum      prob    cumsum\nw1     w2                                             \n!      ,             11        223  0.049327  0.049327\n       <s>            2        223  0.008969  0.058296\n       ?              1        223  0.004484  0.062780\n       a              2        223  0.008969  0.071749\n       al             3        223  0.013453  0.085202\n...                 ...        ...       ...       ...\núnico  refugio        1         16  0.062500  0.875000\n       sonido         1         16  0.062500  0.937500\n       tema           1         16  0.062500  1.000000\núnicos presentes      1          2  0.500000  0.500000\n       que            1          2  0.500000  1.000000\n\n[41081 rows x 4 columns]",
      "text/html": "<div>\n<style scoped>\n    .dataframe tbody tr th:only-of-type {\n        vertical-align: middle;\n    }\n\n    .dataframe tbody tr th {\n        vertical-align: top;\n    }\n\n    .dataframe thead th {\n        text-align: right;\n    }\n</style>\n<table border=\"1\" class=\"dataframe\">\n  <thead>\n    <tr style=\"text-align: right;\">\n      <th></th>\n      <th></th>\n      <th>count</th>\n      <th>prfix-sum</th>\n      <th>prob</th>\n      <th>cumsum</th>\n    </tr>\n    <tr>\n      <th>w1</th>\n      <th>w2</th>\n      <th></th>\n      <th></th>\n      <th></th>\n      <th></th>\n    </tr>\n  </thead>\n  <tbody>\n    <tr>\n      <th rowspan=\"5\" valign=\"top\">!</th>\n      <th>,</th>\n      <td>11</td>\n      <td>223</td>\n      <td>0.049327</td>\n      <td>0.049327</td>\n    </tr>\n    <tr>\n      <th>&lt;s&gt;</th>\n      <td>2</td>\n      <td>223</td>\n      <td>0.008969</td>\n      <td>0.058296</td>\n    </tr>\n    <tr>\n      <th>?</th>\n      <td>1</td>\n      <td>223</td>\n      <td>0.004484</td>\n      <td>0.062780</td>\n    </tr>\n    <tr>\n      <th>a</th>\n      <td>2</td>\n      <td>223</td>\n      <td>0.008969</td>\n      <td>0.071749</td>\n    </tr>\n    <tr>\n      <th>al</th>\n      <td>3</td>\n      <td>223</td>\n      <td>0.013453</td>\n      <td>0.085202</td>\n    </tr>\n    <tr>\n      <th>...</th>\n      <th>...</th>\n      <td>...</td>\n      <td>...</td>\n      <td>...</td>\n      <td>...</td>\n    </tr>\n    <tr>\n      <th rowspan=\"3\" valign=\"top\">único</th>\n      <th>refugio</th>\n      <td>1</td>\n      <td>16</td>\n      <td>0.062500</td>\n      <td>0.875000</td>\n    </tr>\n    <tr>\n      <th>sonido</th>\n      <td>1</td>\n      <td>16</td>\n      <td>0.062500</td>\n      <td>0.937500</td>\n    </tr>\n    <tr>\n      <th>tema</th>\n      <td>1</td>\n      <td>16</td>\n      <td>0.062500</td>\n      <td>1.000000</td>\n    </tr>\n    <tr>\n      <th rowspan=\"2\" valign=\"top\">únicos</th>\n      <th>presentes</th>\n      <td>1</td>\n      <td>2</td>\n      <td>0.500000</td>\n      <td>0.500000</td>\n    </tr>\n    <tr>\n      <th>que</th>\n      <td>1</td>\n      <td>2</td>\n      <td>0.500000</td>\n      <td>1.000000</td>\n    </tr>\n  </tbody>\n</table>\n<p>41081 rows × 4 columns</p>\n</div>"
     },
     "metadata": {},
     "execution_count": 43
    }
   ],
   "source": [
    "bigrams = np.fromiter(nltk.ngrams(tokens, 2), dtype=('<U18, <U18'))\n",
    "bigrams, counts = np.unique(bigrams, return_counts=True, axis=0)\n",
    "\n",
    "bigrams = pd.MultiIndex.from_tuples(list(bigrams), names=['w1', 'w2'])\n",
    "\n",
    "bigrams = pd.DataFrame(counts, index=bigrams, columns=['count'])\n",
    "bigrams['prfix-sum'] = bigrams['count'].groupby(level='w1').transform(np.sum)\n",
    "\n",
    "bigrams['prob'] = bigrams['count'] / bigrams['prfix-sum']\n",
    "bigrams['cumsum'] = bigrams.prob.groupby(level=['w1']).cumsum()\n",
    "\n",
    "bigrams"
   ]
  },
  {
   "cell_type": "markdown",
   "metadata": {},
   "source": [
    "## Trigrams"
   ]
  },
  {
   "cell_type": "code",
   "execution_count": 45,
   "metadata": {},
   "outputs": [
    {
     "output_type": "execute_result",
     "data": {
      "text/plain": "                              count  prfix-sum      prob    cumsum\nw1               w2                                               \n! ,              a                1         11  0.090909  0.090909\n                 acaso            2         11  0.181818  0.272727\n                 fueron           1         11  0.090909  0.363636\n                 la               1         11  0.090909  0.454545\n                 los              1         11  0.090909  0.545455\n...                             ...        ...       ...       ...\núnico refugio    asequible        1          1  1.000000  1.000000\núnico sonido     en               1          1  1.000000  1.000000\núnico tema       de               1          1  1.000000  1.000000\núnicos presentes a                1          1  1.000000  1.000000\núnicos que       navegábamos      1          1  1.000000  1.000000\n\n[63421 rows x 4 columns]",
      "text/html": "<div>\n<style scoped>\n    .dataframe tbody tr th:only-of-type {\n        vertical-align: middle;\n    }\n\n    .dataframe tbody tr th {\n        vertical-align: top;\n    }\n\n    .dataframe thead th {\n        text-align: right;\n    }\n</style>\n<table border=\"1\" class=\"dataframe\">\n  <thead>\n    <tr style=\"text-align: right;\">\n      <th></th>\n      <th></th>\n      <th>count</th>\n      <th>prfix-sum</th>\n      <th>prob</th>\n      <th>cumsum</th>\n    </tr>\n    <tr>\n      <th>w1</th>\n      <th>w2</th>\n      <th></th>\n      <th></th>\n      <th></th>\n      <th></th>\n    </tr>\n  </thead>\n  <tbody>\n    <tr>\n      <th rowspan=\"5\" valign=\"top\">! ,</th>\n      <th>a</th>\n      <td>1</td>\n      <td>11</td>\n      <td>0.090909</td>\n      <td>0.090909</td>\n    </tr>\n    <tr>\n      <th>acaso</th>\n      <td>2</td>\n      <td>11</td>\n      <td>0.181818</td>\n      <td>0.272727</td>\n    </tr>\n    <tr>\n      <th>fueron</th>\n      <td>1</td>\n      <td>11</td>\n      <td>0.090909</td>\n      <td>0.363636</td>\n    </tr>\n    <tr>\n      <th>la</th>\n      <td>1</td>\n      <td>11</td>\n      <td>0.090909</td>\n      <td>0.454545</td>\n    </tr>\n    <tr>\n      <th>los</th>\n      <td>1</td>\n      <td>11</td>\n      <td>0.090909</td>\n      <td>0.545455</td>\n    </tr>\n    <tr>\n      <th>...</th>\n      <th>...</th>\n      <td>...</td>\n      <td>...</td>\n      <td>...</td>\n      <td>...</td>\n    </tr>\n    <tr>\n      <th>único refugio</th>\n      <th>asequible</th>\n      <td>1</td>\n      <td>1</td>\n      <td>1.000000</td>\n      <td>1.000000</td>\n    </tr>\n    <tr>\n      <th>único sonido</th>\n      <th>en</th>\n      <td>1</td>\n      <td>1</td>\n      <td>1.000000</td>\n      <td>1.000000</td>\n    </tr>\n    <tr>\n      <th>único tema</th>\n      <th>de</th>\n      <td>1</td>\n      <td>1</td>\n      <td>1.000000</td>\n      <td>1.000000</td>\n    </tr>\n    <tr>\n      <th>únicos presentes</th>\n      <th>a</th>\n      <td>1</td>\n      <td>1</td>\n      <td>1.000000</td>\n      <td>1.000000</td>\n    </tr>\n    <tr>\n      <th>únicos que</th>\n      <th>navegábamos</th>\n      <td>1</td>\n      <td>1</td>\n      <td>1.000000</td>\n      <td>1.000000</td>\n    </tr>\n  </tbody>\n</table>\n<p>63421 rows × 4 columns</p>\n</div>"
     },
     "metadata": {},
     "execution_count": 45
    }
   ],
   "source": [
    "trigrams = np.fromiter(nltk.ngrams(tokens, 3), dtype=('<U18, <U18, <U18'))\n",
    "trigrams, counts = np.unique(trigrams, return_counts=True, axis=0)\n",
    "\n",
    "trigrams = pd.DataFrame(trigrams)\n",
    "trigrams['w1'] = trigrams[['f0', 'f1']].apply(\" \".join, axis=1)\n",
    "trigrams['w2'] = trigrams[['f2']]\n",
    "trigrams = pd.MultiIndex.from_frame(trigrams[['w1', 'w2']])\n",
    "\n",
    "trigrams = pd.DataFrame(counts, index= trigrams, columns=['count'])\n",
    "trigrams['prfix-sum'] = trigrams['count'].groupby(level='w1').transform(np.sum)\n",
    "\n",
    "trigrams['prob'] = trigrams['count'] / trigrams['prfix-sum']\n",
    "trigrams['cumsum'] = trigrams.prob.groupby(level=['w1']).cumsum()\n",
    "\n",
    "trigrams"
   ]
  },
  {
   "cell_type": "markdown",
   "metadata": {},
   "source": [
    "## 4-grams"
   ]
  },
  {
   "cell_type": "code",
   "execution_count": 9,
   "metadata": {},
   "outputs": [
    {
     "output_type": "execute_result",
     "data": {
      "text/plain": "                                    count  prfix-sum  prob  cumsum\nw1                       w2                                       \n! , a                    propósito      1          1   1.0     1.0\n! , exclamó              <s>            1          1   1.0     1.0\n! , fueron               los            1          1   1.0     1.0\n! , gritó                una            1          1   1.0     1.0\n! , le                   gritó          1          1   1.0     1.0\n...                                   ...        ...   ...     ...\nútiles <s> fue           entonces       1          1   1.0     1.0\nútiles como hubiera      podido         1          1   1.0     1.0\nútiles domésticos habían sido           1          1   1.0     1.0\nútiles domésticos y      el             1          1   1.0     1.0\nútiles y por             deseo          1          1   1.0     1.0\n\n[290410 rows x 4 columns]",
      "text/html": "<div>\n<style scoped>\n    .dataframe tbody tr th:only-of-type {\n        vertical-align: middle;\n    }\n\n    .dataframe tbody tr th {\n        vertical-align: top;\n    }\n\n    .dataframe thead th {\n        text-align: right;\n    }\n</style>\n<table border=\"1\" class=\"dataframe\">\n  <thead>\n    <tr style=\"text-align: right;\">\n      <th></th>\n      <th></th>\n      <th>count</th>\n      <th>prfix-sum</th>\n      <th>prob</th>\n      <th>cumsum</th>\n    </tr>\n    <tr>\n      <th>w1</th>\n      <th>w2</th>\n      <th></th>\n      <th></th>\n      <th></th>\n      <th></th>\n    </tr>\n  </thead>\n  <tbody>\n    <tr>\n      <th>! , a</th>\n      <th>propósito</th>\n      <td>1</td>\n      <td>1</td>\n      <td>1.0</td>\n      <td>1.0</td>\n    </tr>\n    <tr>\n      <th>! , exclamó</th>\n      <th>&lt;s&gt;</th>\n      <td>1</td>\n      <td>1</td>\n      <td>1.0</td>\n      <td>1.0</td>\n    </tr>\n    <tr>\n      <th>! , fueron</th>\n      <th>los</th>\n      <td>1</td>\n      <td>1</td>\n      <td>1.0</td>\n      <td>1.0</td>\n    </tr>\n    <tr>\n      <th>! , gritó</th>\n      <th>una</th>\n      <td>1</td>\n      <td>1</td>\n      <td>1.0</td>\n      <td>1.0</td>\n    </tr>\n    <tr>\n      <th>! , le</th>\n      <th>gritó</th>\n      <td>1</td>\n      <td>1</td>\n      <td>1.0</td>\n      <td>1.0</td>\n    </tr>\n    <tr>\n      <th>...</th>\n      <th>...</th>\n      <td>...</td>\n      <td>...</td>\n      <td>...</td>\n      <td>...</td>\n    </tr>\n    <tr>\n      <th>útiles &lt;s&gt; fue</th>\n      <th>entonces</th>\n      <td>1</td>\n      <td>1</td>\n      <td>1.0</td>\n      <td>1.0</td>\n    </tr>\n    <tr>\n      <th>útiles como hubiera</th>\n      <th>podido</th>\n      <td>1</td>\n      <td>1</td>\n      <td>1.0</td>\n      <td>1.0</td>\n    </tr>\n    <tr>\n      <th>útiles domésticos habían</th>\n      <th>sido</th>\n      <td>1</td>\n      <td>1</td>\n      <td>1.0</td>\n      <td>1.0</td>\n    </tr>\n    <tr>\n      <th>útiles domésticos y</th>\n      <th>el</th>\n      <td>1</td>\n      <td>1</td>\n      <td>1.0</td>\n      <td>1.0</td>\n    </tr>\n    <tr>\n      <th>útiles y por</th>\n      <th>deseo</th>\n      <td>1</td>\n      <td>1</td>\n      <td>1.0</td>\n      <td>1.0</td>\n    </tr>\n  </tbody>\n</table>\n<p>290410 rows × 4 columns</p>\n</div>"
     },
     "metadata": {},
     "execution_count": 9
    }
   ],
   "source": [
    "fourgrams = np.fromiter(nltk.ngrams(tokens, 4), dtype=('<U18, <U18, <U18, <U18'))\n",
    "fourgrams, counts = np.unique(fourgrams, return_counts=True, axis=0)\n",
    "\n",
    "fourgrams = pd.DataFrame(fourgrams)\n",
    "fourgrams['w1'] = fourgrams[['f0', 'f1', 'f2']].apply(\" \".join, axis=1)\n",
    "fourgrams['w2'] = fourgrams[['f3']]\n",
    "fourgrams = pd.MultiIndex.from_frame(fourgrams[['w1', 'w2']])\n",
    "\n",
    "fourgrams = pd.DataFrame(counts, index= fourgrams, columns=['count'])\n",
    "fourgrams['prfix-sum'] = fourgrams['count'].groupby(level='w1').transform(np.sum)\n",
    "\n",
    "fourgrams['prob'] = fourgrams['count'] / fourgrams['prfix-sum']\n",
    "fourgrams['cumsum'] = fourgrams.prob.groupby(level=['w1']).cumsum()\n",
    "\n",
    "fourgrams"
   ]
  },
  {
   "cell_type": "code",
   "execution_count": 46,
   "metadata": {},
   "outputs": [
    {
     "output_type": "execute_result",
     "data": {
      "text/plain": "count     2.000000\nprob      0.000028\ncumsum    1.000000\nName: únicos, dtype: float64"
     },
     "metadata": {},
     "execution_count": 46
    }
   ],
   "source": [
    "unigrams[unigrams['cumsum'] > 0.97].iloc[-1]"
   ]
  }
 ]
}