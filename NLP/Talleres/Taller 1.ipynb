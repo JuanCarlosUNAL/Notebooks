{
 "cells": [
  {
   "cell_type": "code",
   "execution_count": 8,
   "metadata": {},
   "outputs": [],
   "source": [
    "import re\n",
    "import string\n",
    "import pandas as pd\n",
    "import numpy as np\n",
    "from collections import Counter\n",
    "from nltk.stem.porter import PorterStemmer"
   ]
  },
  {
   "cell_type": "markdown",
   "metadata": {},
   "source": [
    "# N-Grams"
   ]
  },
  {
   "cell_type": "code",
   "execution_count": 17,
   "metadata": {},
   "outputs": [
    {
     "output_type": "error",
     "ename": "SyntaxError",
     "evalue": "invalid syntax (<ipython-input-17-3a14d01b646a>, line 12)",
     "traceback": [
      "\u001b[0;36m  File \u001b[0;32m\"<ipython-input-17-3a14d01b646a>\"\u001b[0;36m, line \u001b[0;32m12\u001b[0m\n\u001b[0;31m    corpus_df = corpus_df[]\u001b[0m\n\u001b[0m                          ^\u001b[0m\n\u001b[0;31mSyntaxError\u001b[0m\u001b[0;31m:\u001b[0m invalid syntax\n"
     ]
    }
   ],
   "source": [
    "with open('../Files/cien_soledad.txt', 'r') as file:\n",
    "    corpus = ( \n",
    "        file.read()\n",
    "        .replace('\\n', '')\n",
    "        .split(r'.')\n",
    "    )\n",
    "corpus_df = pd.DataFrame(corpus)\n",
    "corpus_df.columns = ['sentences']\n",
    "corpus_df['sentences'] = corpus_df.sentences.str.strip()\n",
    "corpus_df['len'] = corpus_df.sentences.str\n",
    "\n",
    "corpus_df = corpus_df[]\n",
    "\n",
    "corpus_df.head()"
   ]
  },
  {
   "cell_type": "markdown",
   "metadata": {},
   "source": [
    "## Encontrar las líneas que contengan números telefonicos"
   ]
  },
  {
   "cell_type": "code",
   "execution_count": 6,
   "metadata": {},
   "outputs": [
    {
     "data": {
      "text/html": "<div>\n<style scoped>\n    .dataframe tbody tr th:only-of-type {\n        vertical-align: middle;\n    }\n\n    .dataframe tbody tr th {\n        vertical-align: top;\n    }\n\n    .dataframe thead th {\n        text-align: right;\n    }\n</style>\n<table border=\"1\" class=\"dataframe\">\n  <thead>\n    <tr style=\"text-align: right;\">\n      <th></th>\n      <th></th>\n      <th>0</th>\n      <th>1</th>\n    </tr>\n    <tr>\n      <th></th>\n      <th>match</th>\n      <th></th>\n      <th></th>\n    </tr>\n  </thead>\n  <tbody>\n    <tr>\n      <th>177</th>\n      <th>0</th>\n      <td>+57</td>\n      <td>3223960100</td>\n    </tr>\n    <tr>\n      <th>239</th>\n      <th>0</th>\n      <td>+57</td>\n      <td>6655861</td>\n    </tr>\n    <tr>\n      <th rowspan=\"2\" valign=\"top\">722</th>\n      <th>0</th>\n      <td></td>\n      <td>3208706120</td>\n    </tr>\n    <tr>\n      <th>1</th>\n      <td>+47</td>\n      <td>69793</td>\n    </tr>\n    <tr>\n      <th>815</th>\n      <th>4</th>\n      <td></td>\n      <td>018000127400</td>\n    </tr>\n    <tr>\n      <th>877</th>\n      <th>1</th>\n      <td></td>\n      <td>14000</td>\n    </tr>\n  </tbody>\n</table>\n</div>",
      "text/plain": "             0             1\n    match                   \n177 0      +57    3223960100\n239 0      +57       6655861\n722 0             3208706120\n    1      +47         69793\n815 4           018000127400\n877 1                  14000"
     },
     "execution_count": 6,
     "metadata": {},
     "output_type": "execute_result"
    }
   ],
   "source": [
    "ans = tweets_df.copy()\n",
    "phones = ans['text'].str.extractall(r\"[^\\w](\\+\\d{2})?(\\s*\\d+)+\")\n",
    "phones[1] = phones[1].str.strip()\n",
    "phones = phones[phones[1].str.len() > 4]\n",
    "phones = phones.fillna(\"\")\n",
    "\n",
    "phones"
   ]
  },
  {
   "cell_type": "code",
   "execution_count": 7,
   "metadata": {},
   "outputs": [
    {
     "data": {
      "text/plain": "('🀀', '\\U0002f000')"
     },
     "execution_count": 7,
     "metadata": {},
     "output_type": "execute_result"
    }
   ],
   "source": [
    "(chr(0x1f000), chr(0x2f000))"
   ]
  },
  {
   "cell_type": "code",
   "execution_count": 8,
   "metadata": {},
   "outputs": [
    {
     "data": {
      "text/plain": "<re.Match object; span=(23, 24), match='📞'>"
     },
     "execution_count": 8,
     "metadata": {},
     "output_type": "execute_result"
    }
   ],
   "source": [
    "test = \"te @AuderH.Contáctanos 📞 al +57 3223960100 📞 estamos para complacer\"\n",
    "exp = re.compile(r'[🀀-𯀀]')\n",
    "exp.search(test)"
   ]
  },
  {
   "cell_type": "code",
   "execution_count": 9,
   "metadata": {},
   "outputs": [
    {
     "data": {
      "text/html": "<div>\n<style scoped>\n    .dataframe tbody tr th:only-of-type {\n        vertical-align: middle;\n    }\n\n    .dataframe tbody tr th {\n        vertical-align: top;\n    }\n\n    .dataframe thead th {\n        text-align: right;\n    }\n</style>\n<table border=\"1\" class=\"dataframe\">\n  <thead>\n    <tr style=\"text-align: right;\">\n      <th></th>\n      <th>id_tweet</th>\n      <th>created_at</th>\n      <th>user_name</th>\n      <th>text</th>\n    </tr>\n  </thead>\n  <tbody>\n    <tr>\n      <th>5</th>\n      <td>1047199536978911232</td>\n      <td>2018-10-02 14:00:00</td>\n      <td>Bogota</td>\n      <td>#NoOlvides 🧐 que las rutas alimentadoras 2-11 ...</td>\n    </tr>\n    <tr>\n      <th>10</th>\n      <td>1047287648782635008</td>\n      <td>2018-10-02 19:50:07</td>\n      <td>__Agnelli</td>\n      <td>@camilofacellif Después del accidente hago tod...</td>\n    </tr>\n    <tr>\n      <th>12</th>\n      <td>1047499932209430528</td>\n      <td>2018-10-03 09:53:40</td>\n      <td>melo18peralt</td>\n      <td>Todo el mundo hablando de amor y uno bien frío...</td>\n    </tr>\n    <tr>\n      <th>13</th>\n      <td>1047505442254016519</td>\n      <td>2018-10-03 10:15:33</td>\n      <td>DianaMorV</td>\n      <td>@Venancioopinon Querido Venancio, gracias. 🦁❤️🇮🇩</td>\n    </tr>\n    <tr>\n      <th>21</th>\n      <td>1047816604489269248</td>\n      <td>2018-10-04 06:52:00</td>\n      <td>MONTOYAANGELIK</td>\n      <td>#enlavialavida 🚴🏼‍♀️🚴🏼‍♂️#niunomas #Bocarejore...</td>\n    </tr>\n    <tr>\n      <th>23</th>\n      <td>1047920898479742977</td>\n      <td>2018-10-04 13:46:26</td>\n      <td>clajoesor</td>\n      <td>Me encanta!! Felicitaciones @VickyDavilaH me g...</td>\n    </tr>\n    <tr>\n      <th>42</th>\n      <td>1048446529848193025</td>\n      <td>2018-10-06 00:35:06</td>\n      <td>HSANCHEZ09</td>\n      <td>🔥🔥🇨🇴💎⚽🥇🏆🔥🔥 en La Concha FC https://t.co/LwUuR8...</td>\n    </tr>\n    <tr>\n      <th>48</th>\n      <td>1048612691538038784</td>\n      <td>2018-10-06 11:35:22</td>\n      <td>Brendamdelga</td>\n      <td>Buenos días 🤙🏼🤙🏼 https://t.co/vJrRQ9CjqV</td>\n    </tr>\n    <tr>\n      <th>59</th>\n      <td>1048911882113961984</td>\n      <td>2018-10-07 07:24:15</td>\n      <td>HLiinda</td>\n      <td>\"\"\"\"\"\"\"\"\"\"\"\"\"\"\"\"\"\"\"\"\"\"\"\"\"\"\"\"\"\"\"Ya Vendrán Mejo...</td>\n    </tr>\n    <tr>\n      <th>64</th>\n      <td>1049024971589214209</td>\n      <td>2018-10-07 14:53:37</td>\n      <td>LauraNaoEsta</td>\n      <td>Como gane Bolsonaro en Brasil se acabó la educ...</td>\n    </tr>\n  </tbody>\n</table>\n</div>",
      "text/plain": "               id_tweet           created_at       user_name  \\\n5   1047199536978911232  2018-10-02 14:00:00          Bogota   \n10  1047287648782635008  2018-10-02 19:50:07       __Agnelli   \n12  1047499932209430528  2018-10-03 09:53:40    melo18peralt   \n13  1047505442254016519  2018-10-03 10:15:33       DianaMorV   \n21  1047816604489269248  2018-10-04 06:52:00  MONTOYAANGELIK   \n23  1047920898479742977  2018-10-04 13:46:26       clajoesor   \n42  1048446529848193025  2018-10-06 00:35:06      HSANCHEZ09   \n48  1048612691538038784  2018-10-06 11:35:22    Brendamdelga   \n59  1048911882113961984  2018-10-07 07:24:15         HLiinda   \n64  1049024971589214209  2018-10-07 14:53:37    LauraNaoEsta   \n\n                                                 text  \n5   #NoOlvides 🧐 que las rutas alimentadoras 2-11 ...  \n10  @camilofacellif Después del accidente hago tod...  \n12  Todo el mundo hablando de amor y uno bien frío...  \n13   @Venancioopinon Querido Venancio, gracias. 🦁❤️🇮🇩  \n21  #enlavialavida 🚴🏼‍♀️🚴🏼‍♂️#niunomas #Bocarejore...  \n23  Me encanta!! Felicitaciones @VickyDavilaH me g...  \n42  🔥🔥🇨🇴💎⚽🥇🏆🔥🔥 en La Concha FC https://t.co/LwUuR8...  \n48           Buenos días 🤙🏼🤙🏼 https://t.co/vJrRQ9CjqV  \n59  \"\"\"\"\"\"\"\"\"\"\"\"\"\"\"\"\"\"\"\"\"\"\"\"\"\"\"\"\"\"\"Ya Vendrán Mejo...  \n64  Como gane Bolsonaro en Brasil se acabó la educ...  "
     },
     "execution_count": 9,
     "metadata": {},
     "output_type": "execute_result"
    }
   ],
   "source": [
    "\n",
    "mask = tweets_df['text'].str.contains(r'[🀀-𯀀]')\n",
    "ans = tweets_df[mask].head(10)\n",
    "ans"
   ]
  },
  {
   "cell_type": "markdown",
   "metadata": {},
   "source": [
    "# Tokenization\n",
    "\n",
    "* Dividir tokens por espacios, “tab”, y “enters”\n",
    "* Dividir por emoticones:\n",
    "* NO divider hashtags\n",
    "* Separar signos de puntuación del texto (tokesn individuales):\n",
    "* Separar “Contractions” usando el “apostrophe”"
   ]
  },
  {
   "cell_type": "code",
   "execution_count": 88,
   "metadata": {},
   "outputs": [],
   "source": [
    "def flat_list(arg):\n",
    "    ans = []\n",
    "    for li in arg:\n",
    "        if isinstance(li, list):\n",
    "            ans += li\n",
    "        else:\n",
    "            ans += [li]\n",
    "    return ans\n",
    "\n",
    "def tokenizer(text):\n",
    "    separate_group = lambda match: \"|\" + match.group(0) + \"|\"\n",
    "\n",
    "    space_re = re.compile (r'\\s+')\n",
    "    emoji_re = re.compile (r'([🀀-𯀀]+)')\n",
    "    punctuation_re = re.compile (r\"([\\.,/\\\\:¿?\\-$%()!¡]+)\")\n",
    "    contractions_re = re.compile (r\"(n?'\\w+)\")\n",
    "\n",
    "    token_list = space_re.split(text)\n",
    "\n",
    "    token_list = [ emoji_re.sub(separate_group, txt) for txt in token_list ]\n",
    "    token_list = [ txt.split('|') for txt in token_list ]\n",
    "    token_list = flat_list(token_list)\n",
    "\n",
    "    token_list = [ punctuation_re.sub(separate_group, txt) for txt in token_list ]\n",
    "    token_list = [ txt.split('|') for txt in token_list ]\n",
    "    token_list = flat_list(token_list)\n",
    "\n",
    "    token_list = [ contractions_re.sub(separate_group, txt) for txt in token_list ]\n",
    "    token_list = [ txt.split('|') for txt in token_list ]\n",
    "    token_list = flat_list(token_list)\n",
    "\n",
    "    token_list = [ txt for txt in token_list if len(txt) > 0 ]\n",
    "    return token_list"
   ]
  },
  {
   "cell_type": "code",
   "execution_count": 90,
   "metadata": {},
   "outputs": [
    {
     "data": {
      "text/plain": "['I',\n \"'m\",\n 'at',\n 'Centro',\n 'Comercial',\n '@ParqueLaColina_',\n 'in',\n 'Bogotá',\n ',',\n 'Oliii',\n '😃😃😃',\n 'Bogota',\n 'D',\n '.',\n 'C',\n '.',\n 'https',\n '://',\n 't',\n '.',\n 'co',\n '/',\n 'RQXSpmmifR']"
     },
     "execution_count": 90,
     "metadata": {},
     "output_type": "execute_result"
    }
   ],
   "source": [
    "text = \"I'm at Centro Comercial @ParqueLaColina_ in Bogotá, Oliii😃😃😃 Bogota D.C. https://t.co/RQXSpmmifR\"\n",
    "tokens = tokenizer(text)\n",
    "tokens"
   ]
  },
  {
   "cell_type": "markdown",
   "metadata": {},
   "source": [
    "## Normalizacion"
   ]
  },
  {
   "cell_type": "code",
   "execution_count": 121,
   "metadata": {},
   "outputs": [],
   "source": [
    "#cargue Diccionario o Libro\n",
    "def words(text):\n",
    "    return re.findall(r'\\w+', text.lower())\n",
    "WORDS = Counter(words(open('../Files/cien_soledad.txt').read()))\n",
    "\n",
    "def palabra_clave(word, N=sum(WORDS.values())): \n",
    "    return WORDS[word] / N\n",
    "\n",
    "def corrector(word): \n",
    "    return max(candidatos(word), key=palabra_clave)\n",
    "\n",
    "def candidatos(word): \n",
    "    return (cadena([word]) or cadena(busqueda(word)) or cadena(busquedad_val(word)) or [word])\n",
    "\n",
    "def cadena(words): \n",
    "    return set(w for w in words if w in WORDS)\n",
    "\n",
    "def busqueda(word):\n",
    "    letters    = 'abcdefghijklmnopqrstuvwxyz'\n",
    "    splits     = [(word[:i], word[i:])    for i in range(len(word) + 1)]\n",
    "    deletes    = [L + R[1:]               for L, R in splits if R]\n",
    "    transposes = [L + R[1] + R[0] + R[2:] for L, R in splits if len(R)>1]\n",
    "    replaces   = [L + c + R[1:]           for L, R in splits if R for c in letters]\n",
    "    inserts    = [L + c + R               for L, R in splits for c in letters]\n",
    "    return set(deletes + transposes + replaces + inserts)\n",
    "\n",
    "#se realiza busqueda por cada una de las paalbras\n",
    "def busquedad_val(word): \n",
    "    return (e2 for e1 in busqueda(word) for e2 in busqueda(e1))"
   ]
  },
  {
   "cell_type": "code",
   "execution_count": 120,
   "metadata": {},
   "outputs": [
    {
     "data": {
      "text/plain": "'voz'"
     },
     "execution_count": 120,
     "metadata": {},
     "output_type": "execute_result"
    }
   ],
   "source": [
    "corrector('vow')"
   ]
  },
  {
   "cell_type": "markdown",
   "metadata": {},
   "source": [
    "##  Porter's Algorithm"
   ]
  },
  {
   "cell_type": "code",
   "execution_count": 108,
   "metadata": {},
   "outputs": [
    {
     "data": {
      "text/plain": "(<PorterStemmer>, <Text: The Book of Genesis>)"
     },
     "execution_count": 108,
     "metadata": {},
     "output_type": "execute_result"
    }
   ],
   "source": [
    "stemmer = PorterStemmer()\n",
    "(stemmer, text3)"
   ]
  },
  {
   "cell_type": "code",
   "execution_count": 107,
   "metadata": {},
   "outputs": [
    {
     "data": {
      "text/plain": "r'),\n ('wing', 'winged'),\n ('breaketh', 'breaketh'),\n ('ophir', 'Ophir'),\n ('are', 'Areli'),\n ('maiden', 'maiden'),\n ('hil', 'hil'),\n ('gether', 'Gether'),\n ('aw', 'aw'),\n ('wonder', 'wondering'),\n ('judgment', 'judgment'),\n ('thou', 'Thou'),\n ('nourish', 'nourish'),\n ('ey', 'ey'),\n ('knoweth', 'knoweth'),\n ('tree', 'tree'),\n ('camel', 'camels'),\n ('seven', 'sevens'),\n ('shame', 'shamed'),\n ('My', 'My'),\n ('shed', 'shed'),\n ('establish', 'establish'),\n ('G', 'G'),\n ('bethel', 'Bethel'),\n ('wrap', 'wrapped'),\n ('slew', 'slew'),\n ('been', 'been'),\n ('again', 'again'),\n ('meant', 'meant'),\n ('maidserv', 'maidservants'),\n ('activ', 'activity'),\n ('peradventur', 'peradventure'),\n ('exchang', 'exchange'),\n ('widowhood', 'widowhood'),\n ('shammah', 'Shammah'),\n ('honour', 'honourable'),\n ('bear', 'bearing'),\n ('s', 's'),\n ('purchas', 'purchased'),\n ('rephaim', 'Rephaims'),\n ('anoth', 'another'),\n ('withhold', 'withhold'),\n ('pit', 'pit'),\n ('husbandman', 'husbandman'),\n ('hul', 'Hul'),\n ('interpret', 'interpretation'),\n ('lion', 'lion'),\n ('ste', 'ste'),\n ('wicked', 'wickedness'),\n ('feed', 'feed'),\n ('hadad', 'Hadad'),\n ('bere', 'Bered'),\n ('mention', 'mention'),\n ('fifth', 'fifth'),\n ('hairi', 'hairy'),\n ('Am', 'Am'),\n ('vision', 'visions'),\n ('slain', 'slain'),\n ('earth', 'earth'),\n ('yea', 'yea'),\n ('hand', 'hands'),\n ('one', 'ones'),\n ('nineti', 'ninety'),\n ('thousand', 'thousands'),\n ('fill', 'fill'),\n ('whensoev', 'whensoever'),\n ('sanctifi', 'sanctified'),\n ('process', 'process'),\n ('noon', 'noon'),\n ('whelp', 'whelp'),\n ('yea', 'Yea'),\n ('ass', 'asses'),\n ('they', 'they'),\n ('jacob', 'Jacob'),\n ('child', 'child'),\n ('plenti', 'plenty'),\n ('adullamit', 'Adullamite'),\n ('n', 'n'),\n ('within', 'within'),\n ('wive', 'wives'),\n ('onli', 'only'),\n ('follow', 'following'),\n ('prey', 'prey'),\n ('lamentati', 'lamentati'),\n ('sheep', 'sheep'),\n ('move', 'moving'),\n ('drove', 'droves'),\n ('kept', 'kept'),\n ('salvat', 'salvation'),\n ('multipli', 'multiplying'),\n ('buy', 'buy'),\n ('thing', 'thing'),\n ('dwell', 'dwell'),\n ('fashion', 'fashion'),\n ('Zo', 'Zo'),\n ('sac', 'sac'),\n ('glori', 'glory'),\n ('princ', 'princes'),\n ('kid', 'kid'),\n ('twin', 'twins'),\n ('moriah', 'Moriah'),\n ('also', 'also'),\n ('sight', 'sight'),\n ('trespass', 'trespass'),\n ('all', 'All'),\n ('nineteen', 'nineteen'),\n ('such', 'such'),\n ('asshurim', 'Asshurim'),\n ('bear', 'bear'),\n ('felt', 'felt'),\n ('wittingli', 'wittingly'),\n ('din', 'Din'),\n ('oliv', 'olive'),\n ('ground', 'ground'),\n ('kadmonit', 'Kadmonites'),\n ('eaten', 'eaten'),\n ('midian', 'Midian'),\n ('hunter', 'hunter'),\n ('dead', 'dead'),\n ('reumah', 'Reumah'),\n ('shoulder', 'shoulder'),\n ('ladder', 'ladder'),\n ('afterward', 'afterward'),\n ('instead', 'instead'),\n ('victual', 'victuals'),\n ('slaughter', 'slaughter'),\n ('grow', 'grow'),\n ('weigh', 'weighed'),\n ('hire', 'hire'),\n ('form', 'formed'),\n ('perform', 'perform'),\n ('behind', 'behind'),\n ('camel', 'camel'),\n ('ship', 'ships'),\n ('hitti', 'Hitti'),\n ('tower', 'tower'),\n ('nativ', 'nativity'),\n ('abroad', 'abroad'),\n ('stalk', 'stalk'),\n ('asham', 'ashamed'),\n ('eleloheisrael', 'EleloheIsrael'),\n ('both', 'both'),\n ('calah', 'Calah'),\n ('zilpah', 'Zilpah'),\n ('staff', 'staff'),\n ('wash', 'washed'),\n ('preserv', 'preserve'),\n ('Er', 'Er'),\n ('wors', 'worse'),\n ('vow', 'vowed'),\n ('whole', 'whole'),\n ('nig', 'nig'),\n ('canst', 'canst'),\n ('I', 'I'),\n ('treasur', 'treasure'),\n ('ten', 'ten'),\n ('law', 'law'),\n ('certainli', 'certainly'),\n ('far', 'far'),\n ('lamb', 'lamb'),\n ('angel', 'angel'),\n ('thyself', 'thyself'),\n ('remain', 'remained'),\n ('fourth', 'fourth'),\n ('pleas', 'pleased'),\n ('wouldest', 'wouldest'),\n ('choic', 'choice'),\n ('shaul', 'Shaul'),\n ('southward', 'southward'),\n ('He', 'He'),\n ('offer', 'offerings'),\n ('beersheba', 'Beersheba'),\n ('eat', 'eat'),\n ('bela', 'Bela'),\n ('malchiel', 'Malchiel'),\n ('them', 'them'),\n ('ishmael', 'Ishmael'),\n ('stead', 'stead'),\n ('servan', 'servan'),\n ('side', 'side'),\n ('doubl', 'double'),\n ('beyond', 'beyond'),\n ('thistl', 'thistles'),\n ('hair', 'hairs'),\n ('comest', 'comest'),\n ('thoroughli', 'thoroughly'),\n ('herein', 'herein'),\n ('isaac', 'Isaac'),\n ('sport', 'sporting'),\n ('leaf', 'leaf'),\n ('may', 'may'),\n ('dearth', 'dearth'),\n ('ezer', 'Ezer'),\n ('ear', 'ear'),\n ('burnt', 'burnt'),\n ('veri', 'very'),\n ('cloth', 'clothes'),\n ('scarc', 'scarce'),\n ('rememb', 'remember'),\n ('fruit', 'fruitful'),\n ('beerlahairoi', 'Beerlahairoi'),\n ('brook', 'brook'),\n ('where', 'where'),\n ('appoint', 'appoint'),\n ('citi', 'citi'),\n ('spoil', 'spoiled'),\n ('brought', 'brought'),\n ('alway', 'always'),\n ('sheleph', 'Sheleph'),\n ('storehous', 'storehouses'),\n ('few', 'few'),\n ('conceal', 'conceal'),\n ('knew', 'knew'),\n ('possess', 'possess'),\n ('escap', 'Escape'),\n ('find', 'find'),\n ('ir', 'ir'),\n ('creat', 'created'),\n ('quiver', 'quiver'),\n ('do', 'doing'),\n ('floc', 'floc'),\n ('bow', 'bowed'),\n ('requit', 'requite'),\n ('inhabit', 'inhabited'),\n ('aner', 'Aner'),\n ('alo', 'alo'),\n ('A', 'A'),\n ('abidah', 'Abidah'),\n ('bone', 'bones'),\n ('subtil', 'subtil'),\n ('must', 'must'),\n ('fugit', 'fugitive'),\n ('one', 'one'),\n ('hamul', 'Hamul'),\n ('torn', 'torn'),\n ('harvest', 'harvest'),\n ('eye', 'eyes'),\n ('hittit', 'Hittites'),\n ('hou', 'hous'),\n ('irad', 'Irad'),\n ('fountain', 'fountains'),\n ('am', 'am'),\n ('part', 'part'),\n ('gotten', 'gotten'),\n ('subdu', 'subdue'),\n ('sheba', 'Sheba'),\n ('then', 'Then'),\n ('potiphar', 'Potiphar'),\n ('jebusit', 'Jebusites'),\n ('assign', 'assigned'),\n ('mahalath', 'Mahalath'),\n ('wit', 'wit'),\n ('tru', 'tru'),\n ('poverti', 'poverty'),\n ('phuvah', 'Phuvah'),\n ('governor', 'governor'),\n ('ark', 'ark'),\n ('without', 'without'),\n ('sister', 'sister'),\n ('woman', 'woman'),\n ('seir', 'Seir'),\n ('lade', 'lade'),\n ('dominion', 'dominion'),\n ('progenitor', 'progenitors'),\n ('beheld', 'beheld'),\n ('huppim', 'Huppim'),\n ('togarmah', 'Togarmah'),\n ('begat', 'begat'),\n ('straw', 'straw'),\n ('whose', 'Whose'),\n ('ludim', 'Ludim'),\n ('born', 'born'),\n ('afflict', 'afflict'),\n ('moabit', 'Moabites'),\n ('and', 'and'),\n ('wild', 'wild'),\n ('mourn', 'mourn'),\n ('nought', 'nought'),\n ('burden', 'burdens'),\n ('benjamin', 'Benjamin'),\n ('should', 'Should'),\n ('skin', 'skins'),\n ('elbethel', 'Elbethel'),\n ('peniel', 'Peniel'),\n ('sure', 'surely'),\n ('mule', 'mules'),\n ('earth', 'Earth'),\n ('journey', 'journeyed'),\n ('nake', 'naked'),\n ('cave', 'cave'),\n ('cover', 'covered'),\n ('aholibamah', 'Aholibamah'),\n ('shepho', 'Shepho'),\n ('command', 'commanded'),\n ('plain', 'plain'),\n ('matter', 'matter'),\n ('steal', 'steal'),\n ('mock', 'mocking'),\n ('refus', 'refused'),\n ('stronger', 'stronger'),\n ('requir', 'required'),\n ('besid', 'besides'),\n ('window', 'window'),\n ('kindl', 'kindled'),\n ('chose', 'chose'),\n ('fir', 'fir'),\n ('dainti', 'dainties'),\n ('moveth', 'moveth'),\n ('Es', 'Es'),\n ('foal', 'foals'),\n ('thirti', 'thirty'),\n ('naphish', 'Naphish'),\n ('admah', 'Admah'),\n ('lead', 'lead'),\n ('battl', 'battle'),\n ('breath', 'breathed'),\n ('open', 'open'),\n ('machir', 'Machir'),\n ('hori', 'Hori'),\n ('enoch', 'Enoch'),\n ('former', 'former'),\n ('concubin', 'concubines'),\n ('led', 'led'),\n ('barren', 'barren'),\n ('harm', 'harm'),\n ('good', 'good'),\n ('pass', 'pass'),\n ('draw', 'draw'),\n ('priest', 'priests'),\n ('liveth', 'liveth'),\n ('buri', 'buried'),\n ('gale', 'Galeed'),\n ('bind', 'binding'),\n ('accept', 'accept'),\n ('blame', 'blame'),\n ('walketh', 'walketh'),\n ('luz', 'Luz'),\n ('answer', 'answered'),\n ('roof', 'roof'),\n ('visit', 'visit'),\n ('curs', 'cursed'),\n ('give', 'Give'),\n ('horit', 'Horite'),\n ('shall', 'shall'),\n ('arm', 'armed'),\n ('intreat', 'intreated'),\n ('portion', 'portion'),\n ('afraid', 'afraid'),\n ('breach', 'breach'),\n ('corn', 'corn'),\n ('prais', 'praise'),\n ('arbah', 'Arbah'),\n ('gone', 'gone'),\n ('sto', 'sto'),\n ('apron', 'aprons'),\n ('lay', 'lay'),\n ('pau', 'Pau'),\n ('grave', 'grave'),\n ('hath', 'hath'),\n ('whenc', 'whence'),\n ('wentest', 'wentest'),\n ('milcah', 'Milcah'),\n ('integr', 'integrity'),\n ('six', 'six'),\n ('ammon', 'Ammon'),\n ('caus', 'caused'),\n ('zidon', 'Zidon'),\n ('bre', 'bre'),\n ('purpos', 'purposing'),\n ('kind', 'kinds'),\n ('cheran', 'Cheran'),\n ('wheat', 'wheat'),\n ('spee', 'spee'),\n ('Me', 'Me'),\n ('have', 'having'),\n ('garment', 'garment'),\n ('brick', 'brick'),\n ('mibsam', 'Mibsam'),\n ('reproa', 'reproa'),\n ('kine', 'kine'),\n ('upright', 'upright'),\n ('think', 'think'),\n ('excel', 'excel'),\n ('foreskin', 'foreskin'),\n ('look', 'look'),\n ('yet', 'yet'),\n ('hazel', 'hazel'),\n ('womenservan', 'womenservan'),\n ('vengeanc', 'vengeance'),\n ('laugh', 'laugh'),\n ('build', 'build'),\n ('dreamer', 'dreamer'),\n ('Se', 'Se'),\n ('seba', 'Seba'),\n ('cun', 'cunning'),\n ('eber', 'Eber'),\n ('commend', 'commended'),\n ('adam', 'Adam'),\n ('mourn', 'mourned'),\n ('prison', 'prisoners'),\n ('mayest', 'mayest'),\n ('power', 'power'),\n ('wall', 'wall'),\n ('Of', 'Of'),\n ('ashkenaz', 'Ashkenaz'),\n ('finish', 'finish'),\n ('return', 'Return'),\n ('swear', 'swear'),\n ('deceiv', 'deceived'),\n ('shoelatchet', 'shoelatchet'),\n ('branch', 'branches'),\n ('play', 'played'),\n ('voic', 'voice'),\n ('naaman', 'Naaman'),\n ('you', 'you'),\n ('ki', 'ki'),\n ('sod', 'Sod'),\n ('sarai', 'Sarai'),\n ('pottag', 'pottage'),\n ('unstabl', 'Unstable'),\n ('stone', 'stone'),\n ('soul', 'soul'),\n ('app', 'appe'),\n ('burn', 'burn'),\n ('sword', 'sword'),\n ('are', 'Are'),\n ('high', 'high'),\n ('wherebi', 'whereby'),\n ('drought', 'drought'),\n ('becaus', 'Because'),\n ('sweet', 'sweet'),\n ('entreat', 'entreated'),\n ('westwa', 'westwa'),\n ('call', 'called'),\n ('knead', 'knead'),\n ('presenc', 'presence'),\n ('through', 'through'),\n ('escap', 'escape'),\n ('mouth', 'mouths'),\n ('philistin', 'Philistines'),\n ('dwell', 'dwelling'),\n ('clave', 'clave'),\n ('let', 'Let'),\n ('sore', 'sorely'),\n ('give', 'giving'),\n ('By', 'By'),\n ('top', 'tops'),\n ('sojourn', 'Sojourn'),\n ('gerar', 'Gerar'),\n ('If', 'If'),\n ('hamathit', 'Hamathite'),\n ('rise', 'rise'),\n ('thirteenth', 'thirteenth'),\n ('heaven', 'heavens'),\n ('built', 'built'),\n ('sun', 'sun'),\n ('wept', 'wept'),\n ('shobal', 'Shobal'),\n ('tarshish', 'Tarshish'),\n ('shadow', 'shadow'),\n ('moab', 'Moab'),\n ('comfort', 'comfort'),\n ('enquir', 'enquire'),\n ('kn', 'kn'),\n ('pinon', 'Pinon'),\n ('kind', 'kind'),\n ('beneath', 'beneath'),\n ('fo', 'fo'),\n ('shel', 'Shel'),\n ('hai', 'Hai'),\n ('bread', 'bread'),\n ('mountain', 'mountains'),\n ('tree', 'trees'),\n ('sod', 'sod'),\n ('buz', 'Buz'),\n ('interpret', 'interpreted'),\n ('oath', 'oath'),\n ('mibzar', 'Mibzar'),\n ('uncircumcis', 'uncircumcised'),\n ('natio', 'natio'),\n ('work', 'work'),\n ('poplar', 'poplar'),\n ('greatli', 'greatly'),\n ('went', 'went'),\n ('rib', 'ribs'),\n ('fifteen', 'Fifteen'),\n ('water', 'waters'),\n ('bowel', 'bowels'),\n ('pour', 'poured'),\n ('intreat', 'intreat'),\n ('verifi', 'verified'),\n ('sure', 'sure'),\n ('shinar', 'Shinar'),\n ('sackcloth', 'sackcloth'),\n ('fatflesh', 'fatfleshed'),\n ('findest', 'findest'),\n ('judg', 'Judge'),\n ('marriag', 'marriages'),\n ('potipherah', 'Potipherah'),\n ('curs', 'curse'),\n ('onam', 'Onam'),\n ('rebuk', 'rebuked'),\n ('belong', 'belong'),\n ('drew', 'drew'),\n ('bless', 'blessed'),\n ('worship', 'worship'),\n ('proceedeth', 'proceedeth'),\n ('mash', 'Mash'),\n ('embrac', 'embraced'),\n ('their', 'their'),\n ('time', 'times'),\n ('shechem', 'Shechem'),\n ('while', 'while'),\n ('edomit', 'Edomites'),\n ('obal', 'Obal'),\n ('wickedli', 'wickedly'),\n ('sevenfold', 'sevenfold'),\n ('gihon', 'Gihon'),\n ('hast', 'hasted'),\n ('serah', 'Serah'),\n ('there', 'There'),\n ('end', 'end'),\n ('faileth', 'faileth'),\n ('prevail', 'prevail'),\n ('egyptian', 'Egyptians'),\n ('overthrow', 'overthrow'),\n ('therefor', 'Therefore'),\n ('ran', 'ran'),\n ('letushim', 'Letushim'),\n ('cometh', 'cometh'),\n ('forth', 'forth'),\n ('weari', 'weary'),\n ('ezbon', 'Ezbon'),\n ('kedemah', 'Kedemah'),\n ('pursu', 'pursued'),\n ('dale', 'dale'),\n ('knee', 'knees'),\n ('deed', 'deed'),\n ('wrought', 'wrought'),\n ('Lo', 'Lo'),\n ('midwif', 'midwife'),\n ('dothan', 'Dothan'),\n ('doeth', 'doeth'),\n ('shaveh', 'Shaveh'),\n ('caught', 'caught'),\n ('where', 'Where'),\n ('shalem', 'Shalem'),\n ('and', 'And'),\n ('report', 'report'),\n ('person', 'person'),\n ('altar', 'altar'),\n ('lack', 'lack'),\n ('ellasar', 'Ellasar'),\n ('war', 'war'),\n ('rider', 'rider'),\n ('sepulchr', 'sepulchre'),\n ('togeth', 'together'),\n ('lud', 'Lud'),\n ('see', 'See'),\n ('bring', 'bring'),\n ('rule', 'ruled'),\n ('offic', 'officers'),\n ('devour', 'devour'),\n ('thought', 'thought'),\n ('bilhan', 'Bilhan'),\n ('after', 'after'),\n ('thorn', 'Thorns'),\n ('yield', 'yielding'),\n ('forgat', 'forgat'),\n ('pledg', 'pledge'),\n ('wife', 'wife'),\n ('ascend', 'ascending'),\n ('therein', 'therein'),\n ('y', 'y'),\n ('sa', 'sa'),\n ('winter', 'winter'),\n ('doer', 'doer'),\n ('co', 'co'),\n ('garden', 'garden'),\n ('vine', 'vine'),\n ('royal', 'royal'),\n ('dress', 'dress'),\n ('laban', 'Laban'),\n ('spoil', 'spoil'),\n ('yield', 'yielded'),\n ('manner', 'manner'),\n ('sawest', 'sawest'),\n ('dew', 'dew'),\n ('boldli', 'boldly'),\n ('organ', 'organ'),\n ('lift', 'Lift'),\n ('morn', 'morning'),\n ('gave', 'gave'),\n ('wherefor', 'wherefore'),\n ('justic', 'justice'),\n ('band', 'bands'),\n ('go', 'go'),\n ('wax', 'waxed'),\n ('rosh', 'Rosh'),\n ('kill', 'killed'),\n ('betim', 'betimes'),\n ('mishma', 'Mishma'),\n ('merri', 'merry'),\n ('hand', 'hand'),\n ('mighti', 'mighty'),\n ('yield', 'yield'),\n ('deliv', 'deliver'),\n ('bless', 'blessings'),\n ('pluckt', 'pluckt'),\n ('bound', 'bound'),\n ('face', 'faces'),\n ('isa', 'Isa'),\n ('feet', 'feet'),\n ('bought', 'bought'),\n ('speed', 'speed'),\n ('kedar', 'Kedar'),\n ('merchant', 'merchant'),\n ('gaza', 'Gaza'),\n ('slept', 'slept'),\n ('artific', 'artificer'),\n ('green', 'green'),\n ('for', 'For'),\n ('broth', 'broth'),\n ('pison', 'Pison'),\n ('graciou', 'gracious'),\n ('she', 'She'),\n ('alon', 'alone'),\n ('know', 'Know'),\n ('meeteth', 'meeteth'),\n ('after', 'After'),\n ('rid', 'rid'),\n ('toward', 'toward'),\n ('declar', 'declare'),\n ('anamim', 'Anamim'),\n ('subtilti', 'subtilty'),\n ('sist', 'sist'),\n ('wroth', 'wroth'),\n ('herd', 'herd'),\n ('fath', 'fathe'),\n ('fair', 'fair'),\n ('colour', 'colours'),\n ('thenc', 'thence'),\n ('wash', 'wash'),\n ('fled', 'fled'),\n ('comfort', 'comforted'),\n ('couch', 'couched'),\n ('no', 'no'),\n ('deceiv', 'deceiver'),\n ('circumcis', 'circumcised'),\n ('overspread', 'overspread'),\n ('man', 'Man'),\n ('jac', 'Jac'),\n ('griev', 'grieved'),\n ('becam', 'became'),\n ('colt', 'colt'),\n ('zaavan', 'Zaavan'),\n ('freeli', 'freely'),\n ('secretli', 'secretly'),\n ('myself', 'myself'),\n ('deborah', 'Deborah'),\n ('drink', 'Drink'),\n ('water', 'watered'),\n ('hobah', 'Hobah'),\n ('obey', 'obey'),\n ('perizzit', 'Perizzite'),\n ('reuben', 'Reuben'),\n ('oak', 'oak'),\n ('laden', 'laden'),\n ('At', 'At'),\n ('tender', 'tender'),\n ('laugh', 'laughed'),\n ('hou', 'hou'),\n ('bozrah', 'Bozrah'),\n ('last', 'last'),\n ('statut', 'statutes'),\n ('chariot', 'chariots'),\n ('separ', 'separate'),\n ('bone', 'bone'),\n ('We', 'We'),\n ('isl', 'isles'),\n ('these', 'These'),\n ('pri', 'pris'),\n ('stand', 'Stand'),\n ('offend', 'offended'),\n ('mamr', 'Mamre'),\n ('tola', 'Tola'),\n ('asketh', 'asketh'),\n ('smite', 'smite'),\n ('ebal', 'Ebal'),\n ('pathrusim', 'Pathrusim'),\n ('weapon', 'weapons'),\n ('room', 'room'),\n ('kenizzit', 'Kenizzites'),\n ('haggi', 'Haggi'),\n ('amraphel', 'Amraphel'),\n ('duke', 'dukes'),\n ('word', 'word'),\n ('inherit', 'inheritance'),\n ('methusael', 'Methusael'),\n ('confeder', 'confederate'),\n ('countri', 'countries'),\n ('lamb', 'lambs'),\n ('send', 'Send'),\n ('husba', 'husba'),\n ('what', 'what'),\n ('thereon', 'thereon'),\n ('regard', 'regard'),\n ('gre', 'gre'),\n ('tide', 'tidings'),\n ('night', 'nights'),\n ('despis', 'despised'),\n ('kiss', 'kissed'),\n ('madai', 'Madai'),\n ('stand', 'stand'),\n ('dark', 'darkness'),\n ('hindermost', 'hindermost'),\n ('inde', 'indeed'),\n ('back', 'back'),\n ('thi', 'Thy'),\n ('desir', 'desire'),\n ('sinew', 'sinew'),\n ('abel', 'Abel'),\n ('pigeon', 'pigeon'),\n ('feast', 'feast'),\n ('aliv', 'alive'),\n ('whenc', 'Whence'),\n ('solemnli', 'solemnly'),\n ('nay', 'Nay'),\n ('mark', 'mark'),\n ('wit', 'witness'),\n ('bade', 'bade'),\n ('kindli', 'kindly'),\n ('bless', 'blessing'),\n ('seen', 'seen'),\n ('like', 'like'),\n ('lamech', 'Lamech'),\n ('ask', 'ask'),\n ('sack', 'sacks'),\n ('shore', 'shore'),\n ('lodg', 'lodge'),\n ('destroy', 'destroy'),\n ('reuel', 'Reuel'),\n ('serva', 'serva'),\n ('mehujael', 'Mehujael'),\n ('empti', 'empty'),\n ('bitter', 'bitter'),\n ('well', 'wells'),\n ('pharaoh', 'Pharaoh'),\n ('knowledg', 'knowledge'),\n ('bring', 'Bring'),\n ('overdr', 'overdrive'),\n ('abod', 'abode'),\n ('beguil', 'beguiled'),\n ('Up', 'Up'),\n ('ahuzzath', 'Ahuzzath'),\n ('basket', 'basket'),\n ('assembl', 'assembly'),\n ('wait', 'waited'),\n ('part', 'parted'),\n ('buryingplac', 'buryingplace'),\n ('possessor', 'possessor'),\n ('As', 'As'),\n ('ringstrak', 'ringstraked'),\n ('stood', 'stood'),\n ('righteous', 'righteousness'),\n ('sixti', 'sixty'),\n ('thigh', 'thigh'),\n ('compasseth', 'compasseth'),\n ('wi', 'wi'),\n ('discreet', 'discreet'),\n ('perpetu', 'perpetual'),\n ('jegarsahadutha', 'Jegarsahadutha'),\n ('sheepshear', 'sheepshearers'),\n ('ithran', 'Ithran'),\n ('dinhabah', 'Dinhabah'),\n ('shelah', 'Shelah'),\n ('asswag', 'asswaged'),\n ('walk', 'walked'),\n ('anointedst', 'anointedst'),\n ('abl', 'able'),\n ('embalm', 'embalm'),\n ('vision', 'vision'),\n ('abimelech', 'Abimelech'),\n ('casluhim', 'Casluhim'),\n ('beari', 'beari'),\n ('hebrew', 'Hebrew'),\n ('peopl', 'people'),\n ('childr', 'childr'),\n ('(', '('),\n ('awok', 'awoke'),\n ('standest', 'standest'),\n ('wherea', 'Whereas'),\n ('unto', 'unto'),\n ('horsemen', 'horsemen'),\n ('told', 'told'),\n ('tak', 'tak'),\n ('violenc', 'violence'),\n ('time', 'time'),\n ('phara', 'Phara'),\n ('crown', 'crown'),\n ('ham', 'Ham'),\n ('nor', 'nor'),\n ('eleven', 'eleven'),\n ('famili', 'families'),\n ('serpent', 'serpent'),\n ('egyptian', 'Egyptian'),\n ('interpret', 'interpreter'),\n ('adder', 'adder'),\n ('whither', 'whither'),\n ('among', 'among'),\n ('sle', 'sle'),\n ('year', 'year'),\n ('rachel', 'Rachel'),\n ('day', 'days'),\n ('bodi', 'bodies'),\n ('plant', 'planted'),\n ('wise', 'wise'),\n ('sephar', 'Sephar'),\n ('whi', 'Why'),\n ('damsel', 'damsels'),\n ('ephah', 'Ephah'),\n ('chang', 'changes'),\n (';', ';'),\n ('sea', 'seas'),\n ('sought', 'sought'),\n ('leav', 'leaves'),\n ('form', 'form'),\n ('midst', 'midst'),\n ('us', 'us'),\n ('bless', 'Bless'),\n ('sack', 'sack'),\n ('abundantli', 'abundantly'),\n ('lawgiv', 'lawgiver'),\n ('hast', 'Hast'),\n ('room', 'rooms'),\n ('dri', 'dried'),\n ('cloud', 'cloud'),\n ('sodom', 'Sodom'),\n ('mock', 'mock'),\n ('ashbel', 'Ashbel'),\n ('endur', 'endure'),\n ('remov', 'removed'),\n ('instrument', 'instruments'),\n ('loin', 'loins'),\n ('mizz', 'Mizz'),\n ('how', 'how'),\n ('zerah', 'Zerah'),\n ('gray', 'gray'),\n ('herb', 'herb'),\n ('prophet', 'prophet'),\n ('yoke', 'yoke'),\n ('but', 'But'),\n ('destroy', 'destroyed'),\n ('enlarg', 'enlarge'),\n ('risen', 'risen'),\n ('fail', 'fail'),\n ('pitch', 'pitch'),\n ('dwelt', 'dwelt'),\n ('journey', 'journeys'),\n ('zebulun', 'Zebulun'),\n ('took', 'took'),\n ('bewar', 'Beware'),\n ('bud', 'budded'),\n ('tell', 'tell'),\n ('quart', 'quart'),\n ('riv', 'riv'),\n ('amalekit', 'Amalekites'),\n ('canaanitish', 'Canaanitish'),\n ('massa', 'Massa'),\n ('none', 'none'),\n ('summer', 'summer'),\n ('wrestl', 'wrestled'),\n ('bless', 'bless'),\n ('befal', 'befall'),\n ('wrong', 'wrong'),\n ('dedan', 'Dedan'),\n ('ear', 'earing'),\n ('woman', 'Woman'),\n ('drink', 'drinking'),\n ('came', 'came'),\n ('bow', 'bow'),\n ('stranger', 'strangers'),\n ('hang', 'hang'),\n ('kid', 'kids'),\n ('kingdom', 'kingdom'),\n ('chese', 'Chesed'),\n ('live', 'live'),\n ('goa', 'goa'),\n ('goeth', 'goeth'),\n ('mesha', 'Mesha'),\n ('mam', 'Mam'),\n ('simeon', 'Simeon'),\n ('him', 'him'),\n ('wa', 'wa'),\n ('jabal', 'Jabal'),\n ('mizpah', 'Mizpah'),\n ('carri', 'carry'),\n ('So', 'So'),\n ('firmament', 'firmament'),\n ('worship', 'worshipped'),\n ('ask', 'Ask'),\n ('rememb', 'remembered'),\n ('rent', 'rent'),\n ('dealt', 'dealt'),\n ('backward', 'backward'),\n ('circumci', 'circumcis'),\n ('dream', 'dream'),\n ('whale', 'whales'),\n ('nation', 'nation'),\n ...]"
     },
     "execution_count": 107,
     "metadata": {},
     "output_type": "execute_result"
    }
   ],
   "source": [
    "[(stemmer.stem(word), word) for word in set(text3)]"
   ]
  }
 ],
 "metadata": {
  "kernelspec": {
   "display_name": "Python 3.8.1 64-bit ('nlp': conda)",
   "language": "python",
   "name": "python38164bitnlpconda91879d213a784cd7ad50df7b2e78c33c"
  },
  "language_info": {
   "codemirror_mode": {
    "name": "ipython",
    "version": 3
   },
   "file_extension": ".py",
   "mimetype": "text/x-python",
   "name": "python",
   "nbconvert_exporter": "python",
   "pygments_lexer": "ipython3",
   "version": "3.7.6-final"
  }
 },
 "nbformat": 4,
 "nbformat_minor": 4
}