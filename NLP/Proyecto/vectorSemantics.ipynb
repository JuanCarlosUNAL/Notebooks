{
 "cells": [
  {
   "cell_type": "code",
   "execution_count": 15,
   "metadata": {},
   "outputs": [],
   "source": [
    "import numpy as np\n",
    "import pandas as pd\n",
    "\n",
    "from nltk.corpus import stopwords\n",
    "from nltk import word_tokenize\n",
    "from gensim.models import Word2Vec\n",
    "\n",
    "from sklearn.manifold import TSNE\n",
    "\n",
    "from os import walk, system, path\n",
    "import re"
   ]
  },
  {
   "cell_type": "code",
   "execution_count": 6,
   "metadata": {},
   "outputs": [
    {
     "output_type": "execute_result",
     "data": {
      "text/plain": "0     ﻿Journal of Infection 80 (2020) 394–400\\n\\nCon...\n1     ﻿Journal of Infection 80 (2020) 401–406\\n\\nCon...\n2     ﻿European Journal of Radiology 126 (2020) 1089...\n3     ﻿Journal of Global Antimicrobial Resistance 21...\n4     ﻿Network pharmacology-based analysis of the ro...\n                            ...                        \n93    Complementary Therapies in Clinical Practice 3...\n94    Transcriptomic characteristics of bronchoalveo...\n95    ﻿Clinical trials on drug repositioning for COV...\n96    Treatment of 5 Critically Ill Patients With CO...\n97    ﻿Trypsin Treatment Unlocks Barrier for Zoonoti...\nLength: 98, dtype: object"
     },
     "metadata": {},
     "execution_count": 6
    }
   ],
   "source": [
    "corpus_path = '../Files/project-corpus/'\n",
    "file_texts = []\n",
    "for (dirpath, dirnames, filenames) in walk(corpus_path):\n",
    "  files = [ path.join(dirpath, filename) for filename in filenames if filename[-3:] == 'txt']\n",
    "  for file_name in files:\n",
    "    try:\n",
    "      with open(file_name, 'r', encoding='utf-8') as file:\n",
    "        file_texts.append(file.read())\n",
    "    except:\n",
    "      pass\n",
    "\n",
    "file_texts = pd.Series(file_texts)\n",
    "file_texts"
   ]
  },
  {
   "cell_type": "code",
   "execution_count": 11,
   "metadata": {},
   "outputs": [
    {
     "output_type": "execute_result",
     "data": {
      "text/plain": "0     [journal, infection, contents, lists, availabl...\n1     [journal, infection, contents, lists, availabl...\n2     [european, journal, radiology, contents, lists...\n3     [journal, global, antimicrobial, resistance, c...\n4     [network, pharmacology-based, analysis, role, ...\n                            ...                        \n93    [complementary, therapies, clinical, practice,...\n94    [transcriptomic, characteristics, bronchoalveo...\n95    [clinical, trials, drug, repositioning, covid-...\n96    [treatment, critically, ill, patients, covid-,...\n97    [trypsin, treatment, unlocks, barrier, zoonoti...\nLength: 98, dtype: object"
     },
     "metadata": {},
     "execution_count": 11
    }
   ],
   "source": [
    "reg = re.compile(r'[A-Za-z\\.,\\'\\s-]+')\n",
    "def preprocessing(doc):\n",
    "    document = doc.lower()\n",
    "    document = ' '.join(reg.findall(document))\n",
    "    tokens = word_tokenize(document)\n",
    "    tokens = [t for t in tokens if t not in stopwords.words('english')]\n",
    "\n",
    "    return tokens\n",
    "\n",
    "norm_corpus = file_texts.apply(preprocessing)\n",
    "norm_corpus"
   ]
  },
  {
   "cell_type": "code",
   "execution_count": 26,
   "metadata": {},
   "outputs": [
    {
     "output_type": "execute_result",
     "data": {
      "text/plain": "<gensim.models.word2vec.Word2Vec at 0x1b1312db148>"
     },
     "metadata": {},
     "execution_count": 26
    }
   ],
   "source": [
    "w2v_model = Word2Vec(norm_corpus, size=50, window=5, min_count=1, workers=4)\n",
    "w2v_model"
   ]
  },
  {
   "cell_type": "code",
   "execution_count": 31,
   "metadata": {},
   "outputs": [
    {
     "output_type": "execute_result",
     "data": {
      "text/plain": "[('therapeutic', 0.9998940229415894),\n ('studies', 0.999880850315094),\n ('response', 0.9998737573623657),\n ('drug', 0.9998665452003479),\n ('test', 0.999866247177124),\n ('vivo', 0.9998634457588196),\n ('vitro', 0.9998616576194763),\n ('results', 0.9998561143875122),\n ('used', 0.99985271692276),\n ('protein', 0.9998515844345093)]"
     },
     "metadata": {},
     "execution_count": 31
    }
   ],
   "source": [
    "w2v_model.similar_by_vector('antiviral', topn=10)"
   ]
  },
  {
   "cell_type": "code",
   "execution_count": null,
   "metadata": {},
   "outputs": [],
   "source": []
  },
  {
   "cell_type": "code",
   "execution_count": null,
   "metadata": {},
   "outputs": [],
   "source": [
    "tsne = TSNE(n_components=2)\n",
    "tsne.fit_transform(X)"
   ]
  }
 ],
 "metadata": {
  "language_info": {
   "codemirror_mode": {
    "name": "ipython",
    "version": 3
   },
   "file_extension": ".py",
   "mimetype": "text/x-python",
   "name": "python",
   "nbconvert_exporter": "python",
   "pygments_lexer": "ipython3",
   "version": "3.7.4-final"
  },
  "orig_nbformat": 2,
  "kernelspec": {
   "name": "python37464bitnlpconda7e05cd73247b40a9b389da7418595aef",
   "display_name": "Python 3.7.4 64-bit ('nlp': conda)"
  }
 },
 "nbformat": 4,
 "nbformat_minor": 2
}