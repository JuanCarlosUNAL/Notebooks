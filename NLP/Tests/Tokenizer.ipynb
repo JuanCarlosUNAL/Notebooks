{
 "nbformat": 4,
 "nbformat_minor": 2,
 "metadata": {
  "language_info": {
   "name": "python",
   "codemirror_mode": {
    "name": "ipython",
    "version": 3
   },
   "version": "3.7.6-final"
  },
  "orig_nbformat": 2,
  "file_extension": ".py",
  "mimetype": "text/x-python",
  "name": "python",
  "npconvert_exporter": "python",
  "pygments_lexer": "ipython3",
  "version": 3,
  "kernelspec": {
   "name": "python38164bitnlpconda91879d213a784cd7ad50df7b2e78c33c",
   "display_name": "Python 3.8.1 64-bit ('nlp': conda)"
  }
 },
 "cells": [
  {
   "cell_type": "code",
   "execution_count": 1,
   "metadata": {},
   "outputs": [],
   "source": [
    "import spacy\n",
    "import re"
   ]
  },
  {
   "cell_type": "code",
   "execution_count": 5,
   "metadata": {},
   "outputs": [],
   "source": [
    "simple_tokenizer = re.compile(r'''\n",
    "    (?x)                 # set flag to allow verbose regexps\n",
    "    (?:[A-Z]\\.)+         # abbreviations, e.g. U.S.A.\n",
    "    | \\w+(?:-\\w+)*       # words with optional internal hyphens\n",
    "    | \\$?\\d+(?:\\.\\d+)?%? # currency and percentages, e.g. $12.40, 82%\n",
    "    | \\.\\.\\.             # ellipsis\n",
    "    | [][.,;\"'?():-_`]   # these are separate tokens; includes ], [\n",
    "''')"
   ]
  },
  {
   "cell_type": "code",
   "execution_count": 39,
   "metadata": {},
   "outputs": [],
   "source": [
    "texto = 'En los E.U. esa postal vale $15.50 ...'"
   ]
  },
  {
   "cell_type": "code",
   "execution_count": 40,
   "metadata": {},
   "outputs": [
    {
     "output_type": "execute_result",
     "data": {
      "text/plain": "['En', 'los', 'E.U.', 'esa', 'postal', 'vale', '$15.50', '...']"
     },
     "metadata": {},
     "execution_count": 40
    }
   ],
   "source": [
    "simple_tokenizer.findall(texto)"
   ]
  },
  {
   "cell_type": "code",
   "execution_count": 42,
   "metadata": {},
   "outputs": [
    {
     "output_type": "execute_result",
     "data": {
      "text/plain": "[En, los, E.U., esa, postal, vale, $, 15.50, ...]"
     },
     "metadata": {},
     "execution_count": 42
    }
   ],
   "source": [
    "nlp = spacy.load('es_core_news_sm')\n",
    "doc = nlp(texto)\n",
    "[t for t in doc]"
   ]
  },
  {
   "cell_type": "code",
   "execution_count": 35,
   "metadata": {},
   "outputs": [
    {
     "output_type": "execute_result",
     "data": {
      "text/plain": "[('En', 'ADP__AdpType=Prep'),\n ('lo', 'DET__Definite=Def|Gender=Masc|Number=Plur|PronType=Art'),\n ('E.U.', 'PROPN___'),\n ('ese', 'DET__Gender=Fem|Number=Sing|PronType=Dem'),\n ('postal', 'ADJ__Number=Sing'),\n ('valer', 'VERB__Mood=Ind|Number=Sing|Person=3|Tense=Pres|VerbForm=Fin'),\n ('$', 'NUM__NumForm=Digit'),\n ('15.50', 'NOUN__AdvType=Tim'),\n ('...', 'PUNCT__PunctType=Comm')]"
     },
     "metadata": {},
     "execution_count": 35
    }
   ],
   "source": [
    "[(t.lemma_, t.tag_) for t in doc]"
   ]
  },
  {
   "cell_type": "code",
   "execution_count": 43,
   "metadata": {},
   "outputs": [
    {
     "output_type": "execute_result",
     "data": {
      "text/plain": "()"
     },
     "metadata": {},
     "execution_count": 43
    }
   ],
   "source": [
    "doc"
   ]
  }
 ]
}