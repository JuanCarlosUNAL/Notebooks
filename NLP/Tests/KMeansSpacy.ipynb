{
 "cells": [
  {
   "cell_type": "code",
   "execution_count": 2,
   "metadata": {},
   "outputs": [],
   "source": [
    "import spacy \n",
    "import numpy as np\n",
    "import pandas as pd\n",
    "from sklearn.cluster import KMeans\n",
    "from sklearn.preprocessing import normalize\n",
    "import matplotlib.pyplot as plt\n",
    "\n",
    "from os import walk, system, path\n",
    "import re\n",
    "\n",
    "from matplotlib import colors\n",
    "%matplotlib inline"
   ]
  },
  {
   "cell_type": "code",
   "execution_count": 3,
   "metadata": {},
   "outputs": [
    {
     "output_type": "execute_result",
     "data": {
      "text/plain": "0            aqua\n1      aquamarine\n2            blue\n3      blueviolet\n4           brown\n         ...     \n88         tomato\n89      turquoise\n90         violet\n91         yellow\n92    yellowgreen\nName: name, Length: 93, dtype: object"
     },
     "metadata": {},
     "execution_count": 3
    }
   ],
   "source": [
    "css_colors = list(colors.CSS4_COLORS.keys())\n",
    "css_colors = pd.Series(css_colors)\n",
    "css_hsv = (css_colors\n",
    "    .apply(colors.to_rgb)\n",
    "    .apply(colors.rgb_to_hsv)\n",
    "    .apply(pd.Series)\n",
    ")\n",
    "css_hsv['name'] = css_colors\n",
    "css_hsv = css_hsv[css_hsv[1] > 0.3]\n",
    "css_hsv = css_hsv.reset_index()\n",
    "\n",
    "# map_color = { i:color for i, color in enumerate(css_colors)}\n",
    "map_color = css_hsv.name\n",
    "map_color"
   ]
  },
  {
   "cell_type": "markdown",
   "metadata": {},
   "source": [
    "## Read corpus files"
   ]
  },
  {
   "cell_type": "code",
   "execution_count": 4,
   "metadata": {
    "tags": [
     "outputPrepend"
    ]
   },
   "outputs": [
    {
     "output_type": "execute_result",
     "data": {
      "text/plain": "0     Treatment of 5 Critically Ill Patients With CO...\n1     The use of anti-inflammatory drugs in the trea...\n2     ﻿Trypsin Treatment Unlocks Barrier for Zoonoti...\n3     ﻿The epidemic of 2019-novel-coronavirus (2019-...\n4     ﻿The origin, transmission and clinical therapi...\n5     Transcriptomic characteristics of bronchoalveo...\n6     Viral etiologies of acute respiratory tract in...\n7     Complementary Therapies in Clinical Practice 3...\n8     ﻿International Journal of Biological Sciences\\...\n9     ﻿Construction and application of carbohydrate ...\n10    ﻿\\nstatistical analysis plan for a recursive t...\n11    ﻿Therapeutic strategies in an outbreak scenari...\n12    ﻿Clinical trials on drug repositioning for COV...\n13    The immune response of young turkeys to haemor...\n14    ﻿The epidemiology and pathogenesis of coronavi...\ndtype: object"
     },
     "metadata": {},
     "execution_count": 4
    }
   ],
   "source": [
    "corpus_path = '../Files/project_corpus/'\n",
    "file_texts = []\n",
    "for (dirpath, dirnames, filenames) in walk(corpus_path):\n",
    "  files = [ path.join(dirpath, filename) for filename in filenames if filename[-3:] == 'txt']\n",
    "  for file_name in files:\n",
    "    with open(file_name, 'r') as file:\n",
    "        file_texts.append(file.read())\n",
    "file_texts = pd.Series(file_texts)\n",
    "file_texts"
   ]
  },
  {
   "cell_type": "markdown",
   "metadata": {},
   "source": [
    "## Load spacy large model"
   ]
  },
  {
   "cell_type": "code",
   "execution_count": 5,
   "metadata": {},
   "outputs": [
    {
     "output_type": "execute_result",
     "data": {
      "text/plain": "<spacy.lang.en.English at 0x1a1a7ed410>"
     },
     "metadata": {},
     "execution_count": 5
    }
   ],
   "source": [
    "nlp_model = spacy.load('en_core_web_lg')\n",
    "nlp_model"
   ]
  },
  {
   "cell_type": "markdown",
   "metadata": {},
   "source": [
    "## Process each document"
   ]
  },
  {
   "cell_type": "code",
   "execution_count": 6,
   "metadata": {},
   "outputs": [
    {
     "output_type": "execute_result",
     "data": {
      "text/plain": "0     (Treatment, of, 5, Critically, Ill, Patients, ...\n1     (The, use, of, anti, -, inflammatory, drugs, i...\n2     (﻿Trypsin, Treatment, Unlocks, Barrier, for, Z...\n3     (﻿The, epidemic, of, 2019-novel, -, coronaviru...\n4     (﻿The, origin, ,, transmission, and, clinical,...\n5     (Transcriptomic, characteristics, of, bronchoa...\n6     (Viral, etiologies, of, acute, respiratory, tr...\n7     (Complementary, Therapies, in, Clinical, Pract...\n8     (﻿International, Journal, of, Biological, Scie...\n9     (﻿Construction, and, application, of, carbohyd...\n10    (﻿, \\n, statistical, analysis, plan, for, a, r...\n11    (﻿Therapeutic, strategies, in, an, outbreak, s...\n12    (﻿Clinical, trials, on, drug, repositioning, f...\n13    (The, immune, response, of, young, turkeys, to...\n14    (﻿The, epidemiology, and, pathogenesis, of, co...\ndtype: object"
     },
     "metadata": {},
     "execution_count": 6
    }
   ],
   "source": [
    "file_texts = file_texts.apply(nlp_model)\n",
    "file_texts"
   ]
  },
  {
   "cell_type": "markdown",
   "metadata": {},
   "source": [
    "## Extrract entities for the first document"
   ]
  },
  {
   "cell_type": "code",
   "execution_count": 7,
   "metadata": {},
   "outputs": [
    {
     "output_type": "execute_result",
     "data": {
      "text/plain": "                 entitie  has_vector\n44          (Yujing, \\n)       False\n73                (ECMO)       False\n77  (methylprednisolone)       False",
      "text/html": "<div>\n<style scoped>\n    .dataframe tbody tr th:only-of-type {\n        vertical-align: middle;\n    }\n\n    .dataframe tbody tr th {\n        vertical-align: top;\n    }\n\n    .dataframe thead th {\n        text-align: right;\n    }\n</style>\n<table border=\"1\" class=\"dataframe\">\n  <thead>\n    <tr style=\"text-align: right;\">\n      <th></th>\n      <th>entitie</th>\n      <th>has_vector</th>\n    </tr>\n  </thead>\n  <tbody>\n    <tr>\n      <th>44</th>\n      <td>(Yujing, \\n)</td>\n      <td>False</td>\n    </tr>\n    <tr>\n      <th>73</th>\n      <td>(ECMO)</td>\n      <td>False</td>\n    </tr>\n    <tr>\n      <th>77</th>\n      <td>(methylprednisolone)</td>\n      <td>False</td>\n    </tr>\n  </tbody>\n</table>\n</div>"
     },
     "metadata": {},
     "execution_count": 7
    }
   ],
   "source": [
    "entities = pd.DataFrame({'entitie': file_texts[0].ents})\n",
    "entities['has_vector'] = entities.entitie.apply(lambda e: e.has_vector)\n",
    "with_vector = entities[entities.has_vector == True]\n",
    "del with_vector['has_vector']\n",
    "entities[entities.has_vector == False]"
   ]
  },
  {
   "cell_type": "markdown",
   "metadata": {},
   "source": [
    "## Modelo 1: con el token mas largo"
   ]
  },
  {
   "cell_type": "code",
   "execution_count": 8,
   "metadata": {},
   "outputs": [
    {
     "output_type": "execute_result",
     "data": {
      "text/plain": "               entitie lenghts  longest final entitie  \\\n0    [Chenguang, Shen]  [9, 4]        0     Chenguang   \n1                [PhD]     [3]        0           PhD   \n2      [Zhaoqin, Wang]  [7, 4]        0       Zhaoqin   \n3                [PhD]     [3]        0           PhD   \n4         [Fang, Zhao]  [4, 4]        0          Fang   \n..                 ...     ...      ...           ...   \n91              [days]     [4]        0          days   \n93             [weeks]     [5]        0         weeks   \n98              [days]     [4]        0          days   \n100             [days]     [4]        0          days   \n102             [ARDS]     [4]        0          ARDS   \n\n                                                vector  \n0    [0.0, 0.0, 0.0, 0.0, 0.0, 0.0, 0.0, 0.0, 0.0, ...  \n1    [-0.32823, 0.21099, 0.1571, 0.10158, 0.26148, ...  \n2    [0.0, 0.0, 0.0, 0.0, 0.0, 0.0, 0.0, 0.0, 0.0, ...  \n3    [-0.32823, 0.21099, 0.1571, 0.10158, 0.26148, ...  \n4    [0.30761, -0.062862, 0.3755, -0.61801, 0.22023...  \n..                                                 ...  \n91   [0.17757, 0.28917, 0.095572, -0.47787, -0.1418...  \n93   [0.016085, 0.25982, -0.023239, 0.093751, -0.32...  \n98   [0.17757, 0.28917, 0.095572, -0.47787, -0.1418...  \n100  [0.17757, 0.28917, 0.095572, -0.47787, -0.1418...  \n102  [-0.31703, -0.072828, -0.71668, -0.36652, -0.3...  \n\n[82 rows x 5 columns]",
      "text/html": "<div>\n<style scoped>\n    .dataframe tbody tr th:only-of-type {\n        vertical-align: middle;\n    }\n\n    .dataframe tbody tr th {\n        vertical-align: top;\n    }\n\n    .dataframe thead th {\n        text-align: right;\n    }\n</style>\n<table border=\"1\" class=\"dataframe\">\n  <thead>\n    <tr style=\"text-align: right;\">\n      <th></th>\n      <th>entitie</th>\n      <th>lenghts</th>\n      <th>longest</th>\n      <th>final entitie</th>\n      <th>vector</th>\n    </tr>\n  </thead>\n  <tbody>\n    <tr>\n      <th>0</th>\n      <td>[Chenguang, Shen]</td>\n      <td>[9, 4]</td>\n      <td>0</td>\n      <td>Chenguang</td>\n      <td>[0.0, 0.0, 0.0, 0.0, 0.0, 0.0, 0.0, 0.0, 0.0, ...</td>\n    </tr>\n    <tr>\n      <th>1</th>\n      <td>[PhD]</td>\n      <td>[3]</td>\n      <td>0</td>\n      <td>PhD</td>\n      <td>[-0.32823, 0.21099, 0.1571, 0.10158, 0.26148, ...</td>\n    </tr>\n    <tr>\n      <th>2</th>\n      <td>[Zhaoqin, Wang]</td>\n      <td>[7, 4]</td>\n      <td>0</td>\n      <td>Zhaoqin</td>\n      <td>[0.0, 0.0, 0.0, 0.0, 0.0, 0.0, 0.0, 0.0, 0.0, ...</td>\n    </tr>\n    <tr>\n      <th>3</th>\n      <td>[PhD]</td>\n      <td>[3]</td>\n      <td>0</td>\n      <td>PhD</td>\n      <td>[-0.32823, 0.21099, 0.1571, 0.10158, 0.26148, ...</td>\n    </tr>\n    <tr>\n      <th>4</th>\n      <td>[Fang, Zhao]</td>\n      <td>[4, 4]</td>\n      <td>0</td>\n      <td>Fang</td>\n      <td>[0.30761, -0.062862, 0.3755, -0.61801, 0.22023...</td>\n    </tr>\n    <tr>\n      <th>...</th>\n      <td>...</td>\n      <td>...</td>\n      <td>...</td>\n      <td>...</td>\n      <td>...</td>\n    </tr>\n    <tr>\n      <th>91</th>\n      <td>[days]</td>\n      <td>[4]</td>\n      <td>0</td>\n      <td>days</td>\n      <td>[0.17757, 0.28917, 0.095572, -0.47787, -0.1418...</td>\n    </tr>\n    <tr>\n      <th>93</th>\n      <td>[weeks]</td>\n      <td>[5]</td>\n      <td>0</td>\n      <td>weeks</td>\n      <td>[0.016085, 0.25982, -0.023239, 0.093751, -0.32...</td>\n    </tr>\n    <tr>\n      <th>98</th>\n      <td>[days]</td>\n      <td>[4]</td>\n      <td>0</td>\n      <td>days</td>\n      <td>[0.17757, 0.28917, 0.095572, -0.47787, -0.1418...</td>\n    </tr>\n    <tr>\n      <th>100</th>\n      <td>[days]</td>\n      <td>[4]</td>\n      <td>0</td>\n      <td>days</td>\n      <td>[0.17757, 0.28917, 0.095572, -0.47787, -0.1418...</td>\n    </tr>\n    <tr>\n      <th>102</th>\n      <td>[ARDS]</td>\n      <td>[4]</td>\n      <td>0</td>\n      <td>ARDS</td>\n      <td>[-0.31703, -0.072828, -0.71668, -0.36652, -0.3...</td>\n    </tr>\n  </tbody>\n</table>\n<p>82 rows × 5 columns</p>\n</div>"
     },
     "metadata": {},
     "execution_count": 8
    }
   ],
   "source": [
    "model_1_df = with_vector.copy()\n",
    "\n",
    "model_1_df['entitie'] = model_1_df.entitie.apply(lambda tokens: [t for t in tokens if not t.is_digit])\n",
    "model_1_df = model_1_df[model_1_df.entitie.apply(len) != 0]\n",
    "model_1_df['lenghts'] = model_1_df.entitie.apply(lambda tokens: [len(t) for t in tokens])\n",
    "model_1_df['longest'] = model_1_df.lenghts.apply(np.argmax)\n",
    "\n",
    "model_1_df['final entitie'] = model_1_df[['entitie', 'longest']].apply(lambda row: row['entitie'][row['longest']], axis=1)\n",
    "model_1_df['vector'] = model_1_df['final entitie'].apply(lambda e: e.vector)\n",
    "model_1_df"
   ]
  },
  {
   "cell_type": "markdown",
   "metadata": {},
   "source": [
    "#### Transform the dataset to use clustering"
   ]
  },
  {
   "cell_type": "code",
   "execution_count": 9,
   "metadata": {},
   "outputs": [
    {
     "output_type": "execute_result",
     "data": {
      "text/plain": "          0         1         2         3        4        5         6    \\\n0    0.000000  0.000000  0.000000  0.000000  0.00000  0.00000  0.000000   \n1   -0.328230  0.210990  0.157100  0.101580  0.26148  0.16176  0.037014   \n2    0.000000  0.000000  0.000000  0.000000  0.00000  0.00000  0.000000   \n3   -0.328230  0.210990  0.157100  0.101580  0.26148  0.16176  0.037014   \n4    0.307610 -0.062862  0.375500 -0.618010  0.22023 -0.22466  0.489520   \n..        ...       ...       ...       ...      ...      ...       ...   \n91   0.177570  0.289170  0.095572 -0.477870 -0.14183 -0.39989 -0.519440   \n93   0.016085  0.259820 -0.023239  0.093751 -0.32154 -0.70932 -0.284650   \n98   0.177570  0.289170  0.095572 -0.477870 -0.14183 -0.39989 -0.519440   \n100  0.177570  0.289170  0.095572 -0.477870 -0.14183 -0.39989 -0.519440   \n102 -0.317030 -0.072828 -0.716680 -0.366520 -0.35064 -0.29076  0.044231   \n\n          7         8         9    ...       290      291       292       293  \\\n0    0.000000  0.000000  0.000000  ...  0.000000  0.00000  0.000000  0.000000   \n1   -0.132930  0.075937 -0.006255  ...  0.950630 -0.10052  0.353920  0.066575   \n2    0.000000  0.000000  0.000000  ...  0.000000  0.00000  0.000000  0.000000   \n3   -0.132930  0.075937 -0.006255  ...  0.950630 -0.10052  0.353920  0.066575   \n4    0.076042 -0.148970 -0.703680  ...  0.048828  0.13024 -0.627850 -0.340130   \n..        ...       ...       ...  ...       ...      ...       ...       ...   \n91  -0.346780  0.465470  2.381400  ...  0.151210  0.15204  0.083258 -0.095562   \n93  -0.373070  0.514660  2.399300  ...  0.224430 -0.16763  0.164950  0.108990   \n98  -0.346780  0.465470  2.381400  ...  0.151210  0.15204  0.083258 -0.095562   \n100 -0.346780  0.465470  2.381400  ...  0.151210  0.15204  0.083258 -0.095562   \n102  0.227620 -0.122730 -0.922920  ...  0.074666 -0.10080  0.147020  0.354020   \n\n          294      295       296       297       298       299  \n0    0.000000  0.00000  0.000000  0.000000  0.000000  0.000000  \n1    0.408110 -0.26122  0.114590  0.249960 -0.541760  0.088163  \n2    0.000000  0.00000  0.000000  0.000000  0.000000  0.000000  \n3    0.408110 -0.26122  0.114590  0.249960 -0.541760  0.088163  \n4    0.099402  0.13377 -0.049766 -0.033670  0.367840 -0.026209  \n..        ...      ...       ...       ...       ...       ...  \n91   0.007544 -0.18193 -0.074212  0.210400  0.006014 -0.121580  \n93   0.071225 -0.25524  0.075524  0.083691 -0.084957 -0.199660  \n98   0.007544 -0.18193 -0.074212  0.210400  0.006014 -0.121580  \n100  0.007544 -0.18193 -0.074212  0.210400  0.006014 -0.121580  \n102 -0.540390 -0.86239  0.141310  0.728700 -0.143150  0.428580  \n\n[82 rows x 300 columns]",
      "text/html": "<div>\n<style scoped>\n    .dataframe tbody tr th:only-of-type {\n        vertical-align: middle;\n    }\n\n    .dataframe tbody tr th {\n        vertical-align: top;\n    }\n\n    .dataframe thead th {\n        text-align: right;\n    }\n</style>\n<table border=\"1\" class=\"dataframe\">\n  <thead>\n    <tr style=\"text-align: right;\">\n      <th></th>\n      <th>0</th>\n      <th>1</th>\n      <th>2</th>\n      <th>3</th>\n      <th>4</th>\n      <th>5</th>\n      <th>6</th>\n      <th>7</th>\n      <th>8</th>\n      <th>9</th>\n      <th>...</th>\n      <th>290</th>\n      <th>291</th>\n      <th>292</th>\n      <th>293</th>\n      <th>294</th>\n      <th>295</th>\n      <th>296</th>\n      <th>297</th>\n      <th>298</th>\n      <th>299</th>\n    </tr>\n  </thead>\n  <tbody>\n    <tr>\n      <th>0</th>\n      <td>0.000000</td>\n      <td>0.000000</td>\n      <td>0.000000</td>\n      <td>0.000000</td>\n      <td>0.00000</td>\n      <td>0.00000</td>\n      <td>0.000000</td>\n      <td>0.000000</td>\n      <td>0.000000</td>\n      <td>0.000000</td>\n      <td>...</td>\n      <td>0.000000</td>\n      <td>0.00000</td>\n      <td>0.000000</td>\n      <td>0.000000</td>\n      <td>0.000000</td>\n      <td>0.00000</td>\n      <td>0.000000</td>\n      <td>0.000000</td>\n      <td>0.000000</td>\n      <td>0.000000</td>\n    </tr>\n    <tr>\n      <th>1</th>\n      <td>-0.328230</td>\n      <td>0.210990</td>\n      <td>0.157100</td>\n      <td>0.101580</td>\n      <td>0.26148</td>\n      <td>0.16176</td>\n      <td>0.037014</td>\n      <td>-0.132930</td>\n      <td>0.075937</td>\n      <td>-0.006255</td>\n      <td>...</td>\n      <td>0.950630</td>\n      <td>-0.10052</td>\n      <td>0.353920</td>\n      <td>0.066575</td>\n      <td>0.408110</td>\n      <td>-0.26122</td>\n      <td>0.114590</td>\n      <td>0.249960</td>\n      <td>-0.541760</td>\n      <td>0.088163</td>\n    </tr>\n    <tr>\n      <th>2</th>\n      <td>0.000000</td>\n      <td>0.000000</td>\n      <td>0.000000</td>\n      <td>0.000000</td>\n      <td>0.00000</td>\n      <td>0.00000</td>\n      <td>0.000000</td>\n      <td>0.000000</td>\n      <td>0.000000</td>\n      <td>0.000000</td>\n      <td>...</td>\n      <td>0.000000</td>\n      <td>0.00000</td>\n      <td>0.000000</td>\n      <td>0.000000</td>\n      <td>0.000000</td>\n      <td>0.00000</td>\n      <td>0.000000</td>\n      <td>0.000000</td>\n      <td>0.000000</td>\n      <td>0.000000</td>\n    </tr>\n    <tr>\n      <th>3</th>\n      <td>-0.328230</td>\n      <td>0.210990</td>\n      <td>0.157100</td>\n      <td>0.101580</td>\n      <td>0.26148</td>\n      <td>0.16176</td>\n      <td>0.037014</td>\n      <td>-0.132930</td>\n      <td>0.075937</td>\n      <td>-0.006255</td>\n      <td>...</td>\n      <td>0.950630</td>\n      <td>-0.10052</td>\n      <td>0.353920</td>\n      <td>0.066575</td>\n      <td>0.408110</td>\n      <td>-0.26122</td>\n      <td>0.114590</td>\n      <td>0.249960</td>\n      <td>-0.541760</td>\n      <td>0.088163</td>\n    </tr>\n    <tr>\n      <th>4</th>\n      <td>0.307610</td>\n      <td>-0.062862</td>\n      <td>0.375500</td>\n      <td>-0.618010</td>\n      <td>0.22023</td>\n      <td>-0.22466</td>\n      <td>0.489520</td>\n      <td>0.076042</td>\n      <td>-0.148970</td>\n      <td>-0.703680</td>\n      <td>...</td>\n      <td>0.048828</td>\n      <td>0.13024</td>\n      <td>-0.627850</td>\n      <td>-0.340130</td>\n      <td>0.099402</td>\n      <td>0.13377</td>\n      <td>-0.049766</td>\n      <td>-0.033670</td>\n      <td>0.367840</td>\n      <td>-0.026209</td>\n    </tr>\n    <tr>\n      <th>...</th>\n      <td>...</td>\n      <td>...</td>\n      <td>...</td>\n      <td>...</td>\n      <td>...</td>\n      <td>...</td>\n      <td>...</td>\n      <td>...</td>\n      <td>...</td>\n      <td>...</td>\n      <td>...</td>\n      <td>...</td>\n      <td>...</td>\n      <td>...</td>\n      <td>...</td>\n      <td>...</td>\n      <td>...</td>\n      <td>...</td>\n      <td>...</td>\n      <td>...</td>\n      <td>...</td>\n    </tr>\n    <tr>\n      <th>91</th>\n      <td>0.177570</td>\n      <td>0.289170</td>\n      <td>0.095572</td>\n      <td>-0.477870</td>\n      <td>-0.14183</td>\n      <td>-0.39989</td>\n      <td>-0.519440</td>\n      <td>-0.346780</td>\n      <td>0.465470</td>\n      <td>2.381400</td>\n      <td>...</td>\n      <td>0.151210</td>\n      <td>0.15204</td>\n      <td>0.083258</td>\n      <td>-0.095562</td>\n      <td>0.007544</td>\n      <td>-0.18193</td>\n      <td>-0.074212</td>\n      <td>0.210400</td>\n      <td>0.006014</td>\n      <td>-0.121580</td>\n    </tr>\n    <tr>\n      <th>93</th>\n      <td>0.016085</td>\n      <td>0.259820</td>\n      <td>-0.023239</td>\n      <td>0.093751</td>\n      <td>-0.32154</td>\n      <td>-0.70932</td>\n      <td>-0.284650</td>\n      <td>-0.373070</td>\n      <td>0.514660</td>\n      <td>2.399300</td>\n      <td>...</td>\n      <td>0.224430</td>\n      <td>-0.16763</td>\n      <td>0.164950</td>\n      <td>0.108990</td>\n      <td>0.071225</td>\n      <td>-0.25524</td>\n      <td>0.075524</td>\n      <td>0.083691</td>\n      <td>-0.084957</td>\n      <td>-0.199660</td>\n    </tr>\n    <tr>\n      <th>98</th>\n      <td>0.177570</td>\n      <td>0.289170</td>\n      <td>0.095572</td>\n      <td>-0.477870</td>\n      <td>-0.14183</td>\n      <td>-0.39989</td>\n      <td>-0.519440</td>\n      <td>-0.346780</td>\n      <td>0.465470</td>\n      <td>2.381400</td>\n      <td>...</td>\n      <td>0.151210</td>\n      <td>0.15204</td>\n      <td>0.083258</td>\n      <td>-0.095562</td>\n      <td>0.007544</td>\n      <td>-0.18193</td>\n      <td>-0.074212</td>\n      <td>0.210400</td>\n      <td>0.006014</td>\n      <td>-0.121580</td>\n    </tr>\n    <tr>\n      <th>100</th>\n      <td>0.177570</td>\n      <td>0.289170</td>\n      <td>0.095572</td>\n      <td>-0.477870</td>\n      <td>-0.14183</td>\n      <td>-0.39989</td>\n      <td>-0.519440</td>\n      <td>-0.346780</td>\n      <td>0.465470</td>\n      <td>2.381400</td>\n      <td>...</td>\n      <td>0.151210</td>\n      <td>0.15204</td>\n      <td>0.083258</td>\n      <td>-0.095562</td>\n      <td>0.007544</td>\n      <td>-0.18193</td>\n      <td>-0.074212</td>\n      <td>0.210400</td>\n      <td>0.006014</td>\n      <td>-0.121580</td>\n    </tr>\n    <tr>\n      <th>102</th>\n      <td>-0.317030</td>\n      <td>-0.072828</td>\n      <td>-0.716680</td>\n      <td>-0.366520</td>\n      <td>-0.35064</td>\n      <td>-0.29076</td>\n      <td>0.044231</td>\n      <td>0.227620</td>\n      <td>-0.122730</td>\n      <td>-0.922920</td>\n      <td>...</td>\n      <td>0.074666</td>\n      <td>-0.10080</td>\n      <td>0.147020</td>\n      <td>0.354020</td>\n      <td>-0.540390</td>\n      <td>-0.86239</td>\n      <td>0.141310</td>\n      <td>0.728700</td>\n      <td>-0.143150</td>\n      <td>0.428580</td>\n    </tr>\n  </tbody>\n</table>\n<p>82 rows × 300 columns</p>\n</div>"
     },
     "metadata": {},
     "execution_count": 9
    }
   ],
   "source": [
    "vector_df = model_1_df.vector.apply(pd.Series)\n",
    "vector_df"
   ]
  },
  {
   "cell_type": "code",
   "execution_count": 10,
   "metadata": {},
   "outputs": [
    {
     "output_type": "display_data",
     "data": {
      "text/plain": "<Figure size 432x288 with 1 Axes>",
      "image/svg+xml": "<?xml version=\"1.0\" encoding=\"utf-8\" standalone=\"no\"?>\n<!DOCTYPE svg PUBLIC \"-//W3C//DTD SVG 1.1//EN\"\n  \"http://www.w3.org/Graphics/SVG/1.1/DTD/svg11.dtd\">\n<!-- Created with matplotlib (https://matplotlib.org/) -->\n<svg height=\"262.19625pt\" version=\"1.1\" viewBox=\"0 0 395.328125 262.19625\" width=\"395.328125pt\" xmlns=\"http://www.w3.org/2000/svg\" xmlns:xlink=\"http://www.w3.org/1999/xlink\">\n <defs>\n  <style type=\"text/css\">\n*{stroke-linecap:butt;stroke-linejoin:round;}\n  </style>\n </defs>\n <g id=\"figure_1\">\n  <g id=\"patch_1\">\n   <path d=\"M 0 262.19625 \nL 395.328125 262.19625 \nL 395.328125 0 \nL 0 0 \nz\n\" style=\"fill:none;\"/>\n  </g>\n  <g id=\"axes_1\">\n   <g id=\"patch_2\">\n    <path d=\"M 53.328125 224.64 \nL 388.128125 224.64 \nL 388.128125 7.2 \nL 53.328125 7.2 \nz\n\" style=\"fill:#ffffff;\"/>\n   </g>\n   <g id=\"matplotlib.axis_1\">\n    <g id=\"xtick_1\">\n     <g id=\"line2d_1\">\n      <defs>\n       <path d=\"M 0 0 \nL 0 3.5 \n\" id=\"mda5496ea33\" style=\"stroke:#000000;stroke-width:0.8;\"/>\n      </defs>\n      <g>\n       <use style=\"stroke:#000000;stroke-width:0.8;\" x=\"55.594663\" xlink:href=\"#mda5496ea33\" y=\"224.64\"/>\n      </g>\n     </g>\n     <g id=\"text_1\">\n      <!-- 0 -->\n      <defs>\n       <path d=\"M 31.78125 66.40625 \nQ 24.171875 66.40625 20.328125 58.90625 \nQ 16.5 51.421875 16.5 36.375 \nQ 16.5 21.390625 20.328125 13.890625 \nQ 24.171875 6.390625 31.78125 6.390625 \nQ 39.453125 6.390625 43.28125 13.890625 \nQ 47.125 21.390625 47.125 36.375 \nQ 47.125 51.421875 43.28125 58.90625 \nQ 39.453125 66.40625 31.78125 66.40625 \nz\nM 31.78125 74.21875 \nQ 44.046875 74.21875 50.515625 64.515625 \nQ 56.984375 54.828125 56.984375 36.375 \nQ 56.984375 17.96875 50.515625 8.265625 \nQ 44.046875 -1.421875 31.78125 -1.421875 \nQ 19.53125 -1.421875 13.0625 8.265625 \nQ 6.59375 17.96875 6.59375 36.375 \nQ 6.59375 54.828125 13.0625 64.515625 \nQ 19.53125 74.21875 31.78125 74.21875 \nz\n\" id=\"DejaVuSans-48\"/>\n      </defs>\n      <g transform=\"translate(52.413413 239.238437)scale(0.1 -0.1)\">\n       <use xlink:href=\"#DejaVuSans-48\"/>\n      </g>\n     </g>\n    </g>\n    <g id=\"xtick_2\">\n     <g id=\"line2d_2\">\n      <g>\n       <use style=\"stroke:#000000;stroke-width:0.8;\" x=\"120.352883\" xlink:href=\"#mda5496ea33\" y=\"224.64\"/>\n      </g>\n     </g>\n     <g id=\"text_2\">\n      <!-- 10 -->\n      <defs>\n       <path d=\"M 12.40625 8.296875 \nL 28.515625 8.296875 \nL 28.515625 63.921875 \nL 10.984375 60.40625 \nL 10.984375 69.390625 \nL 28.421875 72.90625 \nL 38.28125 72.90625 \nL 38.28125 8.296875 \nL 54.390625 8.296875 \nL 54.390625 0 \nL 12.40625 0 \nz\n\" id=\"DejaVuSans-49\"/>\n      </defs>\n      <g transform=\"translate(113.990383 239.238437)scale(0.1 -0.1)\">\n       <use xlink:href=\"#DejaVuSans-49\"/>\n       <use x=\"63.623047\" xlink:href=\"#DejaVuSans-48\"/>\n      </g>\n     </g>\n    </g>\n    <g id=\"xtick_3\">\n     <g id=\"line2d_3\">\n      <g>\n       <use style=\"stroke:#000000;stroke-width:0.8;\" x=\"185.111104\" xlink:href=\"#mda5496ea33\" y=\"224.64\"/>\n      </g>\n     </g>\n     <g id=\"text_3\">\n      <!-- 20 -->\n      <defs>\n       <path d=\"M 19.1875 8.296875 \nL 53.609375 8.296875 \nL 53.609375 0 \nL 7.328125 0 \nL 7.328125 8.296875 \nQ 12.9375 14.109375 22.625 23.890625 \nQ 32.328125 33.6875 34.8125 36.53125 \nQ 39.546875 41.84375 41.421875 45.53125 \nQ 43.3125 49.21875 43.3125 52.78125 \nQ 43.3125 58.59375 39.234375 62.25 \nQ 35.15625 65.921875 28.609375 65.921875 \nQ 23.96875 65.921875 18.8125 64.3125 \nQ 13.671875 62.703125 7.8125 59.421875 \nL 7.8125 69.390625 \nQ 13.765625 71.78125 18.9375 73 \nQ 24.125 74.21875 28.421875 74.21875 \nQ 39.75 74.21875 46.484375 68.546875 \nQ 53.21875 62.890625 53.21875 53.421875 \nQ 53.21875 48.921875 51.53125 44.890625 \nQ 49.859375 40.875 45.40625 35.40625 \nQ 44.1875 33.984375 37.640625 27.21875 \nQ 31.109375 20.453125 19.1875 8.296875 \nz\n\" id=\"DejaVuSans-50\"/>\n      </defs>\n      <g transform=\"translate(178.748604 239.238437)scale(0.1 -0.1)\">\n       <use xlink:href=\"#DejaVuSans-50\"/>\n       <use x=\"63.623047\" xlink:href=\"#DejaVuSans-48\"/>\n      </g>\n     </g>\n    </g>\n    <g id=\"xtick_4\">\n     <g id=\"line2d_4\">\n      <g>\n       <use style=\"stroke:#000000;stroke-width:0.8;\" x=\"249.869324\" xlink:href=\"#mda5496ea33\" y=\"224.64\"/>\n      </g>\n     </g>\n     <g id=\"text_4\">\n      <!-- 30 -->\n      <defs>\n       <path d=\"M 40.578125 39.3125 \nQ 47.65625 37.796875 51.625 33 \nQ 55.609375 28.21875 55.609375 21.1875 \nQ 55.609375 10.40625 48.1875 4.484375 \nQ 40.765625 -1.421875 27.09375 -1.421875 \nQ 22.515625 -1.421875 17.65625 -0.515625 \nQ 12.796875 0.390625 7.625 2.203125 \nL 7.625 11.71875 \nQ 11.71875 9.328125 16.59375 8.109375 \nQ 21.484375 6.890625 26.8125 6.890625 \nQ 36.078125 6.890625 40.9375 10.546875 \nQ 45.796875 14.203125 45.796875 21.1875 \nQ 45.796875 27.640625 41.28125 31.265625 \nQ 36.765625 34.90625 28.71875 34.90625 \nL 20.21875 34.90625 \nL 20.21875 43.015625 \nL 29.109375 43.015625 \nQ 36.375 43.015625 40.234375 45.921875 \nQ 44.09375 48.828125 44.09375 54.296875 \nQ 44.09375 59.90625 40.109375 62.90625 \nQ 36.140625 65.921875 28.71875 65.921875 \nQ 24.65625 65.921875 20.015625 65.03125 \nQ 15.375 64.15625 9.8125 62.3125 \nL 9.8125 71.09375 \nQ 15.4375 72.65625 20.34375 73.4375 \nQ 25.25 74.21875 29.59375 74.21875 \nQ 40.828125 74.21875 47.359375 69.109375 \nQ 53.90625 64.015625 53.90625 55.328125 \nQ 53.90625 49.265625 50.4375 45.09375 \nQ 46.96875 40.921875 40.578125 39.3125 \nz\n\" id=\"DejaVuSans-51\"/>\n      </defs>\n      <g transform=\"translate(243.506824 239.238437)scale(0.1 -0.1)\">\n       <use xlink:href=\"#DejaVuSans-51\"/>\n       <use x=\"63.623047\" xlink:href=\"#DejaVuSans-48\"/>\n      </g>\n     </g>\n    </g>\n    <g id=\"xtick_5\">\n     <g id=\"line2d_5\">\n      <g>\n       <use style=\"stroke:#000000;stroke-width:0.8;\" x=\"314.627545\" xlink:href=\"#mda5496ea33\" y=\"224.64\"/>\n      </g>\n     </g>\n     <g id=\"text_5\">\n      <!-- 40 -->\n      <defs>\n       <path d=\"M 37.796875 64.3125 \nL 12.890625 25.390625 \nL 37.796875 25.390625 \nz\nM 35.203125 72.90625 \nL 47.609375 72.90625 \nL 47.609375 25.390625 \nL 58.015625 25.390625 \nL 58.015625 17.1875 \nL 47.609375 17.1875 \nL 47.609375 0 \nL 37.796875 0 \nL 37.796875 17.1875 \nL 4.890625 17.1875 \nL 4.890625 26.703125 \nz\n\" id=\"DejaVuSans-52\"/>\n      </defs>\n      <g transform=\"translate(308.265045 239.238437)scale(0.1 -0.1)\">\n       <use xlink:href=\"#DejaVuSans-52\"/>\n       <use x=\"63.623047\" xlink:href=\"#DejaVuSans-48\"/>\n      </g>\n     </g>\n    </g>\n    <g id=\"xtick_6\">\n     <g id=\"line2d_6\">\n      <g>\n       <use style=\"stroke:#000000;stroke-width:0.8;\" x=\"379.385765\" xlink:href=\"#mda5496ea33\" y=\"224.64\"/>\n      </g>\n     </g>\n     <g id=\"text_6\">\n      <!-- 50 -->\n      <defs>\n       <path d=\"M 10.796875 72.90625 \nL 49.515625 72.90625 \nL 49.515625 64.59375 \nL 19.828125 64.59375 \nL 19.828125 46.734375 \nQ 21.96875 47.46875 24.109375 47.828125 \nQ 26.265625 48.1875 28.421875 48.1875 \nQ 40.625 48.1875 47.75 41.5 \nQ 54.890625 34.8125 54.890625 23.390625 \nQ 54.890625 11.625 47.5625 5.09375 \nQ 40.234375 -1.421875 26.90625 -1.421875 \nQ 22.3125 -1.421875 17.546875 -0.640625 \nQ 12.796875 0.140625 7.71875 1.703125 \nL 7.71875 11.625 \nQ 12.109375 9.234375 16.796875 8.0625 \nQ 21.484375 6.890625 26.703125 6.890625 \nQ 35.15625 6.890625 40.078125 11.328125 \nQ 45.015625 15.765625 45.015625 23.390625 \nQ 45.015625 31 40.078125 35.4375 \nQ 35.15625 39.890625 26.703125 39.890625 \nQ 22.75 39.890625 18.8125 39.015625 \nQ 14.890625 38.140625 10.796875 36.28125 \nz\n\" id=\"DejaVuSans-53\"/>\n      </defs>\n      <g transform=\"translate(373.023265 239.238437)scale(0.1 -0.1)\">\n       <use xlink:href=\"#DejaVuSans-53\"/>\n       <use x=\"63.623047\" xlink:href=\"#DejaVuSans-48\"/>\n      </g>\n     </g>\n    </g>\n    <g id=\"text_7\">\n     <!-- k -->\n     <defs>\n      <path d=\"M 9.078125 75.984375 \nL 18.109375 75.984375 \nL 18.109375 31.109375 \nL 44.921875 54.6875 \nL 56.390625 54.6875 \nL 27.390625 29.109375 \nL 57.625 0 \nL 45.90625 0 \nL 18.109375 26.703125 \nL 18.109375 0 \nL 9.078125 0 \nz\n\" id=\"DejaVuSans-107\"/>\n     </defs>\n     <g transform=\"translate(217.832813 252.916562)scale(0.1 -0.1)\">\n      <use xlink:href=\"#DejaVuSans-107\"/>\n     </g>\n    </g>\n   </g>\n   <g id=\"matplotlib.axis_2\">\n    <g id=\"ytick_1\">\n     <g id=\"line2d_7\">\n      <defs>\n       <path d=\"M 0 0 \nL -3.5 0 \n\" id=\"m4fa21a7196\" style=\"stroke:#000000;stroke-width:0.8;\"/>\n      </defs>\n      <g>\n       <use style=\"stroke:#000000;stroke-width:0.8;\" x=\"53.328125\" xlink:href=\"#m4fa21a7196\" y=\"214.756364\"/>\n      </g>\n     </g>\n     <g id=\"text_8\">\n      <!-- 0 -->\n      <g transform=\"translate(39.965625 218.555582)scale(0.1 -0.1)\">\n       <use xlink:href=\"#DejaVuSans-48\"/>\n      </g>\n     </g>\n    </g>\n    <g id=\"ytick_2\">\n     <g id=\"line2d_8\">\n      <g>\n       <use style=\"stroke:#000000;stroke-width:0.8;\" x=\"53.328125\" xlink:href=\"#m4fa21a7196\" y=\"190.312415\"/>\n      </g>\n     </g>\n     <g id=\"text_9\">\n      <!-- 250 -->\n      <g transform=\"translate(27.240625 194.111634)scale(0.1 -0.1)\">\n       <use xlink:href=\"#DejaVuSans-50\"/>\n       <use x=\"63.623047\" xlink:href=\"#DejaVuSans-53\"/>\n       <use x=\"127.246094\" xlink:href=\"#DejaVuSans-48\"/>\n      </g>\n     </g>\n    </g>\n    <g id=\"ytick_3\">\n     <g id=\"line2d_9\">\n      <g>\n       <use style=\"stroke:#000000;stroke-width:0.8;\" x=\"53.328125\" xlink:href=\"#m4fa21a7196\" y=\"165.868467\"/>\n      </g>\n     </g>\n     <g id=\"text_10\">\n      <!-- 500 -->\n      <g transform=\"translate(27.240625 169.667686)scale(0.1 -0.1)\">\n       <use xlink:href=\"#DejaVuSans-53\"/>\n       <use x=\"63.623047\" xlink:href=\"#DejaVuSans-48\"/>\n       <use x=\"127.246094\" xlink:href=\"#DejaVuSans-48\"/>\n      </g>\n     </g>\n    </g>\n    <g id=\"ytick_4\">\n     <g id=\"line2d_10\">\n      <g>\n       <use style=\"stroke:#000000;stroke-width:0.8;\" x=\"53.328125\" xlink:href=\"#m4fa21a7196\" y=\"141.424518\"/>\n      </g>\n     </g>\n     <g id=\"text_11\">\n      <!-- 750 -->\n      <defs>\n       <path d=\"M 8.203125 72.90625 \nL 55.078125 72.90625 \nL 55.078125 68.703125 \nL 28.609375 0 \nL 18.3125 0 \nL 43.21875 64.59375 \nL 8.203125 64.59375 \nz\n\" id=\"DejaVuSans-55\"/>\n      </defs>\n      <g transform=\"translate(27.240625 145.223737)scale(0.1 -0.1)\">\n       <use xlink:href=\"#DejaVuSans-55\"/>\n       <use x=\"63.623047\" xlink:href=\"#DejaVuSans-53\"/>\n       <use x=\"127.246094\" xlink:href=\"#DejaVuSans-48\"/>\n      </g>\n     </g>\n    </g>\n    <g id=\"ytick_5\">\n     <g id=\"line2d_11\">\n      <g>\n       <use style=\"stroke:#000000;stroke-width:0.8;\" x=\"53.328125\" xlink:href=\"#m4fa21a7196\" y=\"116.98057\"/>\n      </g>\n     </g>\n     <g id=\"text_12\">\n      <!-- 1000 -->\n      <g transform=\"translate(20.878125 120.779789)scale(0.1 -0.1)\">\n       <use xlink:href=\"#DejaVuSans-49\"/>\n       <use x=\"63.623047\" xlink:href=\"#DejaVuSans-48\"/>\n       <use x=\"127.246094\" xlink:href=\"#DejaVuSans-48\"/>\n       <use x=\"190.869141\" xlink:href=\"#DejaVuSans-48\"/>\n      </g>\n     </g>\n    </g>\n    <g id=\"ytick_6\">\n     <g id=\"line2d_12\">\n      <g>\n       <use style=\"stroke:#000000;stroke-width:0.8;\" x=\"53.328125\" xlink:href=\"#m4fa21a7196\" y=\"92.536621\"/>\n      </g>\n     </g>\n     <g id=\"text_13\">\n      <!-- 1250 -->\n      <g transform=\"translate(20.878125 96.33584)scale(0.1 -0.1)\">\n       <use xlink:href=\"#DejaVuSans-49\"/>\n       <use x=\"63.623047\" xlink:href=\"#DejaVuSans-50\"/>\n       <use x=\"127.246094\" xlink:href=\"#DejaVuSans-53\"/>\n       <use x=\"190.869141\" xlink:href=\"#DejaVuSans-48\"/>\n      </g>\n     </g>\n    </g>\n    <g id=\"ytick_7\">\n     <g id=\"line2d_13\">\n      <g>\n       <use style=\"stroke:#000000;stroke-width:0.8;\" x=\"53.328125\" xlink:href=\"#m4fa21a7196\" y=\"68.092673\"/>\n      </g>\n     </g>\n     <g id=\"text_14\">\n      <!-- 1500 -->\n      <g transform=\"translate(20.878125 71.891892)scale(0.1 -0.1)\">\n       <use xlink:href=\"#DejaVuSans-49\"/>\n       <use x=\"63.623047\" xlink:href=\"#DejaVuSans-53\"/>\n       <use x=\"127.246094\" xlink:href=\"#DejaVuSans-48\"/>\n       <use x=\"190.869141\" xlink:href=\"#DejaVuSans-48\"/>\n      </g>\n     </g>\n    </g>\n    <g id=\"ytick_8\">\n     <g id=\"line2d_14\">\n      <g>\n       <use style=\"stroke:#000000;stroke-width:0.8;\" x=\"53.328125\" xlink:href=\"#m4fa21a7196\" y=\"43.648725\"/>\n      </g>\n     </g>\n     <g id=\"text_15\">\n      <!-- 1750 -->\n      <g transform=\"translate(20.878125 47.447943)scale(0.1 -0.1)\">\n       <use xlink:href=\"#DejaVuSans-49\"/>\n       <use x=\"63.623047\" xlink:href=\"#DejaVuSans-55\"/>\n       <use x=\"127.246094\" xlink:href=\"#DejaVuSans-53\"/>\n       <use x=\"190.869141\" xlink:href=\"#DejaVuSans-48\"/>\n      </g>\n     </g>\n    </g>\n    <g id=\"ytick_9\">\n     <g id=\"line2d_15\">\n      <g>\n       <use style=\"stroke:#000000;stroke-width:0.8;\" x=\"53.328125\" xlink:href=\"#m4fa21a7196\" y=\"19.204776\"/>\n      </g>\n     </g>\n     <g id=\"text_16\">\n      <!-- 2000 -->\n      <g transform=\"translate(20.878125 23.003995)scale(0.1 -0.1)\">\n       <use xlink:href=\"#DejaVuSans-50\"/>\n       <use x=\"63.623047\" xlink:href=\"#DejaVuSans-48\"/>\n       <use x=\"127.246094\" xlink:href=\"#DejaVuSans-48\"/>\n       <use x=\"190.869141\" xlink:href=\"#DejaVuSans-48\"/>\n      </g>\n     </g>\n    </g>\n    <g id=\"text_17\">\n     <!-- Inertia -->\n     <defs>\n      <path d=\"M 9.8125 72.90625 \nL 19.671875 72.90625 \nL 19.671875 0 \nL 9.8125 0 \nz\n\" id=\"DejaVuSans-73\"/>\n      <path d=\"M 54.890625 33.015625 \nL 54.890625 0 \nL 45.90625 0 \nL 45.90625 32.71875 \nQ 45.90625 40.484375 42.875 44.328125 \nQ 39.84375 48.1875 33.796875 48.1875 \nQ 26.515625 48.1875 22.3125 43.546875 \nQ 18.109375 38.921875 18.109375 30.90625 \nL 18.109375 0 \nL 9.078125 0 \nL 9.078125 54.6875 \nL 18.109375 54.6875 \nL 18.109375 46.1875 \nQ 21.34375 51.125 25.703125 53.5625 \nQ 30.078125 56 35.796875 56 \nQ 45.21875 56 50.046875 50.171875 \nQ 54.890625 44.34375 54.890625 33.015625 \nz\n\" id=\"DejaVuSans-110\"/>\n      <path d=\"M 56.203125 29.59375 \nL 56.203125 25.203125 \nL 14.890625 25.203125 \nQ 15.484375 15.921875 20.484375 11.0625 \nQ 25.484375 6.203125 34.421875 6.203125 \nQ 39.59375 6.203125 44.453125 7.46875 \nQ 49.3125 8.734375 54.109375 11.28125 \nL 54.109375 2.78125 \nQ 49.265625 0.734375 44.1875 -0.34375 \nQ 39.109375 -1.421875 33.890625 -1.421875 \nQ 20.796875 -1.421875 13.15625 6.1875 \nQ 5.515625 13.8125 5.515625 26.8125 \nQ 5.515625 40.234375 12.765625 48.109375 \nQ 20.015625 56 32.328125 56 \nQ 43.359375 56 49.78125 48.890625 \nQ 56.203125 41.796875 56.203125 29.59375 \nz\nM 47.21875 32.234375 \nQ 47.125 39.59375 43.09375 43.984375 \nQ 39.0625 48.390625 32.421875 48.390625 \nQ 24.90625 48.390625 20.390625 44.140625 \nQ 15.875 39.890625 15.1875 32.171875 \nz\n\" id=\"DejaVuSans-101\"/>\n      <path d=\"M 41.109375 46.296875 \nQ 39.59375 47.171875 37.8125 47.578125 \nQ 36.03125 48 33.890625 48 \nQ 26.265625 48 22.1875 43.046875 \nQ 18.109375 38.09375 18.109375 28.8125 \nL 18.109375 0 \nL 9.078125 0 \nL 9.078125 54.6875 \nL 18.109375 54.6875 \nL 18.109375 46.1875 \nQ 20.953125 51.171875 25.484375 53.578125 \nQ 30.03125 56 36.53125 56 \nQ 37.453125 56 38.578125 55.875 \nQ 39.703125 55.765625 41.0625 55.515625 \nz\n\" id=\"DejaVuSans-114\"/>\n      <path d=\"M 18.3125 70.21875 \nL 18.3125 54.6875 \nL 36.8125 54.6875 \nL 36.8125 47.703125 \nL 18.3125 47.703125 \nL 18.3125 18.015625 \nQ 18.3125 11.328125 20.140625 9.421875 \nQ 21.96875 7.515625 27.59375 7.515625 \nL 36.8125 7.515625 \nL 36.8125 0 \nL 27.59375 0 \nQ 17.1875 0 13.234375 3.875 \nQ 9.28125 7.765625 9.28125 18.015625 \nL 9.28125 47.703125 \nL 2.6875 47.703125 \nL 2.6875 54.6875 \nL 9.28125 54.6875 \nL 9.28125 70.21875 \nz\n\" id=\"DejaVuSans-116\"/>\n      <path d=\"M 9.421875 54.6875 \nL 18.40625 54.6875 \nL 18.40625 0 \nL 9.421875 0 \nz\nM 9.421875 75.984375 \nL 18.40625 75.984375 \nL 18.40625 64.59375 \nL 9.421875 64.59375 \nz\n\" id=\"DejaVuSans-105\"/>\n      <path d=\"M 34.28125 27.484375 \nQ 23.390625 27.484375 19.1875 25 \nQ 14.984375 22.515625 14.984375 16.5 \nQ 14.984375 11.71875 18.140625 8.90625 \nQ 21.296875 6.109375 26.703125 6.109375 \nQ 34.1875 6.109375 38.703125 11.40625 \nQ 43.21875 16.703125 43.21875 25.484375 \nL 43.21875 27.484375 \nz\nM 52.203125 31.203125 \nL 52.203125 0 \nL 43.21875 0 \nL 43.21875 8.296875 \nQ 40.140625 3.328125 35.546875 0.953125 \nQ 30.953125 -1.421875 24.3125 -1.421875 \nQ 15.921875 -1.421875 10.953125 3.296875 \nQ 6 8.015625 6 15.921875 \nQ 6 25.140625 12.171875 29.828125 \nQ 18.359375 34.515625 30.609375 34.515625 \nL 43.21875 34.515625 \nL 43.21875 35.40625 \nQ 43.21875 41.609375 39.140625 45 \nQ 35.0625 48.390625 27.6875 48.390625 \nQ 23 48.390625 18.546875 47.265625 \nQ 14.109375 46.140625 10.015625 43.890625 \nL 10.015625 52.203125 \nQ 14.9375 54.109375 19.578125 55.046875 \nQ 24.21875 56 28.609375 56 \nQ 40.484375 56 46.34375 49.84375 \nQ 52.203125 43.703125 52.203125 31.203125 \nz\n\" id=\"DejaVuSans-97\"/>\n     </defs>\n     <g transform=\"translate(14.798438 132.109062)rotate(-90)scale(0.1 -0.1)\">\n      <use xlink:href=\"#DejaVuSans-73\"/>\n      <use x=\"29.492188\" xlink:href=\"#DejaVuSans-110\"/>\n      <use x=\"92.871094\" xlink:href=\"#DejaVuSans-101\"/>\n      <use x=\"154.394531\" xlink:href=\"#DejaVuSans-114\"/>\n      <use x=\"195.507812\" xlink:href=\"#DejaVuSans-116\"/>\n      <use x=\"234.716797\" xlink:href=\"#DejaVuSans-105\"/>\n      <use x=\"262.5\" xlink:href=\"#DejaVuSans-97\"/>\n     </g>\n    </g>\n   </g>\n   <g id=\"line2d_16\">\n    <path clip-path=\"url(#p45558727a0)\" d=\"M 68.546307 17.083636 \nL 75.022129 48.450249 \nL 81.497951 79.82584 \nL 87.973773 96.978021 \nL 94.449595 116.608841 \nL 100.925417 132.151837 \nL 107.401239 142.045574 \nL 113.877061 148.23478 \nL 120.352883 158.146875 \nL 126.828705 165.664558 \nL 133.304527 171.421025 \nL 139.780349 175.778961 \nL 146.256171 178.761441 \nL 152.731993 182.218914 \nL 159.207816 186.140931 \nL 165.683638 189.094259 \nL 172.15946 192.897235 \nL 178.635282 196.780548 \nL 185.111104 198.518944 \nL 191.586926 200.567978 \nL 198.062748 203.273729 \nL 204.53857 205.380147 \nL 211.014392 207.429181 \nL 217.490214 209.322104 \nL 223.966036 211.02165 \nL 230.441858 212.477527 \nL 236.91768 213.659125 \nL 243.393502 214.756364 \nL 249.869324 214.756364 \nL 256.345146 214.756364 \nL 262.820968 214.756364 \nL 269.29679 214.756364 \nL 275.772612 214.756364 \nL 282.248434 214.756364 \nL 288.724257 214.756364 \nL 295.200079 214.756364 \nL 301.675901 214.756364 \nL 308.151723 214.756364 \nL 314.627545 214.756364 \nL 321.103367 214.756364 \nL 327.579189 214.756364 \nL 334.055011 214.756364 \nL 340.530833 214.756364 \nL 347.006655 214.756364 \nL 353.482477 214.756364 \nL 359.958299 214.756364 \nL 366.434121 214.756364 \nL 372.909943 214.756364 \n\" style=\"fill:none;stroke:#0000ff;stroke-linecap:square;stroke-width:1.5;\"/>\n    <defs>\n     <path d=\"M -3 3 \nL 3 -3 \nM -3 -3 \nL 3 3 \n\" id=\"m15461f4c42\" style=\"stroke:#0000ff;\"/>\n    </defs>\n    <g clip-path=\"url(#p45558727a0)\">\n     <use style=\"fill:#0000ff;stroke:#0000ff;\" x=\"68.546307\" xlink:href=\"#m15461f4c42\" y=\"17.083636\"/>\n     <use style=\"fill:#0000ff;stroke:#0000ff;\" x=\"75.022129\" xlink:href=\"#m15461f4c42\" y=\"48.450249\"/>\n     <use style=\"fill:#0000ff;stroke:#0000ff;\" x=\"81.497951\" xlink:href=\"#m15461f4c42\" y=\"79.82584\"/>\n     <use style=\"fill:#0000ff;stroke:#0000ff;\" x=\"87.973773\" xlink:href=\"#m15461f4c42\" y=\"96.978021\"/>\n     <use style=\"fill:#0000ff;stroke:#0000ff;\" x=\"94.449595\" xlink:href=\"#m15461f4c42\" y=\"116.608841\"/>\n     <use style=\"fill:#0000ff;stroke:#0000ff;\" x=\"100.925417\" xlink:href=\"#m15461f4c42\" y=\"132.151837\"/>\n     <use style=\"fill:#0000ff;stroke:#0000ff;\" x=\"107.401239\" xlink:href=\"#m15461f4c42\" y=\"142.045574\"/>\n     <use style=\"fill:#0000ff;stroke:#0000ff;\" x=\"113.877061\" xlink:href=\"#m15461f4c42\" y=\"148.23478\"/>\n     <use style=\"fill:#0000ff;stroke:#0000ff;\" x=\"120.352883\" xlink:href=\"#m15461f4c42\" y=\"158.146875\"/>\n     <use style=\"fill:#0000ff;stroke:#0000ff;\" x=\"126.828705\" xlink:href=\"#m15461f4c42\" y=\"165.664558\"/>\n     <use style=\"fill:#0000ff;stroke:#0000ff;\" x=\"133.304527\" xlink:href=\"#m15461f4c42\" y=\"171.421025\"/>\n     <use style=\"fill:#0000ff;stroke:#0000ff;\" x=\"139.780349\" xlink:href=\"#m15461f4c42\" y=\"175.778961\"/>\n     <use style=\"fill:#0000ff;stroke:#0000ff;\" x=\"146.256171\" xlink:href=\"#m15461f4c42\" y=\"178.761441\"/>\n     <use style=\"fill:#0000ff;stroke:#0000ff;\" x=\"152.731993\" xlink:href=\"#m15461f4c42\" y=\"182.218914\"/>\n     <use style=\"fill:#0000ff;stroke:#0000ff;\" x=\"159.207816\" xlink:href=\"#m15461f4c42\" y=\"186.140931\"/>\n     <use style=\"fill:#0000ff;stroke:#0000ff;\" x=\"165.683638\" xlink:href=\"#m15461f4c42\" y=\"189.094259\"/>\n     <use style=\"fill:#0000ff;stroke:#0000ff;\" x=\"172.15946\" xlink:href=\"#m15461f4c42\" y=\"192.897235\"/>\n     <use style=\"fill:#0000ff;stroke:#0000ff;\" x=\"178.635282\" xlink:href=\"#m15461f4c42\" y=\"196.780548\"/>\n     <use style=\"fill:#0000ff;stroke:#0000ff;\" x=\"185.111104\" xlink:href=\"#m15461f4c42\" y=\"198.518944\"/>\n     <use style=\"fill:#0000ff;stroke:#0000ff;\" x=\"191.586926\" xlink:href=\"#m15461f4c42\" y=\"200.567978\"/>\n     <use style=\"fill:#0000ff;stroke:#0000ff;\" x=\"198.062748\" xlink:href=\"#m15461f4c42\" y=\"203.273729\"/>\n     <use style=\"fill:#0000ff;stroke:#0000ff;\" x=\"204.53857\" xlink:href=\"#m15461f4c42\" y=\"205.380147\"/>\n     <use style=\"fill:#0000ff;stroke:#0000ff;\" x=\"211.014392\" xlink:href=\"#m15461f4c42\" y=\"207.429181\"/>\n     <use style=\"fill:#0000ff;stroke:#0000ff;\" x=\"217.490214\" xlink:href=\"#m15461f4c42\" y=\"209.322104\"/>\n     <use style=\"fill:#0000ff;stroke:#0000ff;\" x=\"223.966036\" xlink:href=\"#m15461f4c42\" y=\"211.02165\"/>\n     <use style=\"fill:#0000ff;stroke:#0000ff;\" x=\"230.441858\" xlink:href=\"#m15461f4c42\" y=\"212.477527\"/>\n     <use style=\"fill:#0000ff;stroke:#0000ff;\" x=\"236.91768\" xlink:href=\"#m15461f4c42\" y=\"213.659125\"/>\n     <use style=\"fill:#0000ff;stroke:#0000ff;\" x=\"243.393502\" xlink:href=\"#m15461f4c42\" y=\"214.756364\"/>\n     <use style=\"fill:#0000ff;stroke:#0000ff;\" x=\"249.869324\" xlink:href=\"#m15461f4c42\" y=\"214.756364\"/>\n     <use style=\"fill:#0000ff;stroke:#0000ff;\" x=\"256.345146\" xlink:href=\"#m15461f4c42\" y=\"214.756364\"/>\n     <use style=\"fill:#0000ff;stroke:#0000ff;\" x=\"262.820968\" xlink:href=\"#m15461f4c42\" y=\"214.756364\"/>\n     <use style=\"fill:#0000ff;stroke:#0000ff;\" x=\"269.29679\" xlink:href=\"#m15461f4c42\" y=\"214.756364\"/>\n     <use style=\"fill:#0000ff;stroke:#0000ff;\" x=\"275.772612\" xlink:href=\"#m15461f4c42\" y=\"214.756364\"/>\n     <use style=\"fill:#0000ff;stroke:#0000ff;\" x=\"282.248434\" xlink:href=\"#m15461f4c42\" y=\"214.756364\"/>\n     <use style=\"fill:#0000ff;stroke:#0000ff;\" x=\"288.724257\" xlink:href=\"#m15461f4c42\" y=\"214.756364\"/>\n     <use style=\"fill:#0000ff;stroke:#0000ff;\" x=\"295.200079\" xlink:href=\"#m15461f4c42\" y=\"214.756364\"/>\n     <use style=\"fill:#0000ff;stroke:#0000ff;\" x=\"301.675901\" xlink:href=\"#m15461f4c42\" y=\"214.756364\"/>\n     <use style=\"fill:#0000ff;stroke:#0000ff;\" x=\"308.151723\" xlink:href=\"#m15461f4c42\" y=\"214.756364\"/>\n     <use style=\"fill:#0000ff;stroke:#0000ff;\" x=\"314.627545\" xlink:href=\"#m15461f4c42\" y=\"214.756364\"/>\n     <use style=\"fill:#0000ff;stroke:#0000ff;\" x=\"321.103367\" xlink:href=\"#m15461f4c42\" y=\"214.756364\"/>\n     <use style=\"fill:#0000ff;stroke:#0000ff;\" x=\"327.579189\" xlink:href=\"#m15461f4c42\" y=\"214.756364\"/>\n     <use style=\"fill:#0000ff;stroke:#0000ff;\" x=\"334.055011\" xlink:href=\"#m15461f4c42\" y=\"214.756364\"/>\n     <use style=\"fill:#0000ff;stroke:#0000ff;\" x=\"340.530833\" xlink:href=\"#m15461f4c42\" y=\"214.756364\"/>\n     <use style=\"fill:#0000ff;stroke:#0000ff;\" x=\"347.006655\" xlink:href=\"#m15461f4c42\" y=\"214.756364\"/>\n     <use style=\"fill:#0000ff;stroke:#0000ff;\" x=\"353.482477\" xlink:href=\"#m15461f4c42\" y=\"214.756364\"/>\n     <use style=\"fill:#0000ff;stroke:#0000ff;\" x=\"359.958299\" xlink:href=\"#m15461f4c42\" y=\"214.756364\"/>\n     <use style=\"fill:#0000ff;stroke:#0000ff;\" x=\"366.434121\" xlink:href=\"#m15461f4c42\" y=\"214.756364\"/>\n     <use style=\"fill:#0000ff;stroke:#0000ff;\" x=\"372.909943\" xlink:href=\"#m15461f4c42\" y=\"214.756364\"/>\n    </g>\n   </g>\n   <g id=\"patch_3\">\n    <path d=\"M 53.328125 224.64 \nL 53.328125 7.2 \n\" style=\"fill:none;stroke:#000000;stroke-linecap:square;stroke-linejoin:miter;stroke-width:0.8;\"/>\n   </g>\n   <g id=\"patch_4\">\n    <path d=\"M 388.128125 224.64 \nL 388.128125 7.2 \n\" style=\"fill:none;stroke:#000000;stroke-linecap:square;stroke-linejoin:miter;stroke-width:0.8;\"/>\n   </g>\n   <g id=\"patch_5\">\n    <path d=\"M 53.328125 224.64 \nL 388.128125 224.64 \n\" style=\"fill:none;stroke:#000000;stroke-linecap:square;stroke-linejoin:miter;stroke-width:0.8;\"/>\n   </g>\n   <g id=\"patch_6\">\n    <path d=\"M 53.328125 7.2 \nL 388.128125 7.2 \n\" style=\"fill:none;stroke:#000000;stroke-linecap:square;stroke-linejoin:miter;stroke-width:0.8;\"/>\n   </g>\n  </g>\n </g>\n <defs>\n  <clipPath id=\"p45558727a0\">\n   <rect height=\"217.44\" width=\"334.8\" x=\"53.328125\" y=\"7.2\"/>\n  </clipPath>\n </defs>\n</svg>\n",
      "image/png": "[encoded data removed]"
     },
     "metadata": {
      "needs_background": "light"
     }
    }
   ],
   "source": [
    "Sum_of_squared_distances = []\n",
    "K = range(2,50)\n",
    "for k in K:\n",
    "    km = KMeans(n_clusters=k)\n",
    "    km = km.fit(vector_df.to_numpy())\n",
    "    Sum_of_squared_distances.append(km.inertia_)\n",
    "    \n",
    "plt.plot(K, Sum_of_squared_distances, 'bx-')\n",
    "plt.xlabel('k')\n",
    "plt.ylabel('Inertia')\n",
    "plt.show()"
   ]
  },
  {
   "cell_type": "markdown",
   "metadata": {},
   "source": [
    "## Modelo 2: bag of chars\n",
    "Extraer todos los grupos de caracteres del archivo y representarlos como un componente del vector de reprersentacion.\n",
    "* Un grupo parar cada letra del alfabeto en inglés sensible a mayusculas. (52)\n",
    "* Un grupo que aglomere todos los caracteres especiales menos puntuación (1)\n",
    "* Un grupo diferrente para comas, puntos, dos puntos, apostrofe y punto y coma (4)\n",
    "* Un grupo los diferentes digitos (10)\n",
    "* Un grupo los caracterres de espacio (1)"
   ]
  },
  {
   "cell_type": "markdown",
   "metadata": {},
   "source": []
  },
  {
   "cell_type": "code",
   "execution_count": 11,
   "metadata": {},
   "outputs": [],
   "source": [
    "model_2_df = entities.copy()\n",
    "del model_2_df['has_vector']\n",
    "\n",
    "model_2_df['text'] = model_2_df.entitie.apply(lambda e: e.text)\n",
    "full_text = ' '.join(model_2_df.text)\n"
   ]
  },
  {
   "cell_type": "code",
   "execution_count": null,
   "metadata": {},
   "outputs": [],
   "source": []
  },
  {
   "cell_type": "code",
   "execution_count": 12,
   "metadata": {},
   "outputs": [
    {
     "output_type": "execute_result",
     "data": {
      "text/plain": "['\\t\\t\\t ', ' ', ' ', ' ']"
     },
     "metadata": {},
     "execution_count": 12
    }
   ],
   "source": [
    "alphanum_re = re.compile(r'[A-Za-z0-9]')\n",
    "punct_re = re.compile(r'[\\.,:;\\'\\\"]')\n",
    "blank_re = re.compile(r'\\s+')\n",
    "special_re = re.compile(r'[^A-Za-z0-9\\s\\.,:;\\'\"]')\n",
    "\n",
    "# def bag_of_chars(text):\n",
    "    \n",
    "#     for a in text:\n",
    "\n",
    "test = \"sfsdfasdfsd@@¢#@.\\t\\t\\t 342343 dfsdgfd ñæ∂∫©€ ardillasaurio,...'''\\\"\\\"\\\"\"\n",
    "blank_re.findall(test)"
   ]
  },
  {
   "cell_type": "code",
   "execution_count": 13,
   "metadata": {},
   "outputs": [
    {
     "output_type": "error",
     "ename": "SyntaxError",
     "evalue": "invalid syntax (<ipython-input-13-1af4a40d7099>, line 3)",
     "traceback": [
      "\u001b[0;36m  File \u001b[0;32m\"<ipython-input-13-1af4a40d7099>\"\u001b[0;36m, line \u001b[0;32m3\u001b[0m\n\u001b[0;31m    chars_df =\u001b[0m\n\u001b[0m              ^\u001b[0m\n\u001b[0;31mSyntaxError\u001b[0m\u001b[0;31m:\u001b[0m invalid syntax\n"
     ]
    }
   ],
   "source": [
    "model_2_df = with_vector.copy()\n",
    "model_2_df['text'] = model_2_df.entitie.apply(lambda e: e.text)\n",
    "chars_df ="
   ]
  }
 ],
 "metadata": {
  "language_info": {
   "codemirror_mode": {
    "name": "ipython",
    "version": 3
   },
   "file_extension": ".py",
   "mimetype": "text/x-python",
   "name": "python",
   "nbconvert_exporter": "python",
   "pygments_lexer": "ipython3",
   "version": "3.7.6-final"
  },
  "orig_nbformat": 2,
  "kernelspec": {
   "name": "python38164bitnlpconda91879d213a784cd7ad50df7b2e78c33c",
   "display_name": "Python 3.8.1 64-bit ('nlp': conda)"
  }
 },
 "nbformat": 4,
 "nbformat_minor": 2
}