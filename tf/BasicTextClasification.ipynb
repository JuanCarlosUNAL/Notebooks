{
  "nbformat": 4,
  "nbformat_minor": 0,
  "metadata": {
    "colab": {
      "name": "BasicTextClasification.ipynb",
      "provenance": [],
      "collapsed_sections": [],
      "authorship_tag": "ABX9TyMOp0e1GdYKbeYcrDeYG5Kq",
      "include_colab_link": true
    },
    "kernelspec": {
      "name": "python3",
      "display_name": "Python 3"
    },
    "accelerator": "GPU"
  },
  "cells": [
    {
      "cell_type": "markdown",
      "metadata": {
        "id": "view-in-github",
        "colab_type": "text"
      },
      "source": [
        "<a href=\"https://colab.research.google.com/github/JuanCarlosUNAL/Notebooks/blob/master/tf/BasicTextClasification.ipynb\" target=\"_parent\"><img src=\"https://colab.research.google.com/assets/colab-badge.svg\" alt=\"Open In Colab\"/></a>"
      ]
    },
    {
      "cell_type": "markdown",
      "metadata": {
        "id": "LNO47qAbWD8P",
        "colab_type": "text"
      },
      "source": [
        "# Basic Text Clasification\n",
        "Using *StackOverflow* dataset try to predict the programing languaje that the text refers to"
      ]
    },
    {
      "cell_type": "code",
      "metadata": {
        "id": "TOyomGTsTMWU",
        "colab_type": "code",
        "colab": {
          "base_uri": "https://localhost:8080/",
          "height": 35
        },
        "outputId": "249ebb52-24f1-4f80-cd96-acd50a16cabb"
      },
      "source": [
        "import matplotlib.pyplot as plt\n",
        "import tensorflow as tf\n",
        "import pandas as pd\n",
        "import numpy as np\n",
        "import tarfile\n",
        "import os\n",
        "\n",
        "%matplotlib inline\n",
        "tf.__version__"
      ],
      "execution_count": 44,
      "outputs": [
        {
          "output_type": "execute_result",
          "data": {
            "application/vnd.google.colaboratory.intrinsic+json": {
              "type": "string"
            },
            "text/plain": [
              "'2.3.0'"
            ]
          },
          "metadata": {
            "tags": []
          },
          "execution_count": 44
        }
      ]
    },
    {
      "cell_type": "markdown",
      "metadata": {
        "id": "Vth_D3thUUrD",
        "colab_type": "text"
      },
      "source": [
        "## Download dataset"
      ]
    },
    {
      "cell_type": "code",
      "metadata": {
        "id": "JzdiH4ruTk1c",
        "colab_type": "code",
        "colab": {
          "base_uri": "https://localhost:8080/",
          "height": 204
        },
        "outputId": "5e34aff3-916b-419c-c690-4861abff7571"
      },
      "source": [
        "!wget http://storage.googleapis.com/download.tensorflow.org/data/stack_overflow_16k.tar.gz"
      ],
      "execution_count": 2,
      "outputs": [
        {
          "output_type": "stream",
          "text": [
            "--2020-08-17 02:58:16--  http://storage.googleapis.com/download.tensorflow.org/data/stack_overflow_16k.tar.gz\n",
            "Resolving storage.googleapis.com (storage.googleapis.com)... 172.217.194.128, 2404:6800:4003:c04::80\n",
            "Connecting to storage.googleapis.com (storage.googleapis.com)|172.217.194.128|:80... connected.\n",
            "HTTP request sent, awaiting response... 200 OK\n",
            "Length: 6053168 (5.8M) [application/x-gzip]\n",
            "Saving to: ‘stack_overflow_16k.tar.gz.2’\n",
            "\n",
            "\r          stack_ove   0%[                    ]       0  --.-KB/s               \rstack_overflow_16k. 100%[===================>]   5.77M  --.-KB/s    in 0.03s   \n",
            "\n",
            "2020-08-17 02:58:16 (168 MB/s) - ‘stack_overflow_16k.tar.gz.2’ saved [6053168/6053168]\n",
            "\n"
          ],
          "name": "stdout"
        }
      ]
    },
    {
      "cell_type": "code",
      "metadata": {
        "id": "qW8J-1AzUsaL",
        "colab_type": "code",
        "colab": {}
      },
      "source": [
        "tar_dataset = tarfile.open('./stack_overflow_16k.tar.gz')\n",
        "tar_dataset.extractall('/tmp')\n",
        "tar_dataset.close()"
      ],
      "execution_count": 3,
      "outputs": []
    },
    {
      "cell_type": "code",
      "metadata": {
        "id": "7Yvdt04yViKm",
        "colab_type": "code",
        "colab": {
          "base_uri": "https://localhost:8080/",
          "height": 34
        },
        "outputId": "35863da1-456d-41b7-efba-fdfe890e3114"
      },
      "source": [
        "os.listdir('/tmp/train')"
      ],
      "execution_count": 4,
      "outputs": [
        {
          "output_type": "execute_result",
          "data": {
            "text/plain": [
              "['python', 'java', 'csharp', 'javascript']"
            ]
          },
          "metadata": {
            "tags": []
          },
          "execution_count": 4
        }
      ]
    },
    {
      "cell_type": "code",
      "metadata": {
        "id": "FLsn54GVWzWU",
        "colab_type": "code",
        "colab": {
          "base_uri": "https://localhost:8080/",
          "height": 102
        },
        "outputId": "e8c35ec4-b8f2-4e8b-a7ee-2a08b6ceb184"
      },
      "source": [
        "trainig = tf.keras.preprocessing.text_dataset_from_directory('/tmp/train', validation_split=0.2, subset='training', seed=1)\n",
        "validation = tf.keras.preprocessing.text_dataset_from_directory('/tmp/train', validation_split=0.2, subset='validation', seed=1)\n",
        "testing = tf.keras.preprocessing.text_dataset_from_directory('/tmp/test')"
      ],
      "execution_count": 5,
      "outputs": [
        {
          "output_type": "stream",
          "text": [
            "Found 8000 files belonging to 4 classes.\n",
            "Using 6400 files for training.\n",
            "Found 8000 files belonging to 4 classes.\n",
            "Using 1600 files for validation.\n",
            "Found 8000 files belonging to 4 classes.\n"
          ],
          "name": "stdout"
        }
      ]
    },
    {
      "cell_type": "markdown",
      "metadata": {
        "id": "dhTaijapdM3I",
        "colab_type": "text"
      },
      "source": [
        "## Prepare textVectorizer layer "
      ]
    },
    {
      "cell_type": "code",
      "metadata": {
        "id": "53JyGbYydWJn",
        "colab_type": "code",
        "colab": {}
      },
      "source": [
        "vectorize_layer = tf.keras.layers.experimental.preprocessing.TextVectorization(output_sequence_length=500, )"
      ],
      "execution_count": 6,
      "outputs": []
    },
    {
      "cell_type": "code",
      "metadata": {
        "id": "VVjC-OfVfbDO",
        "colab_type": "code",
        "colab": {}
      },
      "source": [
        "training_text = trainig.map(lambda x, y: x)\n",
        "vectorize_layer.adapt(training_text)"
      ],
      "execution_count": 7,
      "outputs": []
    },
    {
      "cell_type": "code",
      "metadata": {
        "id": "ZGx2KlhYgTUd",
        "colab_type": "code",
        "colab": {
          "base_uri": "https://localhost:8080/",
          "height": 765
        },
        "cellView": "form",
        "outputId": "90399442-59ca-4f31-acf5-ab9db787b2df"
      },
      "source": [
        "text_to_vectorize = \"this is an example of python code: hola mundo ardillita\" #@param {type:\"string\"}\n",
        "text_to_vectorize = np.array([text_to_vectorize])\n",
        "gen_vector = vectorize_layer(text_to_vectorize).numpy()\n",
        "print(f'shape: {gen_vector.shape}\\nvector:\\n{gen_vector}')"
      ],
      "execution_count": 21,
      "outputs": [
        {
          "output_type": "stream",
          "text": [
            "shape: (1, 500)\n",
            "vector:\n",
            "[[   13     6    32   137     9  2176    30 22717 58586     1     0     0\n",
            "      0     0     0     0     0     0     0     0     0     0     0     0\n",
            "      0     0     0     0     0     0     0     0     0     0     0     0\n",
            "      0     0     0     0     0     0     0     0     0     0     0     0\n",
            "      0     0     0     0     0     0     0     0     0     0     0     0\n",
            "      0     0     0     0     0     0     0     0     0     0     0     0\n",
            "      0     0     0     0     0     0     0     0     0     0     0     0\n",
            "      0     0     0     0     0     0     0     0     0     0     0     0\n",
            "      0     0     0     0     0     0     0     0     0     0     0     0\n",
            "      0     0     0     0     0     0     0     0     0     0     0     0\n",
            "      0     0     0     0     0     0     0     0     0     0     0     0\n",
            "      0     0     0     0     0     0     0     0     0     0     0     0\n",
            "      0     0     0     0     0     0     0     0     0     0     0     0\n",
            "      0     0     0     0     0     0     0     0     0     0     0     0\n",
            "      0     0     0     0     0     0     0     0     0     0     0     0\n",
            "      0     0     0     0     0     0     0     0     0     0     0     0\n",
            "      0     0     0     0     0     0     0     0     0     0     0     0\n",
            "      0     0     0     0     0     0     0     0     0     0     0     0\n",
            "      0     0     0     0     0     0     0     0     0     0     0     0\n",
            "      0     0     0     0     0     0     0     0     0     0     0     0\n",
            "      0     0     0     0     0     0     0     0     0     0     0     0\n",
            "      0     0     0     0     0     0     0     0     0     0     0     0\n",
            "      0     0     0     0     0     0     0     0     0     0     0     0\n",
            "      0     0     0     0     0     0     0     0     0     0     0     0\n",
            "      0     0     0     0     0     0     0     0     0     0     0     0\n",
            "      0     0     0     0     0     0     0     0     0     0     0     0\n",
            "      0     0     0     0     0     0     0     0     0     0     0     0\n",
            "      0     0     0     0     0     0     0     0     0     0     0     0\n",
            "      0     0     0     0     0     0     0     0     0     0     0     0\n",
            "      0     0     0     0     0     0     0     0     0     0     0     0\n",
            "      0     0     0     0     0     0     0     0     0     0     0     0\n",
            "      0     0     0     0     0     0     0     0     0     0     0     0\n",
            "      0     0     0     0     0     0     0     0     0     0     0     0\n",
            "      0     0     0     0     0     0     0     0     0     0     0     0\n",
            "      0     0     0     0     0     0     0     0     0     0     0     0\n",
            "      0     0     0     0     0     0     0     0     0     0     0     0\n",
            "      0     0     0     0     0     0     0     0     0     0     0     0\n",
            "      0     0     0     0     0     0     0     0     0     0     0     0\n",
            "      0     0     0     0     0     0     0     0     0     0     0     0\n",
            "      0     0     0     0     0     0     0     0     0     0     0     0\n",
            "      0     0     0     0     0     0     0     0     0     0     0     0\n",
            "      0     0     0     0     0     0     0     0]]\n"
          ],
          "name": "stdout"
        }
      ]
    },
    {
      "cell_type": "code",
      "metadata": {
        "id": "eodUf7E1hmS7",
        "colab_type": "code",
        "colab": {
          "base_uri": "https://localhost:8080/",
          "height": 34
        },
        "outputId": "3fcafd03-0d54-4dd4-ae05-d4bb029722fb"
      },
      "source": [
        "vocabulary_size = len(vectorize_layer.get_vocabulary())\n",
        "print(f'there are {vocabulary_size} different words')"
      ],
      "execution_count": 9,
      "outputs": [
        {
          "output_type": "stream",
          "text": [
            "there are 99995 different words\n"
          ],
          "name": "stdout"
        }
      ]
    },
    {
      "cell_type": "code",
      "metadata": {
        "id": "lfKPsuc3nZLN",
        "colab_type": "code",
        "colab": {}
      },
      "source": [
        "AUTOTUNE = tf.data.experimental.AUTOTUNE\n",
        "\n",
        "def vectorize_text(text, label):\n",
        "  text = tf.expand_dims(text, -1)\n",
        "  return vectorize_layer(text), label\n",
        "\n",
        "train_ds = trainig.map(vectorize_text)\n",
        "val_ds = validation.map(vectorize_text)\n",
        "test_ds = testing.map(vectorize_text)\n",
        "\n",
        "\n",
        "train_ds = train_ds.cache().prefetch(buffer_size=AUTOTUNE)\n",
        "val_ds = val_ds.cache().prefetch(buffer_size=AUTOTUNE)\n",
        "test_ds = test_ds.cache().prefetch(buffer_size=AUTOTUNE)"
      ],
      "execution_count": 10,
      "outputs": []
    },
    {
      "cell_type": "markdown",
      "metadata": {
        "id": "91F6L5o9ab1N",
        "colab_type": "text"
      },
      "source": [
        "## Create model"
      ]
    },
    {
      "cell_type": "code",
      "metadata": {
        "id": "uk3IqG1IVYed",
        "colab_type": "code",
        "colab": {}
      },
      "source": [
        "model = tf.keras.models.Sequential([\n",
        "  tf.keras.Input(shape=(1,), dtype=tf.string),\n",
        "  vectorize_layer,\n",
        "  tf.keras.layers.Embedding(vocabulary_size , 21),\n",
        "  tf.keras.layers.Flatten(),\n",
        "  # tf.keras.layers.Dense(100, activation='relu'),\n",
        "])"
      ],
      "execution_count": 18,
      "outputs": []
    },
    {
      "cell_type": "code",
      "metadata": {
        "id": "PfQlscOJVbH9",
        "colab_type": "code",
        "colab": {
          "base_uri": "https://localhost:8080/",
          "height": 34
        },
        "outputId": "ecc4adba-7250-414d-f6b4-ad227af2b0cf"
      },
      "source": [
        "model.predict(np.array(['this an example text', 'i want to solve my python problem'])).shape"
      ],
      "execution_count": 19,
      "outputs": [
        {
          "output_type": "execute_result",
          "data": {
            "text/plain": [
              "(2, 10500)"
            ]
          },
          "metadata": {
            "tags": []
          },
          "execution_count": 19
        }
      ]
    },
    {
      "cell_type": "code",
      "metadata": {
        "id": "ONqzAvfPZumq",
        "colab_type": "code",
        "colab": {
          "base_uri": "https://localhost:8080/",
          "height": 459
        },
        "outputId": "ed3d022a-60b4-4be0-96ad-a24cc2018372"
      },
      "source": [
        "model = tf.keras.models.Sequential([\n",
        "  tf.keras.Input(shape=(1,), dtype=tf.string),\n",
        "  vectorize_layer,\n",
        "  tf.keras.layers.Embedding(vocabulary_size , 30),\n",
        "  tf.keras.layers.Flatten(),\n",
        "  tf.keras.layers.Dropout(0.1),\n",
        "  tf.keras.layers.Dense(100, activation='relu'),\n",
        "  tf.keras.layers.Dropout(0.1),\n",
        "  tf.keras.layers.Dense(20, activation='relu'),\n",
        "  tf.keras.layers.Dropout(0.1),\n",
        "  tf.keras.layers.Dense(4, activation='softmax'),\n",
        "])\n",
        "model.summary()"
      ],
      "execution_count": 49,
      "outputs": [
        {
          "output_type": "stream",
          "text": [
            "Model: \"sequential_11\"\n",
            "_________________________________________________________________\n",
            "Layer (type)                 Output Shape              Param #   \n",
            "=================================================================\n",
            "text_vectorization (TextVect (None, 500)               0         \n",
            "_________________________________________________________________\n",
            "embedding_11 (Embedding)     (None, 500, 30)           2999850   \n",
            "_________________________________________________________________\n",
            "flatten_9 (Flatten)          (None, 15000)             0         \n",
            "_________________________________________________________________\n",
            "dropout_15 (Dropout)         (None, 15000)             0         \n",
            "_________________________________________________________________\n",
            "dense_26 (Dense)             (None, 100)               1500100   \n",
            "_________________________________________________________________\n",
            "dropout_16 (Dropout)         (None, 100)               0         \n",
            "_________________________________________________________________\n",
            "dense_27 (Dense)             (None, 20)                2020      \n",
            "_________________________________________________________________\n",
            "dropout_17 (Dropout)         (None, 20)                0         \n",
            "_________________________________________________________________\n",
            "dense_28 (Dense)             (None, 4)                 84        \n",
            "=================================================================\n",
            "Total params: 4,502,054\n",
            "Trainable params: 4,502,054\n",
            "Non-trainable params: 0\n",
            "_________________________________________________________________\n"
          ],
          "name": "stdout"
        }
      ]
    },
    {
      "cell_type": "code",
      "metadata": {
        "id": "HVP-14EEUVH4",
        "colab_type": "code",
        "colab": {}
      },
      "source": [
        "model.compile(\n",
        "  optimizer=tf.keras.optimizers.RMSprop(0.01),\n",
        "  loss=tf.keras.losses.sparse_categorical_crossentropy,\n",
        "  metrics=['accuracy'],\n",
        ")"
      ],
      "execution_count": 51,
      "outputs": []
    },
    {
      "cell_type": "code",
      "metadata": {
        "id": "3zTM4X8tbaXT",
        "colab_type": "code",
        "colab": {
          "base_uri": "https://localhost:8080/",
          "height": 697
        },
        "outputId": "eca3c413-b9f3-4230-e6ef-0611fbae7087"
      },
      "source": [
        "history = model.fit(\n",
        "  trainig,\n",
        "  epochs=20,\n",
        "  validation_data=validation,\n",
        "  verbose=2\n",
        ")"
      ],
      "execution_count": 53,
      "outputs": [
        {
          "output_type": "stream",
          "text": [
            "Epoch 1/20\n",
            "200/200 - 7s - loss: 1.1455 - accuracy: 0.4592 - val_loss: 1.1346 - val_accuracy: 0.5369\n",
            "Epoch 2/20\n",
            "200/200 - 7s - loss: 0.9583 - accuracy: 0.6014 - val_loss: 1.0044 - val_accuracy: 0.5944\n",
            "Epoch 3/20\n",
            "200/200 - 7s - loss: 0.6537 - accuracy: 0.7378 - val_loss: 1.1176 - val_accuracy: 0.6225\n",
            "Epoch 4/20\n",
            "200/200 - 7s - loss: 0.4254 - accuracy: 0.8428 - val_loss: 1.2441 - val_accuracy: 0.6350\n",
            "Epoch 5/20\n",
            "200/200 - 7s - loss: 0.2966 - accuracy: 0.8995 - val_loss: 1.9880 - val_accuracy: 0.6619\n",
            "Epoch 6/20\n",
            "200/200 - 7s - loss: 0.1975 - accuracy: 0.9395 - val_loss: 2.4284 - val_accuracy: 0.6369\n",
            "Epoch 7/20\n",
            "200/200 - 7s - loss: 0.1449 - accuracy: 0.9642 - val_loss: 3.5696 - val_accuracy: 0.6519\n",
            "Epoch 8/20\n",
            "200/200 - 7s - loss: 0.1380 - accuracy: 0.9750 - val_loss: 4.9610 - val_accuracy: 0.6131\n",
            "Epoch 9/20\n",
            "200/200 - 7s - loss: 0.1036 - accuracy: 0.9761 - val_loss: 3.7841 - val_accuracy: 0.6481\n",
            "Epoch 10/20\n",
            "200/200 - 7s - loss: 0.1106 - accuracy: 0.9845 - val_loss: 7.2647 - val_accuracy: 0.6050\n",
            "Epoch 11/20\n",
            "200/200 - 7s - loss: 0.1020 - accuracy: 0.9847 - val_loss: 4.7177 - val_accuracy: 0.6162\n",
            "Epoch 12/20\n",
            "200/200 - 7s - loss: 0.1740 - accuracy: 0.9822 - val_loss: 5.0655 - val_accuracy: 0.6525\n",
            "Epoch 13/20\n",
            "200/200 - 7s - loss: 0.0942 - accuracy: 0.9911 - val_loss: 4.5179 - val_accuracy: 0.6594\n",
            "Epoch 14/20\n",
            "200/200 - 7s - loss: 0.1017 - accuracy: 0.9912 - val_loss: 7.3700 - val_accuracy: 0.6687\n",
            "Epoch 15/20\n",
            "200/200 - 7s - loss: 0.1020 - accuracy: 0.9927 - val_loss: 13.4400 - val_accuracy: 0.6406\n",
            "Epoch 16/20\n",
            "200/200 - 7s - loss: 0.0994 - accuracy: 0.9920 - val_loss: 10.2377 - val_accuracy: 0.6656\n",
            "Epoch 17/20\n",
            "200/200 - 7s - loss: 0.0560 - accuracy: 0.9925 - val_loss: 6.6904 - val_accuracy: 0.6625\n",
            "Epoch 18/20\n",
            "200/200 - 7s - loss: 0.0611 - accuracy: 0.9914 - val_loss: 6.6200 - val_accuracy: 0.6600\n",
            "Epoch 19/20\n",
            "200/200 - 7s - loss: 0.0746 - accuracy: 0.9927 - val_loss: 10.9954 - val_accuracy: 0.6506\n",
            "Epoch 20/20\n",
            "200/200 - 7s - loss: 0.1234 - accuracy: 0.9911 - val_loss: 10.8806 - val_accuracy: 0.6587\n"
          ],
          "name": "stdout"
        }
      ]
    },
    {
      "cell_type": "markdown",
      "metadata": {
        "id": "ZWs60cQbgSEF",
        "colab_type": "text"
      },
      "source": [
        "## Evaluate model"
      ]
    },
    {
      "cell_type": "code",
      "metadata": {
        "id": "rc7str51gY8e",
        "colab_type": "code",
        "colab": {
          "base_uri": "https://localhost:8080/",
          "height": 516
        },
        "outputId": "362d22ef-9109-46f5-99cc-e280e8a4abfe"
      },
      "source": [
        "history_df = pd.DataFrame(history.history)\n",
        "history_df[['loss', 'val_loss']].plot.line()\n",
        "history_df[['accuracy', 'val_accuracy']].plot.line()\n",
        "plt.show()"
      ],
      "execution_count": 54,
      "outputs": [
        {
          "output_type": "display_data",
          "data": {
            "image/png": "[encoded data removed]",
            "text/plain": [
              "<Figure size 432x288 with 1 Axes>"
            ]
          },
          "metadata": {
            "tags": [],
            "needs_background": "light"
          }
        },
        {
          "output_type": "display_data",
          "data": {
            "image/png": "[encoded data removed]",
            "text/plain": [
              "<Figure size 432x288 with 1 Axes>"
            ]
          },
          "metadata": {
            "tags": [],
            "needs_background": "light"
          }
        }
      ]
    },
    {
      "cell_type": "code",
      "metadata": {
        "id": "l3XWuw3IeRoH",
        "colab_type": "code",
        "colab": {
          "base_uri": "https://localhost:8080/",
          "height": 51
        },
        "outputId": "0c01f20b-7222-46db-cc9e-137bc3ae2183"
      },
      "source": [
        "model.evaluate(testing)"
      ],
      "execution_count": 43,
      "outputs": [
        {
          "output_type": "stream",
          "text": [
            "250/250 [==============================] - 4s 16ms/step - loss: 2.6842 - accuracy: 0.6325\n"
          ],
          "name": "stdout"
        },
        {
          "output_type": "execute_result",
          "data": {
            "text/plain": [
              "[2.684211015701294, 0.6324999928474426]"
            ]
          },
          "metadata": {
            "tags": []
          },
          "execution_count": 43
        }
      ]
    }
  ]
}