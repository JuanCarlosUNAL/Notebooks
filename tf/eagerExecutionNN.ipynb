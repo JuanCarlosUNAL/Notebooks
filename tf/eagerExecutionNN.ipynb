{
  "nbformat": 4,
  "nbformat_minor": 0,
  "metadata": {
    "colab": {
      "name": "eagerExecutionNN.ipynb",
      "provenance": [],
      "collapsed_sections": [],
      "authorship_tag": "ABX9TyMKdW8T+MfYsa1vXkJlwXPz",
      "include_colab_link": true
    },
    "kernelspec": {
      "name": "python3",
      "display_name": "Python 3"
    }
  },
  "cells": [
    {
      "cell_type": "markdown",
      "metadata": {
        "id": "view-in-github",
        "colab_type": "text"
      },
      "source": [
        "<a href=\"https://colab.research.google.com/github/JuanCarlosUNAL/Notebooks/blob/master/tf/eagerExecutionNN.ipynb\" target=\"_parent\"><img src=\"https://colab.research.google.com/assets/colab-badge.svg\" alt=\"Open In Colab\"/></a>"
      ]
    },
    {
      "cell_type": "markdown",
      "metadata": {
        "id": "NAtdZpmdiHWS"
      },
      "source": [
        "# Neural network with eager execution"
      ]
    },
    {
      "cell_type": "code",
      "metadata": {
        "id": "RYD9LDmNhZKI",
        "outputId": "9dfb47e7-7ec0-4052-d4dd-f0da629818b6",
        "colab": {
          "base_uri": "https://localhost:8080/"
        }
      },
      "source": [
        "import tensorflow as tf\n",
        "import numpy as np\n",
        "from matplotlib import pyplot as plt\n",
        "\n",
        "%matplotlib inline\n",
        "print(tf.executing_eagerly())"
      ],
      "execution_count": 1,
      "outputs": [
        {
          "output_type": "stream",
          "text": [
            "True\n"
          ],
          "name": "stdout"
        }
      ]
    },
    {
      "cell_type": "markdown",
      "metadata": {
        "id": "LEcHwkpAiBTn"
      },
      "source": [
        "## Configure Minst dataset"
      ]
    },
    {
      "cell_type": "code",
      "metadata": {
        "id": "pFRWisnLiXwJ",
        "outputId": "47706f85-3ef4-4254-d1a5-8227350834c7",
        "colab": {
          "base_uri": "https://localhost:8080/",
          "height": 284
        }
      },
      "source": [
        "dataset = tf.keras.datasets.mnist\n",
        "(x_train, y_train), (x_test, y_test) = dataset.load_data()\n",
        "x_train, x_test = x_train.reshape(-1, 28*28), x_test.reshape(-1, 28*28)\n",
        "y_train, y_test = tf.keras.utils.to_categorical(y_train), tf.keras.utils.to_categorical(y_test)\n",
        "y_train, y_test = y_train.reshape(-1, 10), y_test.reshape(-1, 10)\n",
        "y_train, y_test = y_train/255, y_test/255\n",
        "y_train, y_test = tf.constant(y_train), tf.constant(y_test)\n",
        "\n",
        "plt.imshow(x_train[5].reshape(28, 28))\n",
        "plt.axis('off')\n",
        "plt.show()"
      ],
      "execution_count": 2,
      "outputs": [
        {
          "output_type": "stream",
          "text": [
            "Downloading data from https://storage.googleapis.com/tensorflow/tf-keras-datasets/mnist.npz\n",
            "11493376/11490434 [==============================] - 0s 0us/step\n"
          ],
          "name": "stdout"
        },
        {
          "output_type": "display_data",
          "data": {
            "image/png": "[encoded data removed]",
            "text/plain": [
              "<Figure size 432x288 with 1 Axes>"
            ]
          },
          "metadata": {
            "tags": [],
            "needs_background": "light"
          }
        }
      ]
    },
    {
      "cell_type": "code",
      "metadata": {
        "id": "DejlGjWy_L7A"
      },
      "source": [
        "x_batch, y_batch = x_train[:1000], y_train[:1000]"
      ],
      "execution_count": 3,
      "outputs": []
    },
    {
      "cell_type": "markdown",
      "metadata": {
        "id": "9KNuo8y5oAGd"
      },
      "source": [
        "## Logistic regresion"
      ]
    },
    {
      "cell_type": "code",
      "metadata": {
        "id": "Sx5QYLHnn_Cd"
      },
      "source": [
        "input = 28 * 28\n",
        "output = 10\n",
        "w = tf.Variable(tf.random.normal((input, output), stddev=1e-4))\n",
        "b = tf.Variable(tf.zeros(output, 1))"
      ],
      "execution_count": 4,
      "outputs": []
    },
    {
      "cell_type": "code",
      "metadata": {
        "id": "aw-LklPZ3Xjy",
        "outputId": "fe4bbcee-ee9b-4ec8-f72e-5cb4687a1a37",
        "colab": {
          "base_uri": "https://localhost:8080/"
        }
      },
      "source": [
        "lr = 1e-2\n",
        "loss_history = []\n",
        "for _ in range(400):\n",
        "  with tf.GradientTape(persistent=True) as tape:\n",
        "    z = x_batch @ w + b\n",
        "    a = tf.nn.sigmoid(z)\n",
        "\n",
        "    loss = tf.math.reduce_mean(tf.losses.categorical_crossentropy(y_batch, a));\n",
        "  loss_history.append(loss)\n",
        "\n",
        "  dw = tape.gradient(loss, w)\n",
        "  db = tape.gradient(loss, b)\n",
        "\n",
        "  w.assign(w - lr * dw)\n",
        "  b.assign(b - lr * db)\n",
        "\n",
        "print(f'''\n",
        "  loss: {loss:.6}\n",
        "  expected: {y_batch[100].numpy().argmax()}\n",
        "  result: {a[100].numpy().argmax()}\n",
        "''')"
      ],
      "execution_count": 5,
      "outputs": [
        {
          "output_type": "stream",
          "text": [
            "\n",
            "  loss: 9.69532e-05\n",
            "  expected: 5\n",
            "  result: 5\n",
            "\n"
          ],
          "name": "stdout"
        }
      ]
    },
    {
      "cell_type": "code",
      "metadata": {
        "id": "rjtAuRt9q_55",
        "outputId": "4cc55625-7984-4aa3-d648-af183fe30dd8",
        "colab": {
          "base_uri": "https://localhost:8080/",
          "height": 295
        }
      },
      "source": [
        "plt.plot(loss_history)\n",
        "plt.title('Error history')\n",
        "plt.xlabel('Step')\n",
        "plt.ylabel('Error')\n",
        "plt.show()"
      ],
      "execution_count": 6,
      "outputs": [
        {
          "output_type": "display_data",
          "data": {
            "image/png": "[encoded data removed]",
            "text/plain": [
              "<Figure size 432x288 with 1 Axes>"
            ]
          },
          "metadata": {
            "tags": [],
            "needs_background": "light"
          }
        }
      ]
    },
    {
      "cell_type": "code",
      "metadata": {
        "id": "tqBzAW5lNlj5",
        "outputId": "0b64660b-6ef9-47b9-d655-e832e1fc9266",
        "colab": {
          "base_uri": "https://localhost:8080/"
        }
      },
      "source": [
        "results = a.numpy().argmax(axis=1)\n",
        "expect = y_batch.numpy().argmax(axis=1)\n",
        "\n",
        "acc = (expect == results).astype(np.int16).sum() / 10\n",
        "print(f'accuracy is {acc}%')"
      ],
      "execution_count": 7,
      "outputs": [
        {
          "output_type": "stream",
          "text": [
            "accuracy is 100.0%\n"
          ],
          "name": "stdout"
        }
      ]
    },
    {
      "cell_type": "markdown",
      "metadata": {
        "id": "KmzTQ0iMiQub"
      },
      "source": [
        "## Implement NN"
      ]
    },
    {
      "cell_type": "code",
      "metadata": {
        "id": "fwL3reTGh0Ay"
      },
      "source": [
        "layer_config = [28*28, 100, 30, 10]\n",
        "W = [ tf.Variable(tf.random.normal(shape=(y,x), stddev=1e-5)) for x, y in zip(layer_config[1:], layer_config[:-1])]\n",
        "B = [ tf.Variable(tf.zeros((x,))) for x in layer_config[1:]]\n",
        "loss_history = []"
      ],
      "execution_count": 53,
      "outputs": []
    },
    {
      "cell_type": "code",
      "metadata": {
        "id": "bh07-ks3fA-k"
      },
      "source": [
        "opt = tf.optimizers.Adam()"
      ],
      "execution_count": 45,
      "outputs": []
    },
    {
      "cell_type": "code",
      "metadata": {
        "id": "rJVoWo1fNuxN",
        "outputId": "5a749e5b-52b1-4fb5-e4b1-846fe14b5f24",
        "colab": {
          "base_uri": "https://localhost:8080/"
        }
      },
      "source": [
        "for _ in range(500):\n",
        "  a = x_batch\n",
        "  with tf.GradientTape(persistent=True) as tape:\n",
        "    for w, b in zip(W, B):\n",
        "      z = a @ w + b\n",
        "      a = tf.nn.sigmoid(z)\n",
        "    loss = tf.losses.categorical_crossentropy(y_batch, a)\n",
        "    loss = tf.math.reduce_mean(loss)\n",
        "  loss_history.append(loss)\n",
        "\n",
        "  dW = tape.gradient(loss, W)\n",
        "  dB = tape.gradient(loss, B)\n",
        "\n",
        "  opt.apply_gradients(zip([*dW, *dB], [*W, *B]))\n",
        "\n",
        "print(f'''\n",
        "  loss: {loss:.6}\n",
        "  expected: {y_batch[100].numpy().argmax()}\n",
        "  result: {a[100].numpy().argmax()}\n",
        "''')"
      ],
      "execution_count": 60,
      "outputs": [
        {
          "output_type": "stream",
          "text": [
            "\n",
            "  loss: 0.00019588\n",
            "  expected: 5\n",
            "  result: 5\n",
            "\n"
          ],
          "name": "stdout"
        }
      ]
    },
    {
      "cell_type": "code",
      "metadata": {
        "id": "Qd1nwT49lC8D",
        "outputId": "21a4c3ab-d15a-426c-bc4e-6dc9fc1c4843",
        "colab": {
          "base_uri": "https://localhost:8080/",
          "height": 295
        }
      },
      "source": [
        "plt.plot(loss_history)\n",
        "plt.title('Error history')\n",
        "plt.xlabel('Step')\n",
        "plt.ylabel('Error')\n",
        "plt.show()"
      ],
      "execution_count": 61,
      "outputs": [
        {
          "output_type": "display_data",
          "data": {
            "image/png": "[encoded data removed]",
            "text/plain": [
              "<Figure size 432x288 with 1 Axes>"
            ]
          },
          "metadata": {
            "tags": [],
            "needs_background": "light"
          }
        }
      ]
    },
    {
      "cell_type": "code",
      "metadata": {
        "id": "SjM4pIpS2QpX",
        "outputId": "74bcd3fb-420e-4326-c3d9-a0fe55366f39",
        "colab": {
          "base_uri": "https://localhost:8080/"
        }
      },
      "source": [
        "results = a.numpy().argmax(axis=1)\n",
        "expect = y_batch.numpy().argmax(axis=1)\n",
        "\n",
        "acc = (expect == results).astype(np.int16).sum() / 10\n",
        "print(f'accuracy is {acc}%')"
      ],
      "execution_count": 62,
      "outputs": [
        {
          "output_type": "stream",
          "text": [
            "accuracy is 99.2%\n"
          ],
          "name": "stdout"
        }
      ]
    }
  ]
}