{
 "cells": [
  {
   "cell_type": "markdown",
   "metadata": {},
   "source": [
    "## Con xpdf_python"
   ]
  },
  {
   "cell_type": "code",
   "execution_count": 15,
   "metadata": {},
   "outputs": [
    {
     "output_type": "execute_result",
     "data": {
      "text/plain": " 4 2.01s\\n\\nCorpoguoiiro\\n\\njurisprudencia colombiana. cLAusuLA vtGEstMA SEGUNDA - soluc¡óx DE coNTRovERStAS. Las\\n\\ncontroversias o diferencias que surjan entre firma, ejecución, interpretación, prórroga o\\n\\ne[ Contratista y LA CORPOUCIóH terminación de[ Contrato, así como\\n\\ncon ocasión de [a de cualquier otro\\n\\nasunto retacionado con et presente Contrato, serán sometidás a la revisión de tas partes para buscar\\n\\nun arregto directo, en un término no mayor a cinco (5) días hábites a partir de la fecha en gue\\n\\ncuatquiera de (as partes comunique por escrito a la otra parte la existencia de una diferencia y ta\\n\\nexptique someramente. Las controversias que no puedan ser resueltas de formá directa entre tas\\n\\npartes, se resolverán empleado una o varias de las siguientes opciones: Amigable composición:\\n\\nCuando la controversia se retacione con asuntos técnicos, puede someterse a un procedimiento de\\n\\namigabte composición que se surtirá, previa soticitud de arregto directo. Et amigable componedor\\n\\nserá una (1) sota persona, que debe tener una formación profésional en el mane-¡o de los áspectos\\n\\ntécnicos det objeto del presente contrato y que tomará una decisión finat en equidad, utitizando\\n\\nprincipalmente su formación profesionat. Conciliación: Cuando ta controversia no pueda arregtarse\\n\\nde manera directa o no pueda existir una amigabte composición debe someterse a un procedimiento\\n\\nconciliatorio que se surtirá ante un centro de conciliación, previa solicitud de concitiación etevada individual o conjuntamente por tas Partes. Si en et término de ocho (8) días hábites a partir det inicio det trámite de ta conciliación, e[ cual se entenderá a partir de ta fecha de ta primera citación\\n\\na las Partes que haga e[ centro de conciliación, las Partes no ttegan a un acuerdo para resolver sus\\n\\ndiferencias, deben acudir a ta jurisdicción contencioso administrativa. E[ acuerdo at que se ltegue\\n\\nen [a etapa de arregto directo, amigabte composición,\\nsentencia es de obligatorio cumptimiento para las\\n\\nepnarltaescoyncpitiraecsiótannsmi héaryitotugeajer cauetitvtao.y\\n\\nta En\\n\\n- consecuencia, cualquiera de las Partes puede exigir su cumplimiento en un proceso ejecutivo.\\nCLAUSULA VIGESIMA TERCERA NOTIFICACIONES. Los avisos, solicitudes, comunicaciones y\\n\\nnotificaciones que las Partes deban hacer en desarrolto del presente Contrato deben constar por\\n\\nescrito y se entenderán debidamente efectuadas sóto si son entregadas personatmente o por correo\\netectrónico a ta persona y a las direcciones indicadas a continuación: Et Contratante ósea La\\nCorporación autónoma regionat de ta Guajira - Corpoguajira, podrá ser notificado en [a Carrera 7\\n\\nNo. 12\\'15 en Riohacha. Tel: (517275125. Correo electrónico: oficinajuridica@corpoguajira.gov.co\\n\\ny EL CONTRATISTA en ta Carrera 19 No. 28 - 05 en Sincelejo (Sucre), Tetéfono: 3188280003, Correo\\n\\netectrónico: pozos20J8@emait.com CLAUSULA VIGESIMA CUARTA - sUPERvtstoN: La supervisión\\n\\nde [a ejecución y cumptimiento de[ presente Contrato está a cargo det funcionario que designe et\\nDirector General de 1-A CORPOMCION mediante escrito. CLAUSULA VIGESIMA QUINTA -\\n\\nINTERVENTORIA: La interventoría det presente Contrato estará a cargo de quien resulte ganador\\n\\nde[ Concurso de Méritos respectivo. CLAUSULA VlcEslMA sExTA - ANExos DEL coNTMTo. Los siguientes documentos hacen parte integrat det presente contrato: 1) Estudios y documentos\\n\\nprevios. 2) Los Ptiegos de condiciones de la licitación púbtica No. LP 001-2018, sus anexos, adendas\\ny cuatquier otro documento. 3) Anexo de las especificaciones técnicas del proyecto. 4) La\\n\\npropuesta presentada por et CONTMTISTA. CLAUSULA VIGESIMA SEPTll,lA - PERFECCIONAM¡ENTO\\n\\nY EJECUCION. Et presente Contrato requiere para su perfeccionamiento ta firma de las partes.\\n\\nPara su ejecución, la acreditación de encontrarse et Contratista a paz y salvo por concepto de\\naportes a[ sistema de seguridad social integral, ta expedición det registro presupuestat y la\\n\\naprobación de ta garantía de que trata ta cláusuta 16 det presente Contrato. CLAUSULA VIGESIMA\\n\\nOCTAVA - DISPONIBILIDAD PRESUPUESTAL. CORPOGUAJIM pagará a EL CONTRATISTA et vator del\\n\\npresente contrato con cargo a[ Certificado de Disponibitidad Presupuestal No. 725, expedido e[ 31\\n- y de octubre de 2017, por valor de 52.206.943.391, expedido por e[ Coordinador de Gestión\\nFinanciera de Corpoguajira. CLAUSULA VlcEslMA NovENA REG|STRo APRoptActoNEs\\n\\nPRESUPUESTALES. E[ presente Contrato está sujeto a registro presupuestat y et pago de su valor a\\n\\nlas apropiaciones presupuestates correspondientes. CLAUSULA TRIGESIMA - CONF¡DENCIALIDAD.\\n\\nEn caso que exista información sujeta a atguna reserya tegat, las partes deben mantener [a\\n\\nconfidenciatidad de esta información. Para e[[o, debe comunicar a [a otra parte que ta información\\nsuministrada tiene el carácter de confidenciat. CLAUSULA TRIGESIMA PRIMERA - LIQU|DAC|ON.\\n\\nPosterior a [a suscripción del Acta de Recibo Finat, las partes deben tiquidar e[ Contrato. En caso\\n\\nque e[ Contratista se oponga o no exista un Acta de Recibo Finat, et Contratante puede tiquidar unilateratmente et presente Contrato. CúÜSULI TRIGESIMA SEGUNDA - LUGAR DE EJECUC¡ON y\\n\\nDOMICILIO CONTMCTUAL. Las actividades previstas en e[ presente Contrato se desarrotlaran\\nOSSL en tos sitios descritos en e[ proyecto. Et domicitio contractuat es et Distrit\"\\niiff:¿fj::rente\\n\\ne rso ¡001\\n\\n1v1 t{lc0Pi I 000\\n\\nCr.. 7 No. 12-15 Tofólono¡: 1317282672 I 7215125 I 7286178\\nTelela* (5) 72746É-7\\nwww.corpoguaJlra.gov.co\\nLaboratorlo: {5} 7285052 Fon¡eca: Telófono¡: (5) 7756500 Llne¡ de atenclón grütulte: 018000954321\\nRlohrcha - Golombia\\n\\n\\x0c48 CONTRATO DE OBRA PÚBLrcA UO. O{l\\n\\n2.018\\n\\nq 20lg En .seña[\\nRiohacha,\\n\\nde aceptación de\\n[aGuajira, atos\\n\\ntodo\\n\\nto\\n\\nestiputado las\\n\\npartes\\n\\nsuscriben\\n\\ne--[\\n\\nprrr-e-sYe\\'n|rt\\'e! dYiocumento\\n\\nen\\n\\n0 HAR\\n\\nEL CONÍMTISTA\\n\\nC.C. No. 8\\'284.762 de Medettín (Antioquia) R.L. CONSORCTO POZOS 2018 Contratista\\n\\nPrWtó: Ronald\\nKeaEo y aproDó:\\n\\nAilcmll/.Anbbogpradboóna/xJtcefrenoo/OfidflnclanafscAssocsoorlauJduOrtíc{ialc$t\\n\\nI\\n\\n¿\\n\\n\\x0c8 CONTRATO DE OBRA PÚBLrcA NO. (} (} 4 2.018\\n\\nCorpoguoiiro\\nCONTRATO DE OBM:\\nCONTMTISTA: NIT. NO. REPRESENTANTE LEGAL: C.C. No. DIRECCION:\\nTELEFONO: VALOR:\\nPIáZO:\\n\\nANEXO No. I\\nNo.\\n\"IMPLEMENTACION DE ACCIM\\nADAPTACóN AL CAA/IBIO CLMATICO ANTE SEQUIAS EN\\nCOMUNIDADES ]NDIGENAS DE LOS MUNICIPIOS DE RIOHACHA Y\\nAAAICAO, LA GUAJIM coNsoRcto Pozos 2018 901.161142-6\\nRODOLFO GARCiA FERNANDEZ\\n8\\'284.762 de Medetlín, Antioquia Carrera 19 No. 28 - 05 en Sinceteio (Sucre) 3f 88280@3\\nY Y DOs MIL DOSCIENTOS DOS MILLONES OCHOCIENTOS SESEÑil\\nSIETE MIL SETECIENTOS CUARENTA SIETE PESOS\\n(52.202.867 .7 47,001 M/1, inctuido lVA. sErs (ó) MEsEs\\n\\ne Fn\\n\\nÉ0 e00l\\n\\nntcoPi\\n- 1000\\n\\nITEM\\nt\\n\\nDESCRIPCION\\n\\nUNIDAD CANT PERMISOS AMBIENTAIES\\n\\nPREC¡O UNIT\\n\\n1.1 Prospección y Exploración de Agua Subterránea\\n\\nUN\\n\\n1.2 Concesión de Aguas Subterráneas\\n\\nUN\\n\\n6\\n\\ns 1.671.526.67\\n\\n6\\n\\n5 t.5Lt.842,22\\n\\nSUBTOTAI PERM¡SOS AMBIENTATES\\n2 p¡nroRrc¡ón DE pozos pRoFUNDIDAD 1so Mr\\n2.1 Traslado e instalación del equipo de\\nperforación con sus accesorios, montaje,\\n\\ndesmontaje, limpieza del lugar y construcción\\n\\nde piscina.\\n\\nUN\\n\\n6\\n\\ns 1.897.199,93\\n\\n2.2 Perforación de prueba en un diámetro de 8\\n\\n1/2\" incluye brocas, lodos, análisis de muestra,\\n\\nviscosidad, densidad y elaboración de columna\\n\\nlitológica\\n\\nML\\n\\n910 5\\n\\n229.669,22\\n\\n2.3 Toma de registro geoffsico (Resistividad - sp -\\n\\nrayos gamma) UN\\n\\n2.4 Diseño del Pozo\\n\\nUN\\n\\n6\\n\\ns 4.594.252.94\\n\\n6\\n\\ns\\n\\n999.526,67\\n\\n2.5 Ampliación de la perforación a un diámetro de\\nL2 ll4\" incluye brocas y lodos de perforación de00-12m\\nML\\n\\ns 910\\n\\nt66.t34,22\\n\\n2.6 Tuberfa acampanada en PVC, RDE 21 en 6\"\\n\\nLONG. 3, incluye tubería, pegante, tornillos y\\n\\nsoldadura\\n\\nML\\n\\ns 637\\n\\n208.2s3,21\\n\\n2.7 Filtro acampanado en PVC, RDE 21 en 6\" LONG.\\n3m, ranuradas a 0,25 (l/4)incluye tuberla,\\n\\ntornillos y soldadura\\n\\nML\\n\\n2.8 Adecuación e instalación de tuberías, filtros,\\n\\nincluye, pegantes, tornillos, soldadura,\\n\\ninstalación empaque de gravilla, colador de\\n\\n5 273\\n\\n249.t06,73\\n\\nmaterial y estabilizador\\n\\nML\\n2.9 Gravilla seleccionada tamaño entre 1.5 y 5.0\\n\\ns 910\\n\\n78.880,00\\n\\nmm libre de calcáreos. Contenido mayor 90%\\n\\nsílice\\n\\nM3\\n\\ns 45.5\\n\\n86s.148.22\\n\\n2.10 Limpieza y desarrollo del pozo con compresor mínimo de 72 horas hasta quedar libres de\\n\\npartículas de arenas y restos de perforación\\n\\nUN\\n\\n6\\n\\ns 7.680.293,74\\n\\nVAIOR TOTAT\\ns 10.029.160,00 s 9.071,0s3,00 $ l9.1oo;2l3,oo\\ns u.383.200.00 s 208.998.990.00 s 27.565,518,00 s s.997.160,00\\ns 151.182.140,00\\ns 132.657.295.00 s 68.006.137,00\\ns 71.780.800,00\\nS 39.364.244,00\\n\\\\s s 46.081.762.00\\n\\nGra. ? llo. 12-16 Trlófono¡¡ (5) ?2828?2 t 72?612a I ?288llA\\nTrlrf¡x¡ l3l727eenZ wsrw.corpoglalln. gw.co Lrbor¡torlo: lt) 7285052\\nFon¡cca: T?lófono¡¡ (5) ?7¡8500\\nLln¡r dr rtrnclón gfrtultrr 0lü000054321\\nRlohrche - Golomblr\\n\\n\\x0ccoNTRATo DE oBRA púgucR ru0. 0049 2.018\\n\\n2.77 Prueba de bombeo a caudal constante con compresor durante doce (12) horas con recuperación, incluye análisis de la prueba\\nfísico - química del agua\\n\\nUN\\n2.L2 Instalación de sellos sanitarios, informe finail\\n\\nbase del pozo\\n\\nML\\n\\n6\\n\\n5 4.690.908,89\\n\\n60\\n\\ns\\n\\n119.879,99\\n\\nSUBTOTAT POZOS PROFUNDOS 150 METROS\\n\\n3 SISTEMAS FOTOVOTTAICOS Y BOMBAS SUMEF IGIBLES\\n\\n3,1 Bomba Solar PS 1800, 8 paneles de 245W,\\n\\nincluye sensor para tanque , sensor para pozo y\\n\\ncontrolador de bomba\\nUN\\n\\n3.2 Soporte para bomba UN\\n\\n3.3 Estructura para 8 paneles incluye instalación y\\n\\nobra civil\\n\\nUN\\n\\n3.4 Cable encauchetado para bomba Elementos\\n\\nedléectrcicaobelehidernácualichoucdheectoandeoxipóna; r7a0\\n\\nmetros bomba\\n\\nsumergible, 70 metros de cable para sensor de\\n\\npozo; 50 metros de cable para sensor de\\n\\ntanque.\\n\\nUN\\n3.5 Instalac¡ón y montaje delsistema fotovoltaico y la bomba sumergible, incluye transporte\\n\\n6\\n\\ns 3s.s93.940,94\\n\\n6\\n\\n5\\n\\n204.366,61\\n\\n6\\n\\n5 2.88s.919,80\\n\\n2.126-957,23\\n\\ns 28.14s.453,00 s 7.192.799,00\\ns 798.355.498.00\\ns 213.563.646.00\\n5 1.226.200,00\\ns 17.315.519.00\\n72.76t.743,00\\n\\nUN\\n\\n6\\n\\n5 5 8.798.399.48\\n\\n52.790,397,00\\n\\nSUBTOTAT SISTEMAS FOTOVOLTAICOS Y BOMBAS SUMERGIBTES\\n\\ns 297.657.505,00\\n\\n4 CONSTRUCCION DE TANQUES ETEVADOS ALTURA DE 6.0 MTS\\n\\n4.1 Trazado Sobre Terreno\\n\\ns M2 | L26,96\\n\\ns 5.312,05\\n\\n674.419,00\\n\\n4.2 Excavación a cielo abierto\\n\\nM3\\n\\n4.3 Cimentación tipo solado en concreto de\\n\\nresistencia 2000 Psi\\n\\nM3\\n\\n4.4 | Cimentac¡ón tipo ¿apatas, concreto de\\n\\nI Resistenc¡a 3000 psi\\n\\nM3\\n\\nS 60,78\\n5\\n2,34\\ns\\n10,8\\n\\n36.1so,2sJS 2.ts7.zr2,oo\\n\\n5 574.997,36\\n\\nr.a¿s.¿g¿,oo\\n\\nS 839.744,49\\n\\n9.069.240.00\\n\\n4.5 Cimentación Tipo Viga De Amarre, Concréto de\\nresistencia 3000 Psi M3\\n4.6 rruEnldLtun upo peoeslates, en Concreto de\\nresistenc¡a 3000 Psi M3\\n\\ns\\n6,36\\ns\\n3,6\\n\\ns 959.652,00 s 9s9.6s2,00\\n\\n6.103.387,00 3.454.747,00\\n\\n4.7 Columna en concreto de resistencia 3000 psi\\n\\nM3\\n\\n5 s rt,46\\n\\nt.otz.zts,at\\n\\n12.288.293,00\\n\\n4.8 Viga aérea, en concreto de resistencia 3OOO ps¡ M3\\n\\n5\\n17,64\\n\\ns 998.294,95\\n\\n17.609.923.00\\n\\n4.9 Placa maciza en concreto impermeabiliza¿o ¿e\\n\\nresistencia 3000 Psi M3\\n4.10 Acero de refuerzo de resistenciaGóoooTliI-K-TG-l\\n4.11 sum¡nistro e instalación tanque prefabricado\\n\\ns\\n72,9\\n5 11.880\\n\\nS 1.134.114,31\\n\\nr4.63o.o7s,oo\\n\\n5 3.683,7s\\n\\n43.762.950.00\\n\\nen polietileno reforzado con fibra de vidrio de\\n\\ncapacidad 15000 lts UN\\n4.t2 Escalera exterior en tubo galvanizado con base\\n\\n6\\n\\ns 5 6.678.661,79\\n\\n40.071.971,00\\n\\npintura en esmalte, incluye guarda hombre\\n\\nS 3.s55.s99,¿o\\n\\nUN\\n4.13 Suministro e instalación tubería Oe acr¡e*¡cto\\nPVC RDE 2!, con diámetro de 3\\',, incluye\\nprotección anti rayos ultravioletas del sol\\n\\no\\n\\n5 21.333.s96.00\\n\\nS\\n\\nso.s¿a,oo\\n\\nML\\n\\n61,8\\n\\ns 3.123.866.00\\n\\n\\x0c@\\n\\n8 CONTRATO DE OBRA PÚBLrcA NO. (} (} 4 2.018\\n\\nCorpoguoiiro\\n4.14\\n\\nSuministro e instalación tuberla de acueducto\\nen PVC RDE 21, con un diámetro de 2\", incluye\\ninterconexión bomba a tanque y protección\\nant¡ rayos ultravioletas del sol\\n\\nML\\n4.15 Suministro e instalación de codo en PVC RDE 21\\ncon diámetro de 3\", ángulo de 90e, ¡ncluye protección anti rayos ultravioletas del sol\\n\\ns\\n121.8\\ns\\n\\n30.973,00\\nS 3.772.s11,00\\n62.030,31\\n\\nUN\\n4.15 Suministro e instalac¡ón de codo en PVC RDE 21\\ncon diámetro de 2\", ángulo de 909 , incluye\\nprotección anti rayos ultravioletas del sol\\n\\nt2\\nS\\n\\nS\\n17.o2o,oo\\n\\n7¡14.364,00\\n\\nUN\\n\\n12\\n\\ns\\n\\n204.240.00\\n\\n4.t7 Suministro e instalación de sistema para válvula\\n\\nen red (válvula de compuerta), para tubería de\\n\\nPVC, diámetro de 3\"\\n\\nUN\\n\\n4.18 Retiro y disposición de material sobrante\\n\\nM3\\n\\n5\\n6\\n58,8 5\\n\\n624.669,99\\ns\\nS 28.057,79\\n\\n3.748.020.00 1.649.798,00\\n\\nSUBTOTAI CONSTRUCCION DE TANQUES ETEVADOS DE ATTURA 6.0 MTS\\n\\ns 185.784.106,00\\n\\n5 coNDUCCTONES DE TANQUES A PUNTOS DE DISTRIBUCION\\n\\n5.1 Localización y replanteo\\n\\nML\\n\\ns 900\\n\\n5.2 Desmonte y limpieza manual\\n\\nML\\n\\n900 s\\n\\n5.3 Excavación manualen material común seco 5.4 Relleno con material de excavación\\n\\nM3\\n\\n216 5\\n\\nM3 2t6 s\\n\\ns 3.714,36\\nS 805,86\\ns 29.939,12 s 12.641,15\\n\\n3.342.924,00 725.274,00\\n6.456.850,00 2.730.488,00\\n\\n5.5 Sumin¡stro e instalación de tubería PVC Presión\\n\\nE.L. RDE 2lD=2\"\\n\\nML\\n\\nS\\n624\\n\\ns go.gzs,oo\\n\\n19.327.1s2,00\\n\\n5.6 Sum¡nistro e instalación de tubería PVC Presión\\n\\nE.L. RDE 21 D=1\"\\n\\nMt\\n\\n5.7 Suministro e instalación de tubería PVC\\n\\nPresión E.L. RDE 2lD=314\".\\n\\nML\\n\\n5.8 Sum¡nistro e instalación de tubería PVC\\n\\nPresión E.L. RDE 13.5 D=U2\".\\n\\nML\\n\\ns\\n90\\ns\\n120\\n5\\n180\\n\\n5 11.298,88\\ns 8.207,80\\n5 7.074,80\\n\\n5.9 Sum¡n¡stro e instalación de válvula Red White\\n\\n1u\\n\\nUN\\n\\n6\\n\\ns\\n\\ns 171.819,98\\n\\n5.10 Suminlstro e instalación caja de reg¡stro de 0.40\\n\\nx 0.40 (Dimens¡ones internas)\\n\\nUN\\n\\n6\\n\\ns\\n\\ns 417.270,62\\n\\n5.11 Sum¡n¡stro e ¡nstalación de puntos hidráulicos UN\\n\\n30\\n\\n5\\n\\ns 153.620,24\\n\\n5.12 Suministro, transporte e instalación de válvula\\n\\nde gfobo de Ll2\"\\n\\nUN\\n\\ns\\n30\\n\\ns 47.383,00\\n\\n5.13 Levante muro en bloque, e=0,12 mts\\n\\nM2\\n\\ns 72,72\\n\\ns 37.14s,s0\\n\\n5.14 Acero de refueno de resistenc¡a 60000 Psi\\n\\nKG\\n\\nS 322,44\\n\\ns s.ees,zs\\n\\n5.15 Placa de piso en concreto fc= 3000 psi\\n\\nM3\\n\\ns s 2,46\\n\\n9ss.143,01\\n\\n5.16 Solado en concreto simple f\\'c=2000 psi\\n\\nM3\\n\\ns s 0,9\\n\\ns78.s66,94\\n\\n5.t7 Pañete mortero impermeabilizado, proporción de la mezcla 1:4\\n\\nM2\\n\\ns\\n80,11\\n\\ns 29.033,23\\n\\n5.18 Pañete de mortero 1:3\\n\\nM2\\n\\ns 62,64\\n\\ns 23.603,20\\n\\ns SUBTOTAL CONDUCCIONES DE TANQUES A PUNTOS DE DISTRIBUCION\\n\\n1.016.899,00\\n984.936,00\\nL.273.464,00\\n1.030.920,00\\n2.s03.624,00\\n4.608.607,00\\n1.421.490,00 2.701.221,00 1.187.788,00 2.349.652,00\\n520.710,00\\n2.325.852,00 1.478.504,00 55.996.355,00\\n\\n6 FIITROS TRATAMIENTO DE AGUA\\n\\n6.1 Solado en concreto simple fc=2000 psi\\n\\nM3\\n\\n6.2 Placa de p¡so en concreto fc=21 MPa (3000 psi)\\n\\nM3\\n\\ns 1,80\\n6.06 5\\n\\ns s78.s66,94 s 955.143,01\\n\\n1.041.420,00\\n\\'R\\n5.788.167,00\\n\\nÉÉffi\\n\\nGra. 7 No. 12-15\\nTclólonor: (31 7282672 I 727 5123 I 7286778 Telefax: 16l?274647\\nwww.corPoguallrt.goY.co Laboratorio¡ (5) 7285052 Fonseca: lelófono¡¡ (5) 7750500 Llnea de atcnclón gratultar 018000954321\\nRtoh.chr \\' Golombl¡\\n\\n\\x0cCoNTRATO DE OBRA pÚst¡CA l.to. 0 0 46 2.01s\\n\\n5.3 Cerram¡ento en Malla Eslabonada cal. 12\\n\\n(incluye: Portón, muro en bloque, zarpa en\\n\\nconcreto ciclópeo, viga cimentac¡ón, columnas\\n\\ncortas, malla, mortero f\\'rjación malla, tubos\\ngafvanizados 2\", concertina, soldadura y\\npintura), H=2,50 mts, ML\\n\\n6.4 Estación de agua en estructura metálica con\\nrecubrimiento en Bodychut, incluye dos tanques plásticos de 2 m3 cada uno y\\n\\nelementos de conexiones hidráulicas UN\\n\\n5.5 Sumin¡stro, transporte e instalación de Filtro\\n\\nTipo Skyhidrant MAX\\n\\nUN\\n\\n76,80\\n\\n404.898.49\\n\\n6 s 5.424.t92,tt\\n\\n6\\n\\ns 12.306.099,87\\n\\nSUBTOTAL FILTROS TRATAMIENTO DE AGUA\\n\\n7 SISTEMA DE RIEGO POR GOTEO\\n7.t Adaptador hembra PVC presión 2\" 7.2 Filtro de discos de 2\" 7.3 Collar derivación sencillo 7.4 Válvula ventosa acuametal de 1\" 7.5 Tee PVC presión de 1\" 7.6 Tubería PVC riego de 2\" 80 pSl x 6 ml 7.7 Empaque tanque de 2\" 7.8 Adaptador macho PVC presión 2\" 7.9 Codo PVC presión de 2\" 7.to Universal PVC presión de 2\" 7.L7 Válvula bola PVC presión de 2\" 7.t2 Tubería PVC presión RDE 21 de 2\" x 6 ml 7.r3 Conector Silleta 16 MM 7.L4 Silleta Para conector 16 MM 7.75 Terminal riego 16 MM 7,L6 Línea de goteo 16 MM 40\\n\\nUN\\n\\n5 18\\n\\nú.sza,st\\n\\nUN\\n\\no\\n\\ns\\n\\n247.728,s5\\n\\nUN\\n\\nS 18\\n\\nL9.732,3s\\n\\nUN\\n\\n5 18\\n\\nso.726,zz\\n\\nUN\\n\\nS 18\\n\\ns.rag,rr\\n\\nML\\n\\n6t2 S\\n\\n18.266.35\\n\\nUN\\n\\n6s\\n\\n5.61s.13\\n\\nUN\\n\\n18 s\\n\\n10.513,30\\n\\nUN\\n\\n90 s\\n\\n2l.t24,4r\\n\\nUN\\n\\n18 s\\n\\n69.880.76\\n\\nUN\\n\\n18 s\\n\\n37.377,39\\n\\nML\\n\\n72 S\\n\\n19.76s.00\\n\\nUN\\n\\ns 600\\n\\n2.986,04\\n\\nUN\\n\\n600 5\\n\\n2.998.73\\n\\nUN\\n\\n600 5\\n\\nS ML 30000\\n\\n2.764,29\\nr.szz,rs\\n\\n8 PARCELAAGRICOTA\\n\\nSUBTOTAI SISTEMA DE RIEGO POR GOTEO\\n\\n8.1 Suministros y entrega de semillas certificada t¡po transitorio (patilla, melón, ahuyam a, trijol, berenjena, aji, tomate, silantro, papaya,maiz y\\nyuca\\n\\n8.2\\n\\nSum¡nistro y entrega de fertilizantes orgánico humus de lombris\\n\\n8.3 Lorban en polvo bolsas\\n\\n8.4 Lorban líquidos\\n\\n8.5 Bomba para fumigación de 20 litros\\n\\n8.6 Excavación\\n\\n8.7 Alambre Dulce\\n\\n8.8\\n\\nLocalización descapote, limpieza y guarda raya del área perimetral de 1/2 hectárea\\n\\n8.9 Suministro e instalación de puntales\\n\\n8.10 Suministro e instalación de madrinas\\n\\n8.11 Suministro e instalación de alambre de pua de 400 Ms\\n\\n8.12 Grapas para alambre de pua\\n\\nLbs\\nSaco Ke Lts UN MI Kg\\nUN UN UN\\nUN Kg\\n\\n60 s\\n\\n49.109,00\\n\\n30 s 60 s 36 S 6s\\nS 1200\\nt2 S\\n\\nt0t.782,44 13.184,37 23.3s8,7s 329.394,98 4.563,41 13.u6,s9\\n\\n6s s 1020 s 108\\n\\n862.239,30 14.393,66 26.430,38\\n\\n42\\n\\ns\\n\\n217.381,38\\n\\n60 s\\n\\n7.898.75\\n\\n9 SENS|BtLtZAC!Ón y cot¡c¡r¡¡ctActoN AM BtENTAT\\n\\nSUBTOTAI PARCETA AGRICOIA\\n\\n31.096,204,00\\ns 32.545.153,00\\ns 73.836.s99.00\\n$ 1¿14.307.543,00\\ns 311.914,00 s 1.4s0.371,00\\n5 35s.182,00 s 913.072,00\\ns 93.404.00 s 11.179.006.00\\ns 33.691,00 5 189.239,00 s 1.901.197,00 s 1.2s7.8s4.00 5 672.793,00 s 1.423.080,00 s 1.791.624.00 5 1.799.238,00 s 1.6s8.s74,00 s 45.814.500,00 s 70.8/t4.739,00\\ns 2.946.s40,00\\ns 3.053.473,00 s 791.062,00 s 840.9ls.00\\ns 1.976.370,00 5 s.476.092,00\\n5 158.119,00\\ns s.173.436,00 s 14.681.s33,00\\ns 2.8s4.481,00\\ns 9.130.018,00 s 473.925,00\\ns 47.555.964,00\\n\\niltñ\\n\\n\\x0clfl CoNTRATO DE OBRA pÚet¡CA 1,¡o. ltg 2.01S\\n\\nCorpoguoiirq\\n9.1\\n9.2\\n\\nTaller de capacitación amb¡ental, para el\\nmanejo y mantenim¡ento del sistema, uso\\n\\nracional del agua para riego, consumo humano\\ny animal; con material didáctico, personal\\n\\ntécnico y social capacitado\\n\\nUN\\n\\n6\\n\\n5 2.361.119,67\\n\\nPublicidad y divulgación\\n\\nUN\\n\\n1\\n\\ns 49.062.801,54\\n\\nsuBTorAt sENsrBruzAcróru y colr¡cl¡lr¡crActoN AMBtENTAT\\n\\nTOTAT COSTOS DIRECTOS\\n\\nADMINISTRACION IMPREVISTOS UTILIDAD IVA SOBRE UTILIDAD TOTAT PRESUPUESTO\\n\\n2L,95Yo 3,OO% 5,OOYo L9,00%\\n\\ns 14.166.718,00\\ns 49.062.802,00 s 63.229.520,00\\n$ 1.682.831.¿r43.00\\ns 369.422.890,00\\ns 50.484.943,00 s 84.141.572,00 s 1s.986.899,00\\n5 2.202.867.747 ,OO\\n\\nSON: DOS MIL DOSCIENTOS DOS MILLONES OCHOCIENTOS SESENTA Y S¡ETE MIL SETECIENTOS\\nCUARENTA Y SIETE PESOS (52.202.867.747,001M/1, incluido lVA.\\n\\nEL CONTRATISTA\\n\\n0 g llAR 2,:3\\n\\nRODOLFO\\n\\nFERNANDEZ\\n\\nR.L. CONSORCTO POZOS 2018 Contratista\\n\\n6v\\nNTCOP:\\nI 000\\n\\nProyectó: Ronald Neit/Abogado extemo/Oficina Asesora Jurídlcal\\nRevlso y aprobó: Amando Pabút/Jefe Otlcina Asesa Juridlca \\\\lA\\nI\\n\\nGre.7 No. l2-15\\nTefófonos: lil 7282672 I 727Y123 I 7286774\\nTolelax: 151 7274647 www.corpoguallra. gouco Laboratorlo: (5) 7285052 Fonseca: Telélonos: (5) 7756500 Llnea de atención gratulta: 018000054321\\nR¡ohacha \\' Golombla\\n\\n\\x0c'"
     },
     "metadata": {},
     "execution_count": 15
    }
   ],
   "source": [
    "!pdftotext -enc UTF-8 Sample-1.pdf\n",
    "with open('Sample-1.txt', 'r') as file:\n",
    "    text = file.read()\n",
    "text"
   ]
  },
  {
   "cell_type": "markdown",
   "metadata": {},
   "source": [
    "## Con xpdf_python"
   ]
  },
  {
   "cell_type": "code",
   "execution_count": 16,
   "metadata": {},
   "outputs": [
    {
     "output_type": "stream",
     "name": "stdout",
     "text": "No. Of Pages : 13\n"
    },
    {
     "output_type": "execute_result",
     "data": {
      "text/plain": "'CorpoguoliroCONTRATO DE OBRA PÚBLrcA ruO. O O 4 8 2.018Entre los suscritos, LUIS MANUEL MEDINA TORO, mayor de edad, con domicitio en esta ciudad,identificado con cédula de ciudadanía No. 84.025.561 expedida en Riohacha (La Guajira), quienen su condición de Director Generat, por virtud det nombramien'"
     },
     "metadata": {},
     "execution_count": 16
    }
   ],
   "source": [
    "import PyPDF2\n",
    "with open('Sample-1.pdf', 'rb') as pdf_file:\n",
    "    pdfReader= PyPDF2.PdfFileReader(pdf_file)\n",
    "    print(\"No. Of Pages :\", pdfReader.numPages)\n",
    "    pageObject= pdfReader.getPage(0)\n",
    "    text = pageObject.extractText()\n",
    "    pdf_file.close()\n",
    "\n",
    "text[0: 300]"
   ]
  },
  {
   "cell_type": "markdown",
   "metadata": {},
   "source": [
    "## Con PdfMiner"
   ]
  },
  {
   "cell_type": "code",
   "execution_count": 12,
   "metadata": {
    "tags": [
     "outputPrepend",
     "outputPrepend",
     "outputPrepend",
     "outputPrepend",
     "outputPrepend",
     "outputPrepend",
     "outputPrepend",
     "outputPrepend",
     "outputPrepend",
     "outputPrepend",
     "outputPrepend",
     "outputPrepend"
    ]
   },
   "outputs": [],
   "source": [
    " !pdf2txt.py Sample-1.pdf > Sample-1.txt\n",
    " !pdf2txt.py Sample-1.pdf > Sample-1.txt"
   ]
  },
  {
   "cell_type": "code",
   "execution_count": 9,
   "metadata": {},
   "outputs": [
    {
     "output_type": "execute_result",
     "data": {
      "text/plain": "['LIT',\n 'LITERAL_PAGE',\n 'LITERAL_PAGES',\n 'PDFDocument',\n 'PDFObjectNotFound',\n 'PDFPage',\n 'PDFParser',\n 'PDFTextExtractionNotAllowed',\n '__builtins__',\n '__cached__',\n '__doc__',\n '__file__',\n '__loader__',\n '__name__',\n '__package__',\n '__spec__',\n 'dict_value',\n 'int_value',\n 'list_value',\n 'logging',\n 'resolve1']"
     },
     "metadata": {},
     "execution_count": 9
    }
   ],
   "source": [
    "import pdfminer.pdfpage\n",
    "dir(pdfminer.pdfpage)"
   ]
  },
  {
   "cell_type": "markdown",
   "metadata": {},
   "source": [
    "## Correccion Ortografica"
   ]
  },
  {
   "cell_type": "code",
   "execution_count": 8,
   "metadata": {},
   "outputs": [
    {
     "output_type": "execute_result",
     "data": {
      "text/plain": "array(['ababa', 'ababillar', 'ababille', ..., 'zurzo', 'zutano', 'zuzar'],\n      dtype=object)"
     },
     "metadata": {},
     "execution_count": 8
    }
   ],
   "source": [
    "with open('../es_ANY.dic', 'r') as file:\n",
    "    spanish_words = pd.Series(file.readlines())\n",
    "    spanish_words = spanish_words[1:]\n",
    "    spanish_words = spanish_words.apply(lambda word: word.strip())\n",
    "    spanish_words = spanish_words.to_numpy()\n",
    "spanish_words"
   ]
  },
  {
   "cell_type": "code",
   "execution_count": 26,
   "metadata": {},
   "outputs": [],
   "source": [
    "\n",
    "# def key_word(word, N=sum(WORDS.values())): \n",
    "#     return WORDS[word] / N\n",
    "\n",
    "def normalization(word): \n",
    "    return max(candidates(word), key=key_word)\n",
    "\n",
    "def candidates(word):\n",
    "    return (sequence([word]) or sequence(algo(word)) or [word])\n",
    "\n",
    "def sequence(word): \n",
    "    return set(w for w in words if w in spanish_words)\n",
    "\n",
    "def algo(word):\n",
    "    letters    = 'abcdefghijklmnñopqrstuvwxyz'\n",
    "    splits     = [(word[:i], word[i:])    for i in range(len(word) + 1)]\n",
    "    deletes    = [L + R[1:]               for L, R in splits if R]\n",
    "    transposes = [L + R[1] + R[0] + R[2:] for L, R in splits if len(R)>1]\n",
    "    replaces   = [L + c + R[1:]           for L, R in splits if R for c in letters]\n",
    "    inserts    = [L + c + R               for L, R in splits for c in letters]\n",
    "    return set(deletes + transposes + replaces + inserts)\n"
   ]
  },
  {
   "cell_type": "code",
   "execution_count": 33,
   "metadata": {},
   "outputs": [
    {
     "output_type": "error",
     "ename": "SyntaxError",
     "evalue": "invalid syntax (<ipython-input-33-ea40a3d474e8>, line 1)",
     "traceback": [
      "\u001b[0;36m  File \u001b[0;32m\"<ipython-input-33-ea40a3d474e8>\"\u001b[0;36m, line \u001b[0;32m1\u001b[0m\n\u001b[0;31m    candidates('artícuto')rtícuto'))\u001b[0m\n\u001b[0m                          ^\u001b[0m\n\u001b[0;31mSyntaxError\u001b[0m\u001b[0;31m:\u001b[0m invalid syntax\n"
     ]
    }
   ],
   "source": [
    "candidates('artícuto')rtícuto'))"
   ]
  },
  {
   "cell_type": "code",
   "execution_count": 14,
   "metadata": {},
   "outputs": [
    {
     "output_type": "error",
     "ename": "NameError",
     "evalue": "name 'key_word' is not defined",
     "traceback": [
      "\u001b[0;31m---------------------------------------------------------------------------\u001b[0m",
      "\u001b[0;31mNameError\u001b[0m                                 Traceback (most recent call last)",
      "\u001b[0;32m<ipython-input-14-1f833395102a>\u001b[0m in \u001b[0;36m<module>\u001b[0;34m\u001b[0m\n\u001b[0;32m----> 1\u001b[0;31m \u001b[0mnormalization\u001b[0m\u001b[0;34m(\u001b[0m\u001b[0;34m'artícuto'\u001b[0m\u001b[0;34m)\u001b[0m\u001b[0;34m\u001b[0m\u001b[0;34m\u001b[0m\u001b[0m\n\u001b[0m",
      "\u001b[0;32m<ipython-input-11-91696c51505e>\u001b[0m in \u001b[0;36mnormalization\u001b[0;34m(word)\u001b[0m\n\u001b[1;32m      3\u001b[0m \u001b[0;34m\u001b[0m\u001b[0m\n\u001b[1;32m      4\u001b[0m \u001b[0;32mdef\u001b[0m \u001b[0mnormalization\u001b[0m\u001b[0;34m(\u001b[0m\u001b[0mword\u001b[0m\u001b[0;34m)\u001b[0m\u001b[0;34m:\u001b[0m\u001b[0;34m\u001b[0m\u001b[0;34m\u001b[0m\u001b[0m\n\u001b[0;32m----> 5\u001b[0;31m     \u001b[0;32mreturn\u001b[0m \u001b[0mmax\u001b[0m\u001b[0;34m(\u001b[0m\u001b[0mcandidates\u001b[0m\u001b[0;34m(\u001b[0m\u001b[0mword\u001b[0m\u001b[0;34m)\u001b[0m\u001b[0;34m,\u001b[0m \u001b[0mkey\u001b[0m\u001b[0;34m=\u001b[0m\u001b[0mkey_word\u001b[0m\u001b[0;34m)\u001b[0m\u001b[0;34m\u001b[0m\u001b[0;34m\u001b[0m\u001b[0m\n\u001b[0m\u001b[1;32m      6\u001b[0m \u001b[0;34m\u001b[0m\u001b[0m\n\u001b[1;32m      7\u001b[0m \u001b[0;32mdef\u001b[0m \u001b[0mcandidates\u001b[0m\u001b[0;34m(\u001b[0m\u001b[0mword\u001b[0m\u001b[0;34m)\u001b[0m\u001b[0;34m:\u001b[0m\u001b[0;34m\u001b[0m\u001b[0;34m\u001b[0m\u001b[0m\n",
      "\u001b[0;31mNameError\u001b[0m: name 'key_word' is not defined"
     ]
    }
   ],
   "source": [
    "normalization('artícuto')"
   ]
  }
 ],
 "metadata": {
  "kernelspec": {
   "display_name": "Python 3.8.2 64-bit ('tesis': conda)",
   "language": "python",
   "name": "python38264bittesisconda29995916a02741878775711a87a12b58"
  },
  "language_info": {
   "codemirror_mode": {
    "name": "ipython",
    "version": 3
   },
   "file_extension": ".py",
   "mimetype": "text/x-python",
   "name": "python",
   "nbconvert_exporter": "python",
   "pygments_lexer": "ipython3",
   "version": "3.8.2-final"
  }
 },
 "nbformat": 4,
 "nbformat_minor": 4
}