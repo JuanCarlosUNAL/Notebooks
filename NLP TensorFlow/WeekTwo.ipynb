{
 "nbformat": 4,
 "nbformat_minor": 2,
 "metadata": {
  "language_info": {
   "name": "python",
   "codemirror_mode": {
    "name": "ipython",
    "version": 3
   },
   "version": "3.8.1-final"
  },
  "orig_nbformat": 2,
  "file_extension": ".py",
  "mimetype": "text/x-python",
  "name": "python",
  "npconvert_exporter": "python",
  "pygments_lexer": "ipython3",
  "version": 3,
  "kernelspec": {
   "name": "python38164bitnlpconda91879d213a784cd7ad50df7b2e78c33c",
   "display_name": "Python 3.8.1 64-bit ('nlp': conda)"
  }
 },
 "cells": [
  {
   "cell_type": "code",
   "execution_count": 42,
   "metadata": {},
   "outputs": [],
   "source": [
    "import re\n",
    "import pandas as pd\n",
    "import tensorflow as tf\n",
    "from tensorflow.keras.preprocessing.text import Tokenizer\n",
    "from tensorflow.keras.preprocessing.sequence import pad_sequences"
   ]
  },
  {
   "cell_type": "code",
   "execution_count": 197,
   "metadata": {},
   "outputs": [],
   "source": [
    "sentences = [\n",
    "    'Muchos años después, frente al pelotón de fusilamiento, el coronel Aureliano Buendía había de recordar aquella tarde remota en que su padre lo llevó a conocer el hielo',\n",
    "    'Macondo era entonces una aldea de veinte casas de barro y cañabrava construidas a la orilla de un río de aguas diáfanas que se precipitaban por un lecho de piedras pulidas, blancas y enormes como huevos prehistóricos',\n",
    "    'El mundo era tan reciente, que muchas cosas carecían de nombre, y para mencionarlas había que señalarías con el dedo. Todos los años, por el mes de marzo, una familia de gitanos desarrapados plantaba su carpa cerca de la aldea, y con un grande alboroto de pitos y timbales daban a conocer los nuevos inventos. Primero llevaron el imán. Un gitano corpulento, de barba montaraz y manos de gorrión, que se presentó con el nombre de Melquíades, hizo una truculenta demostración pública de lo que él mismo perro llamaba la octava maravilla de los sabios alquimistas de Macedonia',\n",
    "]"
   ]
  },
  {
   "cell_type": "code",
   "execution_count": 209,
   "metadata": {},
   "outputs": [
    {
     "output_type": "execute_result",
     "data": {
      "text/plain": "<OOV>            1\nde               2\nel               3\nque              4\ny                5\n              ... \noctava         104\nmaravilla      105\nsabios         106\nalquimistas    107\nmacedonia      108\nLength: 108, dtype: int64"
     },
     "metadata": {},
     "execution_count": 209
    }
   ],
   "source": [
    "tokenizer = Tokenizer(oov_token = '<OOV>')\n",
    "tokenizer.fit_on_texts(sentences)\n",
    "\n",
    "pd.Series(tokenizer.word_index)"
   ]
  },
  {
   "cell_type": "code",
   "execution_count": 210,
   "metadata": {},
   "outputs": [
    {
     "output_type": "execute_result",
     "data": {
      "text/plain": "[[9, 1, 35, 39, 1, 1], [3, 102, 1, 3, 1]]"
     },
     "metadata": {},
     "execution_count": 210
    }
   ],
   "source": [
    "sequences = tokenizer.texts_to_sequences([\n",
    "    'La vida en Macondo es bella',\n",
    "    'el perro ama el manati'\n",
    "])\n",
    "sequences"
   ]
  },
  {
   "cell_type": "code",
   "execution_count": 216,
   "metadata": {},
   "outputs": [
    {
     "output_type": "execute_result",
     "data": {
      "text/plain": "array([[  9,   1,  35,  39,   1,   1],\n       [  0,   3, 102,   1,   3,   1]], dtype=int32)"
     },
     "metadata": {},
     "execution_count": 216
    }
   ],
   "source": [
    "pad_sequences(sequences)"
   ]
  }
 ]
}